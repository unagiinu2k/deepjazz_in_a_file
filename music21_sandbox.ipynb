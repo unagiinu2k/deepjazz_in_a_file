{
 "cells": [
  {
   "cell_type": "markdown",
   "metadata": {},
   "source": [
    "https://www.rileynwong.com/blog/2019/2/25/generating-music-with-an-lstm-neural-network"
   ]
  },
  {
   "cell_type": "markdown",
   "metadata": {},
   "source": [
    "# tutorial on the web"
   ]
  },
  {
   "cell_type": "markdown",
   "metadata": {},
   "source": [
    "https://towardsdatascience.com/how-to-generate-music-using-a-lstm-neural-network-in-keras-68786834d4c5"
   ]
  },
  {
   "cell_type": "code",
   "execution_count": null,
   "metadata": {},
   "outputs": [],
   "source": [
    "import glob"
   ]
  },
  {
   "cell_type": "code",
   "execution_count": null,
   "metadata": {},
   "outputs": [],
   "source": [
    "from music21 import converter, instrument, note, chord\n",
    "notes = []\n",
    "for file in glob.glob(\"bach/*.xml\"):\n",
    "    midi = converter.parse(file)\n",
    "    notes_to_parse = None\n",
    "    parts = instrument.partitionByInstrument(midi)\n",
    "    if parts: # file has instrument parts\n",
    "        notes_to_parse = parts.parts[0].recurse()\n",
    "    else: # file has notes in a flat structure\n",
    "        notes_to_parse = midi.flat.notes\n",
    "    for element in notes_to_parse:\n",
    "        if isinstance(element, note.Note):\n",
    "            notes.append(str(element.pitch))\n",
    "        elif isinstance(element, chord.Chord):\n",
    "            notes.append('.'.join(str(n) for n in element.normalOrder))"
   ]
  },
  {
   "cell_type": "code",
   "execution_count": null,
   "metadata": {},
   "outputs": [],
   "source": [
    "notes"
   ]
  },
  {
   "cell_type": "markdown",
   "metadata": {},
   "source": [
    "# my own try and error"
   ]
  },
  {
   "cell_type": "code",
   "execution_count": null,
   "metadata": {},
   "outputs": [],
   "source": [
    "#http://d.hatena.ne.jp/naraba/20121201/p1\n",
    "#http://web.mit.edu/music21/doc/usersGuide/usersGuide_01_installing.html\n",
    "\n",
    "from music21 import *"
   ]
  },
  {
   "cell_type": "code",
   "execution_count": null,
   "metadata": {},
   "outputs": [],
   "source": [
    "environment.set('musicxmlPath' , r\"C:\\Program Files (x86)\\Finale NotePad 2012\\Finale NotePad.exe\")\n",
    "#configure.run()\n",
    "#environment.keys()\n",
    "#environment.get('musicxmlPath')"
   ]
  },
  {
   "cell_type": "code",
   "execution_count": null,
   "metadata": {},
   "outputs": [],
   "source": [
    "s = corpus.parse('bach/bwv65.2.xml')"
   ]
  },
  {
   "cell_type": "code",
   "execution_count": null,
   "metadata": {},
   "outputs": [],
   "source": [
    "s.analyze('key')"
   ]
  },
  {
   "cell_type": "code",
   "execution_count": null,
   "metadata": {},
   "outputs": [],
   "source": [
    "s.show('midi')"
   ]
  },
  {
   "cell_type": "code",
   "execution_count": null,
   "metadata": {
    "scrolled": true
   },
   "outputs": [],
   "source": [
    "[type(x) for x in s.getElementsByClass(stream.Stream)] #a lot of \"Part\"s\n",
    "[[print(type(y)) for y in x.getElementsByClass(stream.Stream)] for x in s.getElementsByClass(stream.Stream)]\n",
    "[print(x) for x  in s.flat.getElementsByClass(note.Note)]#example of how to flatten the score\n",
    "#unlike the deepjazz example, each Parts consists of \"Measure\"s\n",
    "type(s)#score\n",
    "\n",
    "#scoreとPartとMeasureがstreamの基本的なsubclass\n",
    "#scoreがpartを複数含み、partはmeasureを複数持つ"
   ]
  },
  {
   "cell_type": "code",
   "execution_count": null,
   "metadata": {},
   "outputs": [],
   "source": []
  },
  {
   "cell_type": "markdown",
   "metadata": {},
   "source": [
    "# Before starting the note...\n",
    "Useful tips for jupyter notebook:\n",
    "\n",
    "https://www.dataquest.io/blog/jupyter-notebook-tips-tricks-shortcuts/"
   ]
  },
  {
   "cell_type": "code",
   "execution_count": 1,
   "metadata": {},
   "outputs": [],
   "source": [
    "#http://d.hatena.ne.jp/naraba/20121201/p1\n",
    "#http://web.mit.edu/music21/doc/usersGuide/usersGuide_01_installing.html\n",
    "\n",
    "from music21 import *\n",
    "#environment.set('musicxmlPath' , r\"C:\\Program Files (x86)\\Finale NotePad 2012\\Finale NotePad.exe\")\n",
    "#configure.run()\n",
    "#environment.keys()\n",
    "#environment.get('musicxmlPath')"
   ]
  },
  {
   "cell_type": "markdown",
   "metadata": {},
   "source": [
    "楽譜を表示するためのおまじない\n",
    "\n",
    "参考URL:https://groups.google.com/forum/#!topic/music21list/FmU6HeNm7AM\n"
   ]
  },
  {
   "cell_type": "code",
   "execution_count": 2,
   "metadata": {},
   "outputs": [],
   "source": [
    "us = environment.UserSettings()"
   ]
  },
  {
   "cell_type": "markdown",
   "metadata": {
    "jupyter": {
     "outputs_hidden": true
    }
   },
   "source": [
    "#us.create()\n",
    "us['musicxmlPath'] = r'C:\\Program Files (x86)\\MuseScore 2\\bin\\MuseScore.exe'\n",
    "us['musescoreDirectPNGPath'] = r'C:\\Program Files (x86)\\MuseScore 2\\bin\\MuseScore.exe'"
   ]
  },
  {
   "cell_type": "markdown",
   "metadata": {},
   "source": [
    "# install musescore in linux (apt-getでインストールするのがポイント）"
   ]
  },
  {
   "cell_type": "markdown",
   "metadata": {},
   "source": [
    "For all those who will struggle with displaying scores from music21 within Jupyter Notebook on Linux (e.g. Ubuntu), follow these steps:\n",
    "https://stackoverflow.com/questions/49939275/python-music21-library-create-png-from-stream/49945456#49945456"
   ]
  },
  {
   "cell_type": "markdown",
   "metadata": {},
   "source": [
    "MuseScoreのバージョンが2から3にあがっていたので、初期設定のままではうごきませんでした。\n",
    "https://qiita.com/nofrmm/items/c3662555b145f6b42d92"
   ]
  },
  {
   "cell_type": "markdown",
   "metadata": {},
   "source": [
    "#us.create()\n",
    "us['musicxmlPath'] = r'/snap/bin/musescore'\n",
    "us['musescoreDirectPNGPath'] = r'/snap/bin/musescore'"
   ]
  },
  {
   "cell_type": "code",
   "execution_count": 3,
   "metadata": {},
   "outputs": [],
   "source": [
    "environment.set(\"musescoreDirectPNGPath\", \"/usr/bin/musescore\")\n",
    "#environment.set(\"musicxmlPath\", \"/snap/bin/musescore\")"
   ]
  },
  {
   "cell_type": "markdown",
   "metadata": {},
   "source": [
    "#us.create()\n",
    "us['musicxmlPath'] = r'/snap/bin/musescore.mscore'\n",
    "us['musescoreDirectPNGPath'] = r'/snap/bin/musescore.mscore'"
   ]
  },
  {
   "cell_type": "code",
   "execution_count": 3,
   "metadata": {},
   "outputs": [],
   "source": [
    "%load_ext music21.ipython21"
   ]
  },
  {
   "cell_type": "markdown",
   "metadata": {},
   "source": [
    "# sandbox"
   ]
  },
  {
   "cell_type": "markdown",
   "metadata": {},
   "source": [
    "# シンプルな例からスタート"
   ]
  },
  {
   "cell_type": "markdown",
   "metadata": {},
   "source": [
    "## note\n",
    "### noteの追加\n",
    "\n",
    "insert works as expected if it is \"Note to Stream\""
   ]
  },
  {
   "cell_type": "code",
   "execution_count": 4,
   "metadata": {},
   "outputs": [],
   "source": [
    "st1=stream.Stream()\n",
    "st1.insert(0,note.Note(\"B-5\"))"
   ]
  },
  {
   "cell_type": "code",
   "execution_count": 5,
   "metadata": {},
   "outputs": [
    {
     "data": {
      "image/png": "[encoded data removed]",
      "text/plain": [
       "<IPython.core.display.Image object>"
      ]
     },
     "metadata": {
      "image/png": {
       "height": 61,
       "width": 159
      }
     },
     "output_type": "display_data"
    }
   ],
   "source": [
    "st1.show()"
   ]
  },
  {
   "cell_type": "markdown",
   "metadata": {},
   "source": [
    "位置を指定して挿入する場合はinsertを使う"
   ]
  },
  {
   "cell_type": "code",
   "execution_count": null,
   "metadata": {},
   "outputs": [],
   "source": [
    "st1=stream.Stream()\n",
    "st1.insert(0,note.Note(\"B-4\"))\n",
    "st1.insert(1,note.Note(\"B-4\"))\n",
    "st1.insert(2,note.Note(\"B#3\"))\n",
    "st1.insert(3,note.Note(\"B#3\"))\n",
    "st1.insert(4 , note.Note(\"B3\"))\n",
    "st1.insert(4 , note.Note(\"B2\"))\n",
    "st1.insert(5 , note.Note(\"C4\"))\n",
    "st1.insert(9 , note.Note(\"C4\"))\n",
    "st1.show()"
   ]
  },
  {
   "cell_type": "markdown",
   "metadata": {},
   "source": [
    "appendは最後に追加してくれるので位置の指定をしなくてよくて便利"
   ]
  },
  {
   "cell_type": "code",
   "execution_count": null,
   "metadata": {},
   "outputs": [],
   "source": [
    "st1.append(note.Note(\"C4\"))\n",
    "st1.show()"
   ]
  },
  {
   "cell_type": "markdown",
   "metadata": {},
   "source": [
    "### 音のシフト\n",
    "C4をMajor 3rd(長三度)だけシフトした音すなわちE4を追加"
   ]
  },
  {
   "cell_type": "code",
   "execution_count": null,
   "metadata": {},
   "outputs": [],
   "source": [
    "st1=stream.Stream()\n",
    "st1.insert(0 , note.Note(\"C4\"))\n",
    "st1.insert(6 , note.Note(\"C4\").transpose(\"M3\"))\n",
    "st1.show()"
   ]
  },
  {
   "cell_type": "markdown",
   "metadata": {},
   "source": [
    "E4をdouble diminished 6th（重減６度？）だけシフトした音を追加。\n",
    "ただし、double diminishedやdouble augumentedが実際に使われることはまれとのこと。\n",
    "（https://en.wikipedia.org/wiki/Interval_(music)#Main_intervals\n",
    "を参照。日本語版wikipediaはいまいちなので英語版を見ること）\n",
    "\n",
    "\n",
    "\n",
    "その他の参考URL：\n",
    "\n",
    "http://guitarchord-lab.com/theory/interval.html\n",
    "\n"
   ]
  },
  {
   "cell_type": "code",
   "execution_count": null,
   "metadata": {},
   "outputs": [],
   "source": [
    "st1 = stream.Stream()\n",
    "st1.append(note.Note(\"E4\"))\n",
    "st1.append(note.Note(\"E4\").transpose(\"M6\"))\n",
    "st1.append(note.Note(\"E4\").transpose(\"m6\"))\n",
    "st1.append(note.Note(\"E4\").transpose(\"d6\"))\n",
    "st1.append(note.Note(\"E4\").transpose(\"dd6\"))\n",
    "st1.show()"
   ]
  },
  {
   "cell_type": "markdown",
   "metadata": {},
   "source": [
    "なお、例えばC4の重減六度なるものは存在しないっぽい。したがって普通にラ（長６度・Major 6th）がappendされてしまう。"
   ]
  },
  {
   "cell_type": "code",
   "execution_count": null,
   "metadata": {},
   "outputs": [],
   "source": [
    "st1=stream.Stream()\n",
    "st1.append(note.Note(\"C4\"))\n",
    "st1.append(note.Note(\"C4\").transpose(\"M6\"))\n",
    "st1.append(note.Note(\"C4\").transpose(\"m6\"))\n",
    "st1.append(note.Note(\"C4\").transpose(\"d6\"))\n",
    "st1.append(note.Note(\"C4\").transpose(\"dd6\"))\n",
    "st1.show()"
   ]
  },
  {
   "cell_type": "markdown",
   "metadata": {},
   "source": [
    "そして６度には完全６度というものは存在しない"
   ]
  },
  {
   "cell_type": "code",
   "execution_count": null,
   "metadata": {},
   "outputs": [],
   "source": [
    "st1=stream.Stream()\n",
    "st1.append(note.Note(\"C4\").transpose(\"P6\")) #returns error"
   ]
  },
  {
   "cell_type": "markdown",
   "metadata": {},
   "source": [
    "完全５度がなぜ完全ともみなされてきたか？それはドとソの周波数比がほぼほぼ2:3になっているから。\n",
    "すなわち、$2^{7/12}\\approx 1.5$であるから："
   ]
  },
  {
   "cell_type": "code",
   "execution_count": null,
   "metadata": {},
   "outputs": [],
   "source": [
    "print(2**(7/12))"
   ]
  },
  {
   "cell_type": "markdown",
   "metadata": {},
   "source": [
    "同様に完全４度はほぼほぼ３：４になっている。すなわち、\n",
    "$2^{5/12}\\approx\\frac{4}{3}$："
   ]
  },
  {
   "cell_type": "code",
   "execution_count": null,
   "metadata": {},
   "outputs": [],
   "source": [
    "print(2**(5/12))"
   ]
  },
  {
   "cell_type": "markdown",
   "metadata": {},
   "source": [
    "（時間的な）offsetの範囲を調べるには以下のようにすればいいだろう（？）"
   ]
  },
  {
   "cell_type": "code",
   "execution_count": null,
   "metadata": {},
   "outputs": [],
   "source": [
    "st1 = stream.Stream()\n",
    "st1.append(note.Note(\"E4\"))\n",
    "st1.append(note.Note(\"E4\").transpose(\"M6\"))\n",
    "st1.append(note.Note(\"E4\").transpose(\"m6\"))\n",
    "st1.append(note.Note(\"E4\").transpose(\"d6\"))\n",
    "st1.append(note.Note(\"E4\").transpose(\"dd6\"))\n",
    "max_offset = max([x.offset for x in st1])\n",
    "print(max_offset)"
   ]
  },
  {
   "cell_type": "markdown",
   "metadata": {},
   "source": [
    "最後に付け加えるのをinsertでやるのであれば、以下のようにすればよいだろう"
   ]
  },
  {
   "cell_type": "code",
   "execution_count": null,
   "metadata": {},
   "outputs": [],
   "source": [
    "st1.insert(max_offset + 1 , note.Note(\"C3\"))\n",
    "st1.show()"
   ]
  },
  {
   "cell_type": "markdown",
   "metadata": {},
   "source": [
    "appendは以下のようにまとめて行うことができる（ただし、和音を付け加えるような動作ではない）"
   ]
  },
  {
   "cell_type": "code",
   "execution_count": null,
   "metadata": {},
   "outputs": [],
   "source": [
    "st1.append([note.Note(\"D4\") , note.Note(\"E4\")])\n",
    "st1.show()"
   ]
  },
  {
   "cell_type": "markdown",
   "metadata": {},
   "source": [
    "以下のように和音を追加することはできない・・"
   ]
  },
  {
   "cell_type": "code",
   "execution_count": null,
   "metadata": {},
   "outputs": [],
   "source": [
    "st1.insert(max_offset + 1 , [note.Note(\"D4\") , note.Note(\"E4\")]) #returns error"
   ]
  },
  {
   "cell_type": "markdown",
   "metadata": {},
   "source": [
    "あるoffsetの範囲を切り取るには・・・"
   ]
  },
  {
   "cell_type": "code",
   "execution_count": null,
   "metadata": {},
   "outputs": [],
   "source": [
    "st1.getElementsByOffset(0,4).show()"
   ]
  },
  {
   "cell_type": "markdown",
   "metadata": {},
   "source": [
    "ただし、ヒエラルヒーがある場合の切り取り方はまだ試行削除中・・"
   ]
  },
  {
   "cell_type": "markdown",
   "metadata": {},
   "source": [
    "### 音の高さの差"
   ]
  },
  {
   "cell_type": "markdown",
   "metadata": {},
   "source": [
    "#### 半音を100とするfloatで取出"
   ]
  },
  {
   "cell_type": "code",
   "execution_count": null,
   "metadata": {},
   "outputs": [],
   "source": [
    "interval.notesToChromatic(note.Note(\"D5\") , note.Note(\"D#4\")).cents"
   ]
  },
  {
   "cell_type": "code",
   "execution_count": null,
   "metadata": {
    "scrolled": true
   },
   "outputs": [],
   "source": [
    "run_diff = interval.notesToChromatic(note.Note(\"D4\") , note.Note(\"D4#\"))"
   ]
  },
  {
   "cell_type": "code",
   "execution_count": null,
   "metadata": {},
   "outputs": [],
   "source": [
    "run_diff.cents"
   ]
  },
  {
   "cell_type": "markdown",
   "metadata": {},
   "source": [
    "#### 逆"
   ]
  },
  {
   "cell_type": "code",
   "execution_count": null,
   "metadata": {},
   "outputs": [],
   "source": [
    "note.Note(\"C0\").transpose(1).nameWithOctave"
   ]
  },
  {
   "cell_type": "markdown",
   "metadata": {},
   "source": [
    "### 音の大きさ（velocity)"
   ]
  },
  {
   "cell_type": "code",
   "execution_count": null,
   "metadata": {},
   "outputs": [],
   "source": [
    "n= note.Note(\"B-4\")\n",
    "n.volume.velocity = 200"
   ]
  },
  {
   "cell_type": "markdown",
   "metadata": {},
   "source": [
    "### テンポ"
   ]
  },
  {
   "cell_type": "code",
   "execution_count": null,
   "metadata": {},
   "outputs": [],
   "source": [
    "run_score = stream.Score()\n",
    "bpm = 180\n",
    "run_score.insert(0.0, tempo.MetronomeMark(number=bpm)) "
   ]
  },
  {
   "cell_type": "markdown",
   "metadata": {},
   "source": [
    "### 音のoffset"
   ]
  },
  {
   "cell_type": "markdown",
   "metadata": {},
   "source": [
    "floatで指定されている場合とfraction.fractionで指定されている場合があるので統計処理する場合はfloat()でcastしてやる必要がある"
   ]
  },
  {
   "cell_type": "markdown",
   "metadata": {},
   "source": [
    "## 楽器の指定、key signature（調記号・調号）の追加など"
   ]
  },
  {
   "cell_type": "code",
   "execution_count": null,
   "metadata": {},
   "outputs": [],
   "source": [
    "st3=stream.Stream()\n",
    "st3.append(note.Note(\"C4\"))\n",
    "st3.append(instrument.ElectricGuitar())\n",
    "st3.append(note.Note(\"C4\"))\n",
    "st3.append(instrument.Piano())\n",
    "st3.append(note.Note(\"C4\"))\n",
    "st3.append(key.KeySignature(1))\n",
    "st3.append(note.Note(\"C4\"))\n",
    "st3.append(key.KeySignature(2))"
   ]
  },
  {
   "cell_type": "markdown",
   "metadata": {},
   "source": [
    "上記でいいのか？\n",
    "(慣習的にどうかはともかく入力として許容されるのか？)\n",
    "\n",
    "↑たぶんダメ。楽器はinsertで指定すべき！"
   ]
  },
  {
   "cell_type": "code",
   "execution_count": null,
   "metadata": {},
   "outputs": [],
   "source": [
    "st3.getInstrument()"
   ]
  },
  {
   "cell_type": "code",
   "execution_count": null,
   "metadata": {},
   "outputs": [],
   "source": [
    "[x for x in st3.getInstruments()]"
   ]
  },
  {
   "cell_type": "markdown",
   "metadata": {},
   "source": [
    "### 楽器名の文字列での取り出し方"
   ]
  },
  {
   "cell_type": "code",
   "execution_count": null,
   "metadata": {},
   "outputs": [],
   "source": [
    "st3.getInstrument().instrumentName"
   ]
  },
  {
   "cell_type": "markdown",
   "metadata": {},
   "source": [
    "## score, part, measureについて"
   ]
  },
  {
   "cell_type": "markdown",
   "metadata": {},
   "source": [
    "scoreとPartとMeasureがstreamの基本的なsubclass\n",
    "\n",
    "scoreがpartを複数含み、partはmeasureを複数持つ、というのが基本的なScoreの構成（deep jazzの例のようにそうでないヒエラルヒーを持つ場合もある）。\n",
    "この「基本的な構成」を持つ例としてバッハの楽譜xmlファイルを読み込む"
   ]
  },
  {
   "cell_type": "code",
   "execution_count": null,
   "metadata": {},
   "outputs": [],
   "source": [
    "s_bach = corpus.parse('bach/bwv65.2.xml')"
   ]
  },
  {
   "cell_type": "markdown",
   "metadata": {},
   "source": [
    "このscoreは４つのPartから構成される。\n",
    "\n",
    "各Partは各楽器に対応していて、それぞれひとつずつPartがある。"
   ]
  },
  {
   "cell_type": "code",
   "execution_count": null,
   "metadata": {},
   "outputs": [],
   "source": [
    "[type(x) for x in s_bach.getElementsByClass(stream.Stream)] #a lot of \"Part\"s"
   ]
  },
  {
   "cell_type": "markdown",
   "metadata": {},
   "source": [
    "このBachの例ではPartはmeasure(小節)から成る。"
   ]
  },
  {
   "cell_type": "code",
   "execution_count": null,
   "metadata": {},
   "outputs": [],
   "source": [
    "[\" \".join([str(type(y)) for y in x.getElementsByClass(stream.Stream)]) for x in s_bach.getElementsByClass(stream.Stream)]"
   ]
  },
  {
   "cell_type": "markdown",
   "metadata": {},
   "source": [
    "ただし、\n",
    "\n",
    "http://web.mit.edu/music21/doc/usersGuide/usersGuide_06_stream2.html\n",
    "\n",
    "に注意があるように、PartはtimeSignatureやkeySignatureなども格納できるので、getElementByClassでアクセスするほうが安全:"
   ]
  },
  {
   "cell_type": "code",
   "execution_count": null,
   "metadata": {},
   "outputs": [],
   "source": [
    "print(len([x for x in s_bach]))\n",
    "print(len([type(x) for x in s_bach.getElementsByClass(stream.Stream)] ))"
   ]
  },
  {
   "cell_type": "markdown",
   "metadata": {},
   "source": [
    "### appendの動作\n",
    "noteを追加すると後ろに音を追加\n",
    "streamのsubclassを追加した場合はヒエラルヒーを構成する、けれど時間的順序はnoteを追加した場合と同じ？？？"
   ]
  },
  {
   "cell_type": "code",
   "execution_count": null,
   "metadata": {},
   "outputs": [],
   "source": [
    "st0 = stream.Stream()\n",
    "st0.append(note.Note(\"D4\"))\n",
    "st1 = stream.Stream()\n",
    "st1.append(note.Note(\"C4\"))\n",
    "st0.append(st1)\n",
    "st0.show()"
   ]
  },
  {
   "cell_type": "code",
   "execution_count": null,
   "metadata": {},
   "outputs": [],
   "source": [
    "st0 = stream.Stream()\n",
    "st0.append(note.Note(\"D4\"))\n",
    "st1 = stream.Stream()\n",
    "st1.append(note.Note(\"C4\"))\n",
    "st2 = stream.Stream()\n",
    "st2.append(st0)\n",
    "st2.append(st1)\n",
    "st2.show()"
   ]
  },
  {
   "cell_type": "code",
   "execution_count": null,
   "metadata": {},
   "outputs": [],
   "source": [
    "[type(i) for i in st2]"
   ]
  },
  {
   "cell_type": "code",
   "execution_count": null,
   "metadata": {},
   "outputs": [],
   "source": [
    "st0 = stream.Stream()\n",
    "st0.insert(0, note.Note(\"D4\"))\n",
    "st1 = stream.Stream()\n",
    "st1.insert(0,note.Note(\"C4\"))\n",
    "st2 = stream.Stream()\n",
    "st2.append(st0)\n",
    "st2.append(st1)\n",
    "st2.show()"
   ]
  },
  {
   "cell_type": "code",
   "execution_count": null,
   "metadata": {},
   "outputs": [],
   "source": [
    "[type(i) for i in st2]"
   ]
  },
  {
   "cell_type": "code",
   "execution_count": null,
   "metadata": {},
   "outputs": [],
   "source": [
    "st0 = stream.Stream()\n",
    "st0.insert(0, note.Note(\"D4\"))\n",
    "st1 = stream.Stream()\n",
    "st1.insert(0,note.Note(\"C4\"))\n",
    "st2 = stream.Stream()\n",
    "st2.insert(0 , st0)\n",
    "st2.insert(0, st1)\n",
    "st2.show()"
   ]
  },
  {
   "cell_type": "code",
   "execution_count": null,
   "metadata": {},
   "outputs": [],
   "source": [
    "[type(i) for i in st2]"
   ]
  },
  {
   "cell_type": "markdown",
   "metadata": {},
   "source": [
    "### 上記のヒエラルヒーと異なる構造を持つ例\n",
    "\n",
    "deepjazzの例では\n",
    "\n",
    "Score (midi_data) > Part (melody_stream) > Voice (melody1,2 , melody_voice) ＞ Note\n",
    "\n",
    "という階層に従ってデータを切り出しているように見える。\n",
    "すなわちPartはMeasureを持たず、その代わり（？）にVoice(声)を持っている："
   ]
  },
  {
   "cell_type": "code",
   "execution_count": null,
   "metadata": {},
   "outputs": [],
   "source": [
    "s_jazz = converter.parse('C:/Users/t/PycharmProjects/deepjazz_in_a_file/midi/original_metheny.mid')"
   ]
  },
  {
   "cell_type": "code",
   "execution_count": null,
   "metadata": {},
   "outputs": [],
   "source": [
    "s_jazz_parts = [x for x in s_jazz.getElementsByClass(stream.Part)]\n",
    "len(s_jazz_parts)"
   ]
  },
  {
   "cell_type": "markdown",
   "metadata": {},
   "source": [
    "partは楽器が指定してあったりなかったり。"
   ]
  },
  {
   "cell_type": "code",
   "execution_count": null,
   "metadata": {},
   "outputs": [],
   "source": [
    "[x.getInstrument() for x in s_jazz.getElementsByClass(stream.Part)]"
   ]
  },
  {
   "cell_type": "code",
   "execution_count": null,
   "metadata": {},
   "outputs": [],
   "source": [
    "s_jazz_part0_voices = [x for x in s_jazz_parts[0].getElementsByClass(stream.Voice)]\n",
    "len(s_jazz_part0_voices)"
   ]
  },
  {
   "cell_type": "markdown",
   "metadata": {},
   "source": [
    "partの構成要素であるvoiceにも同様にinstrumentが指定してあったりしなかったり。おそらく、partレベルで指定しておき、それが構成要素であるvoiceに遺伝している形か"
   ]
  },
  {
   "cell_type": "code",
   "execution_count": null,
   "metadata": {},
   "outputs": [],
   "source": [
    "[x.getInstrument() for x in s_jazz_parts[a].getElementsByClass(stream.Voice)]"
   ]
  },
  {
   "cell_type": "code",
   "execution_count": null,
   "metadata": {},
   "outputs": [],
   "source": [
    "s_jazz_part0_voices.show()"
   ]
  },
  {
   "cell_type": "code",
   "execution_count": null,
   "metadata": {},
   "outputs": [],
   "source": [
    "s_jazz_part0_voices[0].show()"
   ]
  },
  {
   "cell_type": "markdown",
   "metadata": {},
   "source": [
    "VoiceのなかにMeasureがあるかと思いきやそんなものはない："
   ]
  },
  {
   "cell_type": "code",
   "execution_count": null,
   "metadata": {},
   "outputs": [],
   "source": [
    "len(s_jazz_part0_voices[0].getElementsByClass(stream.Measure))"
   ]
  },
  {
   "cell_type": "markdown",
   "metadata": {},
   "source": [
    "ではなにが入っているかといえば、（ScoreのなかのPartのなかの）各PartのVoice[0]はおおむねChordから構成されている（他はnote.Rest, note.Noteが少々）："
   ]
  },
  {
   "cell_type": "code",
   "execution_count": null,
   "metadata": {},
   "outputs": [],
   "source": [
    "\"   \".join([str(type(x)) for x in s_jazz_part0_voices[0]])"
   ]
  },
  {
   "cell_type": "markdown",
   "metadata": {},
   "source": [
    "おそらく各パートのvoice[1]以降はおおむねnoteから構成されている（？）"
   ]
  },
  {
   "cell_type": "markdown",
   "metadata": {},
   "source": [
    "であるが、deepjazzでchordパートを切り出す際にはそのように決め打つことなく、solo_stream[0]からremoveByClassでnoteを除外しつつすべてのchordを抽出している。\n",
    "また、melodyパートはsolo_stream[-1]から特に除外操作をすることなくすべてのnoteを抽出できている（？）"
   ]
  },
  {
   "cell_type": "code",
   "execution_count": null,
   "metadata": {},
   "outputs": [],
   "source": [
    "\"   \".join([str(type(x)) for x in s_jazz_part0_voices[1]])"
   ]
  },
  {
   "cell_type": "markdown",
   "metadata": {},
   "source": [
    "http://www.mathgram.xyz/entry/plotly の下のほうを参考に（上の方は冗長）"
   ]
  },
  {
   "cell_type": "code",
   "execution_count": null,
   "metadata": {},
   "outputs": [],
   "source": [
    "\n",
    "# Get melody part, compress into single voice.\n",
    "melody_stream = s_jazz[5]     # For Metheny piece, Melody is Part #5.\n",
    "melody1, melody2 = melody_stream.getElementsByClass(stream.Voice)"
   ]
  },
  {
   "cell_type": "code",
   "execution_count": null,
   "metadata": {},
   "outputs": [],
   "source": [
    "# import plotly as offline mode\n",
    "import plotly.offline as offline\n",
    "import plotly.graph_objs as go\n",
    "offline.init_notebook_mode(connected=False)\n",
    "\n",
    "from sklearn.datasets import load_iris\n",
    "import pandas as pd\n",
    "import numpy as np\n",
    "\n",
    "iris = load_iris()\n",
    "columns = iris.feature_names\n",
    "\n",
    "# make dataframe\n",
    "df = pd.DataFrame(iris.data, columns=columns)\n",
    "\n",
    "# make trace\n",
    "trace = go.Scatter(\n",
    "    x = np.array([float(j.offset) for j in melody1][0:1000]),\n",
    "    y = np.array([float(j.offset) for j in melody2][0:1000]),\n",
    "    mode = \"markers\")\n",
    "\n",
    "# define layout\n",
    "layout = go.Layout(\n",
    "    showlegend=False)\n",
    "\n",
    "data = [trace]\n",
    "fig = dict(data=data, layout=layout)\n",
    "offline.iplot(fig)"
   ]
  },
  {
   "cell_type": "markdown",
   "metadata": {},
   "source": [
    "### voice（声）とは？"
   ]
  },
  {
   "cell_type": "markdown",
   "metadata": {},
   "source": [
    "https://detail.chiebukuro.yahoo.co.jp/qa/question_detail/q125207687\n",
    "参照。\n",
    "- 例えば合唱であれば、３声というのは三人で歌っているイメージ。\n",
    "- ピアノの場合、おなじことをひとりでできてしまうので単一のピアノパートのなかに複数のvoiceがありえる（ということか？）\n",
    "\n",
    "さらに推理すれば、\n",
    "\n",
    "- midiのなかのpartの分け方に恣意性はないが、そのなかのvoiceへの切り方には恣意性がある（切り分け方を変えても出てくる音は変わらない）ために、partのなかのvoiceはそもそもmergeすべき存在であると言えるか\n",
    "- メセニーの例でもパート５に存在するふたつのvoiceを「すべて」マージしてしまっている\n",
    "\n",
    "\n",
    "\n"
   ]
  },
  {
   "cell_type": "markdown",
   "metadata": {},
   "source": [
    "### accompaniment  (伴奏) part"
   ]
  },
  {
   "cell_type": "markdown",
   "metadata": {},
   "source": [
    "メセニーの例ではパート0,1,6,7が伴奏パートとのこと。\n",
    "- ではそれ以外は？？？\n",
    "- その他の多くのパートには楽器が登録されていない。\n",
    "- ただし、パート１１はパートゼロと同じくピアノがアサインされている。"
   ]
  },
  {
   "cell_type": "markdown",
   "metadata": {},
   "source": [
    "パート２はなにか意味があるような内容に見えるが・・・"
   ]
  },
  {
   "cell_type": "code",
   "execution_count": null,
   "metadata": {},
   "outputs": [],
   "source": [
    "s_jazz[2].show()"
   ]
  },
  {
   "cell_type": "markdown",
   "metadata": {},
   "source": [
    "他方、パート１１はずっとソ＃をたたいているだけ"
   ]
  },
  {
   "cell_type": "code",
   "execution_count": null,
   "metadata": {},
   "outputs": [],
   "source": [
    "s_jazz[11].show()"
   ]
  },
  {
   "cell_type": "markdown",
   "metadata": {},
   "source": [
    "### フラット化\n",
    "\n",
    "フラット化してもクラスは変わらない。すなわち、\n",
    "+ stream.Streamをフラットにするとフラットなstream.Streamが\n",
    "+ stream.Scoreをフラットにするとフラットなstream.Scoreが\n",
    "\n",
    "できることになる。\n",
    "\n",
    "そして、それぞれダイレクトにnoteが収納されている。"
   ]
  },
  {
   "cell_type": "code",
   "execution_count": null,
   "metadata": {},
   "outputs": [],
   "source": [
    "st1.flat"
   ]
  },
  {
   "cell_type": "code",
   "execution_count": null,
   "metadata": {},
   "outputs": [],
   "source": [
    "\" \".join([str(type(x)) for x  in s_bach.flat.getElementsByClass(note.Note)])#example of how to flatten the score"
   ]
  },
  {
   "cell_type": "code",
   "execution_count": null,
   "metadata": {},
   "outputs": [],
   "source": [
    "\" \".join([str(type(x)) for x  in s_jazz.flat.getElementsByClass(note.Note)])#example of how to flatten the score"
   ]
  },
  {
   "cell_type": "code",
   "execution_count": null,
   "metadata": {},
   "outputs": [],
   "source": [
    "print(type(s_bach.flat))#score\n",
    "print(type(s_jazz.flat))#score"
   ]
  },
  {
   "cell_type": "markdown",
   "metadata": {},
   "source": [
    "### flat化およびvoice, partの使い分けについて"
   ]
  },
  {
   "cell_type": "markdown",
   "metadata": {},
   "source": [
    "- flat化してひとつのvoiceに収納することが例えばdeep learningに突っ込むための合理的な前処理 \n",
    "- ただし、複数の楽器をまとめたオブジェクトの構成部品はpartでなくてはならない"
   ]
  },
  {
   "cell_type": "markdown",
   "metadata": {},
   "source": [
    "## chord（和音）について\n",
    "\n",
    "ChordもNoteもGeneralNoteの派生クラス\n",
    "\n",
    "参考URL：\n",
    "http://web.mit.edu/music21/doc/moduleReference/moduleNote.html#music21.note.GeneralNote\n",
    "\n",
    "deep jazzの解明のためにはChord、すなわち「和音」の理解が重要そうなので少し深堀してみる\n",
    "\n",
    "参考URL:\n",
    "http://web.mit.edu/music21/doc/usersGuide/usersGuide_07_chords.html"
   ]
  },
  {
   "cell_type": "markdown",
   "metadata": {},
   "source": [
    "chord（和音）の作り方："
   ]
  },
  {
   "cell_type": "code",
   "execution_count": null,
   "metadata": {},
   "outputs": [],
   "source": [
    "cMinor = chord.Chord([\"C4\", \"G4\",\"E-5\"])"
   ]
  },
  {
   "cell_type": "code",
   "execution_count": null,
   "metadata": {},
   "outputs": [],
   "source": [
    "cMinor.show()"
   ]
  },
  {
   "cell_type": "code",
   "execution_count": null,
   "metadata": {},
   "outputs": [],
   "source": [
    "len(cMinor)"
   ]
  },
  {
   "cell_type": "markdown",
   "metadata": {},
   "source": [
    "### pitch(音高)\n",
    "noteにはpitch（音高）があるが、"
   ]
  },
  {
   "cell_type": "code",
   "execution_count": null,
   "metadata": {},
   "outputs": [],
   "source": [
    "note.Note(\"C4\").pitch"
   ]
  },
  {
   "cell_type": "markdown",
   "metadata": {},
   "source": [
    "Chord（和音）にはpitchはない："
   ]
  },
  {
   "cell_type": "code",
   "execution_count": null,
   "metadata": {},
   "outputs": [],
   "source": [
    "cMinor.pitch # returns errof"
   ]
  },
  {
   "cell_type": "markdown",
   "metadata": {},
   "source": [
    "そのかわりpitchesがある："
   ]
  },
  {
   "cell_type": "code",
   "execution_count": null,
   "metadata": {},
   "outputs": [],
   "source": [
    "cMinor.pitches"
   ]
  },
  {
   "cell_type": "markdown",
   "metadata": {},
   "source": [
    "### MajorかMinorか\n",
    "MajorかMinorかを判別してくれるメソッドはこれ："
   ]
  },
  {
   "cell_type": "code",
   "execution_count": null,
   "metadata": {},
   "outputs": [],
   "source": [
    "cMinor.isMajorTriad()"
   ]
  },
  {
   "cell_type": "markdown",
   "metadata": {},
   "source": [
    "英和対応：\n",
    "+ triad : 三和音\n",
    "+ major triad : 長三和音\n",
    "+ minor triad : 短三和音"
   ]
  },
  {
   "cell_type": "markdown",
   "metadata": {},
   "source": [
    "日本語wikipedia\n",
    "https://ja.wikipedia.org/wiki/%E7%9F%AD%E4%B8%89%E5%92%8C%E9%9F%B3\n",
    "によれば、短三和音は\n",
    "+ base\n",
    "+ base + m3\n",
    "+ base + P5\n",
    "によって構成される三和音とのことだが・・・"
   ]
  },
  {
   "cell_type": "code",
   "execution_count": null,
   "metadata": {},
   "outputs": [],
   "source": [
    "cMinor.isMinorTriad()"
   ]
  },
  {
   "cell_type": "markdown",
   "metadata": {},
   "source": [
    "はTrueになるのでisMinorTriadの判定基準は日本語wikipediaの定義と異なる？\n",
    "\n",
    "というより、オクターブの違いは無視している(すわわちmod 12)ということか?\n",
    "\n",
    "より近接した音で構成される和音に変えるには以下のようにする："
   ]
  },
  {
   "cell_type": "code",
   "execution_count": null,
   "metadata": {},
   "outputs": [],
   "source": [
    "cMinor.closedPosition().show()"
   ]
  },
  {
   "cell_type": "markdown",
   "metadata": {},
   "source": [
    "コードの「名前」を知りたければ以下のようにする："
   ]
  },
  {
   "cell_type": "code",
   "execution_count": null,
   "metadata": {},
   "outputs": [],
   "source": [
    "print(cMinor.commonName)"
   ]
  },
  {
   "cell_type": "markdown",
   "metadata": {},
   "source": [
    "メソッドisMajorTriadが何をやっているかは以下で解明できるはず：（だがスキップして先に進もう）"
   ]
  },
  {
   "cell_type": "code",
   "execution_count": null,
   "metadata": {},
   "outputs": [],
   "source": [
    "cMinor.isMajorTriad??"
   ]
  },
  {
   "cell_type": "markdown",
   "metadata": {},
   "source": [
    "ドミソをミソドにしたようなのを展開形という。展開形かどうかのチェックは以下のようにする："
   ]
  },
  {
   "cell_type": "code",
   "execution_count": null,
   "metadata": {},
   "outputs": [],
   "source": [
    "cMinor.inversion()"
   ]
  },
  {
   "cell_type": "markdown",
   "metadata": {},
   "source": [
    "## scale(音階)について"
   ]
  },
  {
   "cell_type": "code",
   "execution_count": null,
   "metadata": {},
   "outputs": [],
   "source": [
    "scaleType = scale.MajorScale()"
   ]
  },
  {
   "cell_type": "markdown",
   "metadata": {},
   "source": [
    "http://web.mit.edu/music21/doc/moduleReference/moduleScale.html\n",
    "\n",
    "によれば\n",
    "\n",
    "ConcreteScale.derive(other, comparisonAttribute='pitchClass')\n",
    "\n",
    "Return the closest-matching ConcreteScale based on the pitch collection provided as a Stream, a ConcreteScale, or a list of Pitch objects.\n",
    "\n",
    "要は音階がドミソ（すべて白鍵）ならドレミファソラシド（すべて白鍵）が含まれているC Major音階と推定するような感じか。\n",
    "推定アルゴリズムは変化の可能性ありと公式ウェブにも書いてある"
   ]
  },
  {
   "cell_type": "code",
   "execution_count": null,
   "metadata": {},
   "outputs": [],
   "source": [
    "scaleType.derive(cMinor)"
   ]
  },
  {
   "cell_type": "code",
   "execution_count": null,
   "metadata": {},
   "outputs": [],
   "source": [
    "scales = scale.MinorScale().derive(cMinor)\n",
    "scales"
   ]
  },
  {
   "cell_type": "markdown",
   "metadata": {},
   "source": [
    "推定されたscaleに含まれる音を確認"
   ]
  },
  {
   "cell_type": "code",
   "execution_count": null,
   "metadata": {},
   "outputs": [],
   "source": [
    "set([pitch for pitch in scales.getPitches()])"
   ]
  },
  {
   "cell_type": "markdown",
   "metadata": {},
   "source": [
    "ドリアンスケールの場合の例"
   ]
  },
  {
   "cell_type": "code",
   "execution_count": null,
   "metadata": {},
   "outputs": [],
   "source": [
    "scaleType = scale.DorianScale()\n",
    "scales = scaleType.derive(cMinor)"
   ]
  },
  {
   "cell_type": "markdown",
   "metadata": {},
   "source": [
    "## 微分音（microtonal)\n",
    "\n",
    "参考URL:\n",
    "\n",
    "https://en.wikipedia.org/wiki/Microtonal_music\n",
    "\n",
    "https://groups.google.com/forum/#!topic/music21list/-8PTr2gU8Hs\n",
    "\n",
    "http://web.mit.edu/music21/doc/moduleReference/modulePitch.html#music21.pitch.Pitch.convertMicrotonesToQuarterTones\n"
   ]
  },
  {
   "cell_type": "markdown",
   "metadata": {},
   "source": [
    "## その他の基本的なscoreに対する操作(あまり必要ないかも)"
   ]
  },
  {
   "cell_type": "code",
   "execution_count": null,
   "metadata": {},
   "outputs": [],
   "source": [
    "s.analyze('key')"
   ]
  },
  {
   "cell_type": "markdown",
   "metadata": {},
   "source": [
    "s.show('midi')"
   ]
  },
  {
   "cell_type": "markdown",
   "metadata": {},
   "source": [
    "s.show()"
   ]
  },
  {
   "cell_type": "markdown",
   "metadata": {},
   "source": [
    "## tinynotationについて"
   ]
  },
  {
   "cell_type": "code",
   "execution_count": null,
   "metadata": {},
   "outputs": [],
   "source": [
    "p = converter.parse(\"tinynotation: 3/4 c4 d8 f g16 a g f#\")"
   ]
  },
  {
   "cell_type": "code",
   "execution_count": null,
   "metadata": {},
   "outputs": [],
   "source": [
    "s2 = stream.Stream()\n",
    "s2.insert(0  , p)#adding part, first argument should be offset??"
   ]
  },
  {
   "cell_type": "code",
   "execution_count": null,
   "metadata": {},
   "outputs": [],
   "source": [
    "s2.show()"
   ]
  },
  {
   "cell_type": "code",
   "execution_count": null,
   "metadata": {},
   "outputs": [],
   "source": [
    "q=converter.parse(\"tinynotation: c4 d8 f g16 a g f#\")\n",
    "s2.insert(100,q)"
   ]
  },
  {
   "cell_type": "code",
   "execution_count": null,
   "metadata": {},
   "outputs": [],
   "source": [
    "s2.show()"
   ]
  },
  {
   "cell_type": "code",
   "execution_count": null,
   "metadata": {},
   "outputs": [],
   "source": [
    "r=converter.parse(\"tinynotation: c4 d8 f g16 a g f#\")\n",
    "s2.insert(10,r)\n",
    "s2.show()"
   ]
  },
  {
   "cell_type": "code",
   "execution_count": null,
   "metadata": {},
   "outputs": [],
   "source": [
    "s2.insert?"
   ]
  },
  {
   "cell_type": "code",
   "execution_count": null,
   "metadata": {},
   "outputs": [],
   "source": [
    "?s2.insert"
   ]
  }
 ],
 "metadata": {
  "kernelspec": {
   "display_name": "test",
   "language": "python",
   "name": "test"
  },
  "language_info": {
   "codemirror_mode": {
    "name": "ipython",
    "version": 3
   },
   "file_extension": ".py",
   "mimetype": "text/x-python",
   "name": "python",
   "nbconvert_exporter": "python",
   "pygments_lexer": "ipython3",
   "version": "3.7.3"
  },
  "toc-autonumbering": true
 },
 "nbformat": 4,
 "nbformat_minor": 4
}
