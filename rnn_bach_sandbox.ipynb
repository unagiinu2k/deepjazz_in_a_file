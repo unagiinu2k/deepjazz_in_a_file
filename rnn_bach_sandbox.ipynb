{
 "cells": [
  {
   "cell_type": "code",
   "execution_count": null,
   "metadata": {},
   "outputs": [],
   "source": [
    "%%bash\n",
    "git commit -a -m \"checkpoint\""
   ]
  },
  {
   "cell_type": "markdown",
   "metadata": {},
   "source": [
    "https://www.rileynwong.com/blog/2019/2/25/generating-music-with-an-lstm-neural-network"
   ]
  },
  {
   "cell_type": "code",
   "execution_count": 5,
   "metadata": {},
   "outputs": [],
   "source": [
    "from IPython.core.debugger import Pdb"
   ]
  },
  {
   "cell_type": "markdown",
   "metadata": {},
   "source": [
    "# bokeh initialization"
   ]
  },
  {
   "cell_type": "code",
   "execution_count": 76,
   "metadata": {},
   "outputs": [
    {
     "data": {
      "text/html": [
       "\n",
       "    <div class=\"bk-root\">\n",
       "        <a href=\"https://bokeh.pydata.org\" target=\"_blank\" class=\"bk-logo bk-logo-small bk-logo-notebook\"></a>\n",
       "        <span id=\"1002\">Loading BokehJS ...</span>\n",
       "    </div>"
      ]
     },
     "metadata": {},
     "output_type": "display_data"
    },
    {
     "data": {
      "application/javascript": [
       "\n",
       "(function(root) {\n",
       "  function now() {\n",
       "    return new Date();\n",
       "  }\n",
       "\n",
       "  var force = true;\n",
       "\n",
       "  if (typeof root._bokeh_onload_callbacks === \"undefined\" || force === true) {\n",
       "    root._bokeh_onload_callbacks = [];\n",
       "    root._bokeh_is_loading = undefined;\n",
       "  }\n",
       "\n",
       "  var JS_MIME_TYPE = 'application/javascript';\n",
       "  var HTML_MIME_TYPE = 'text/html';\n",
       "  var EXEC_MIME_TYPE = 'application/vnd.bokehjs_exec.v0+json';\n",
       "  var CLASS_NAME = 'output_bokeh rendered_html';\n",
       "\n",
       "  /**\n",
       "   * Render data to the DOM node\n",
       "   */\n",
       "  function render(props, node) {\n",
       "    var script = document.createElement(\"script\");\n",
       "    node.appendChild(script);\n",
       "  }\n",
       "\n",
       "  /**\n",
       "   * Handle when an output is cleared or removed\n",
       "   */\n",
       "  function handleClearOutput(event, handle) {\n",
       "    var cell = handle.cell;\n",
       "\n",
       "    var id = cell.output_area._bokeh_element_id;\n",
       "    var server_id = cell.output_area._bokeh_server_id;\n",
       "    // Clean up Bokeh references\n",
       "    if (id != null && id in Bokeh.index) {\n",
       "      Bokeh.index[id].model.document.clear();\n",
       "      delete Bokeh.index[id];\n",
       "    }\n",
       "\n",
       "    if (server_id !== undefined) {\n",
       "      // Clean up Bokeh references\n",
       "      var cmd = \"from bokeh.io.state import curstate; print(curstate().uuid_to_server['\" + server_id + \"'].get_sessions()[0].document.roots[0]._id)\";\n",
       "      cell.notebook.kernel.execute(cmd, {\n",
       "        iopub: {\n",
       "          output: function(msg) {\n",
       "            var id = msg.content.text.trim();\n",
       "            if (id in Bokeh.index) {\n",
       "              Bokeh.index[id].model.document.clear();\n",
       "              delete Bokeh.index[id];\n",
       "            }\n",
       "          }\n",
       "        }\n",
       "      });\n",
       "      // Destroy server and session\n",
       "      var cmd = \"import bokeh.io.notebook as ion; ion.destroy_server('\" + server_id + \"')\";\n",
       "      cell.notebook.kernel.execute(cmd);\n",
       "    }\n",
       "  }\n",
       "\n",
       "  /**\n",
       "   * Handle when a new output is added\n",
       "   */\n",
       "  function handleAddOutput(event, handle) {\n",
       "    var output_area = handle.output_area;\n",
       "    var output = handle.output;\n",
       "\n",
       "    // limit handleAddOutput to display_data with EXEC_MIME_TYPE content only\n",
       "    if ((output.output_type != \"display_data\") || (!output.data.hasOwnProperty(EXEC_MIME_TYPE))) {\n",
       "      return\n",
       "    }\n",
       "\n",
       "    var toinsert = output_area.element.find(\".\" + CLASS_NAME.split(' ')[0]);\n",
       "\n",
       "    if (output.metadata[EXEC_MIME_TYPE][\"id\"] !== undefined) {\n",
       "      toinsert[toinsert.length - 1].firstChild.textContent = output.data[JS_MIME_TYPE];\n",
       "      // store reference to embed id on output_area\n",
       "      output_area._bokeh_element_id = output.metadata[EXEC_MIME_TYPE][\"id\"];\n",
       "    }\n",
       "    if (output.metadata[EXEC_MIME_TYPE][\"server_id\"] !== undefined) {\n",
       "      var bk_div = document.createElement(\"div\");\n",
       "      bk_div.innerHTML = output.data[HTML_MIME_TYPE];\n",
       "      var script_attrs = bk_div.children[0].attributes;\n",
       "      for (var i = 0; i < script_attrs.length; i++) {\n",
       "        toinsert[toinsert.length - 1].firstChild.setAttribute(script_attrs[i].name, script_attrs[i].value);\n",
       "      }\n",
       "      // store reference to server id on output_area\n",
       "      output_area._bokeh_server_id = output.metadata[EXEC_MIME_TYPE][\"server_id\"];\n",
       "    }\n",
       "  }\n",
       "\n",
       "  function register_renderer(events, OutputArea) {\n",
       "\n",
       "    function append_mime(data, metadata, element) {\n",
       "      // create a DOM node to render to\n",
       "      var toinsert = this.create_output_subarea(\n",
       "        metadata,\n",
       "        CLASS_NAME,\n",
       "        EXEC_MIME_TYPE\n",
       "      );\n",
       "      this.keyboard_manager.register_events(toinsert);\n",
       "      // Render to node\n",
       "      var props = {data: data, metadata: metadata[EXEC_MIME_TYPE]};\n",
       "      render(props, toinsert[toinsert.length - 1]);\n",
       "      element.append(toinsert);\n",
       "      return toinsert\n",
       "    }\n",
       "\n",
       "    /* Handle when an output is cleared or removed */\n",
       "    events.on('clear_output.CodeCell', handleClearOutput);\n",
       "    events.on('delete.Cell', handleClearOutput);\n",
       "\n",
       "    /* Handle when a new output is added */\n",
       "    events.on('output_added.OutputArea', handleAddOutput);\n",
       "\n",
       "    /**\n",
       "     * Register the mime type and append_mime function with output_area\n",
       "     */\n",
       "    OutputArea.prototype.register_mime_type(EXEC_MIME_TYPE, append_mime, {\n",
       "      /* Is output safe? */\n",
       "      safe: true,\n",
       "      /* Index of renderer in `output_area.display_order` */\n",
       "      index: 0\n",
       "    });\n",
       "  }\n",
       "\n",
       "  // register the mime type if in Jupyter Notebook environment and previously unregistered\n",
       "  if (root.Jupyter !== undefined) {\n",
       "    var events = require('base/js/events');\n",
       "    var OutputArea = require('notebook/js/outputarea').OutputArea;\n",
       "\n",
       "    if (OutputArea.prototype.mime_types().indexOf(EXEC_MIME_TYPE) == -1) {\n",
       "      register_renderer(events, OutputArea);\n",
       "    }\n",
       "  }\n",
       "\n",
       "  \n",
       "  if (typeof (root._bokeh_timeout) === \"undefined\" || force === true) {\n",
       "    root._bokeh_timeout = Date.now() + 5000;\n",
       "    root._bokeh_failed_load = false;\n",
       "  }\n",
       "\n",
       "  var NB_LOAD_WARNING = {'data': {'text/html':\n",
       "     \"<div style='background-color: #fdd'>\\n\"+\n",
       "     \"<p>\\n\"+\n",
       "     \"BokehJS does not appear to have successfully loaded. If loading BokehJS from CDN, this \\n\"+\n",
       "     \"may be due to a slow or bad network connection. Possible fixes:\\n\"+\n",
       "     \"</p>\\n\"+\n",
       "     \"<ul>\\n\"+\n",
       "     \"<li>re-rerun `output_notebook()` to attempt to load from CDN again, or</li>\\n\"+\n",
       "     \"<li>use INLINE resources instead, as so:</li>\\n\"+\n",
       "     \"</ul>\\n\"+\n",
       "     \"<code>\\n\"+\n",
       "     \"from bokeh.resources import INLINE\\n\"+\n",
       "     \"output_notebook(resources=INLINE)\\n\"+\n",
       "     \"</code>\\n\"+\n",
       "     \"</div>\"}};\n",
       "\n",
       "  function display_loaded() {\n",
       "    var el = document.getElementById(\"1002\");\n",
       "    if (el != null) {\n",
       "      el.textContent = \"BokehJS is loading...\";\n",
       "    }\n",
       "    if (root.Bokeh !== undefined) {\n",
       "      if (el != null) {\n",
       "        el.textContent = \"BokehJS \" + root.Bokeh.version + \" successfully loaded.\";\n",
       "      }\n",
       "    } else if (Date.now() < root._bokeh_timeout) {\n",
       "      setTimeout(display_loaded, 100)\n",
       "    }\n",
       "  }\n",
       "\n",
       "\n",
       "  function run_callbacks() {\n",
       "    try {\n",
       "      root._bokeh_onload_callbacks.forEach(function(callback) {\n",
       "        if (callback != null)\n",
       "          callback();\n",
       "      });\n",
       "    } finally {\n",
       "      delete root._bokeh_onload_callbacks\n",
       "    }\n",
       "    console.debug(\"Bokeh: all callbacks have finished\");\n",
       "  }\n",
       "\n",
       "  function load_libs(css_urls, js_urls, callback) {\n",
       "    if (css_urls == null) css_urls = [];\n",
       "    if (js_urls == null) js_urls = [];\n",
       "\n",
       "    root._bokeh_onload_callbacks.push(callback);\n",
       "    if (root._bokeh_is_loading > 0) {\n",
       "      console.debug(\"Bokeh: BokehJS is being loaded, scheduling callback at\", now());\n",
       "      return null;\n",
       "    }\n",
       "    if (js_urls == null || js_urls.length === 0) {\n",
       "      run_callbacks();\n",
       "      return null;\n",
       "    }\n",
       "    console.debug(\"Bokeh: BokehJS not loaded, scheduling load and callback at\", now());\n",
       "    root._bokeh_is_loading = css_urls.length + js_urls.length;\n",
       "\n",
       "    function on_load() {\n",
       "      root._bokeh_is_loading--;\n",
       "      if (root._bokeh_is_loading === 0) {\n",
       "        console.debug(\"Bokeh: all BokehJS libraries/stylesheets loaded\");\n",
       "        run_callbacks()\n",
       "      }\n",
       "    }\n",
       "\n",
       "    function on_error() {\n",
       "      console.error(\"failed to load \" + url);\n",
       "    }\n",
       "\n",
       "    for (var i = 0; i < css_urls.length; i++) {\n",
       "      var url = css_urls[i];\n",
       "      const element = document.createElement(\"link\");\n",
       "      element.onload = on_load;\n",
       "      element.onerror = on_error;\n",
       "      element.rel = \"stylesheet\";\n",
       "      element.type = \"text/css\";\n",
       "      element.href = url;\n",
       "      console.debug(\"Bokeh: injecting link tag for BokehJS stylesheet: \", url);\n",
       "      document.body.appendChild(element);\n",
       "    }\n",
       "\n",
       "    for (var i = 0; i < js_urls.length; i++) {\n",
       "      var url = js_urls[i];\n",
       "      var element = document.createElement('script');\n",
       "      element.onload = on_load;\n",
       "      element.onerror = on_error;\n",
       "      element.async = false;\n",
       "      element.src = url;\n",
       "      console.debug(\"Bokeh: injecting script tag for BokehJS library: \", url);\n",
       "      document.head.appendChild(element);\n",
       "    }\n",
       "  };var element = document.getElementById(\"1002\");\n",
       "  if (element == null) {\n",
       "    console.error(\"Bokeh: ERROR: autoload.js configured with elementid '1002' but no matching script tag was found. \")\n",
       "    return false;\n",
       "  }\n",
       "\n",
       "  function inject_raw_css(css) {\n",
       "    const element = document.createElement(\"style\");\n",
       "    element.appendChild(document.createTextNode(css));\n",
       "    document.body.appendChild(element);\n",
       "  }\n",
       "\n",
       "  var js_urls = [\"https://cdn.pydata.org/bokeh/release/bokeh-1.2.0.min.js\", \"https://cdn.pydata.org/bokeh/release/bokeh-widgets-1.2.0.min.js\", \"https://cdn.pydata.org/bokeh/release/bokeh-tables-1.2.0.min.js\", \"https://cdn.pydata.org/bokeh/release/bokeh-gl-1.2.0.min.js\"];\n",
       "  var css_urls = [\"https://cdn.pydata.org/bokeh/release/bokeh-1.2.0.min.css\", \"https://cdn.pydata.org/bokeh/release/bokeh-widgets-1.2.0.min.css\", \"https://cdn.pydata.org/bokeh/release/bokeh-tables-1.2.0.min.css\"];\n",
       "\n",
       "  var inline_js = [\n",
       "    function(Bokeh) {\n",
       "      Bokeh.set_log_level(\"info\");\n",
       "    },\n",
       "    \n",
       "    function(Bokeh) {\n",
       "      \n",
       "    },\n",
       "    function(Bokeh) {} // ensure no trailing comma for IE\n",
       "  ];\n",
       "\n",
       "  function run_inline_js() {\n",
       "    \n",
       "    if ((root.Bokeh !== undefined) || (force === true)) {\n",
       "      for (var i = 0; i < inline_js.length; i++) {\n",
       "        inline_js[i].call(root, root.Bokeh);\n",
       "      }if (force === true) {\n",
       "        display_loaded();\n",
       "      }} else if (Date.now() < root._bokeh_timeout) {\n",
       "      setTimeout(run_inline_js, 100);\n",
       "    } else if (!root._bokeh_failed_load) {\n",
       "      console.log(\"Bokeh: BokehJS failed to load within specified timeout.\");\n",
       "      root._bokeh_failed_load = true;\n",
       "    } else if (force !== true) {\n",
       "      var cell = $(document.getElementById(\"1002\")).parents('.cell').data().cell;\n",
       "      cell.output_area.append_execute_result(NB_LOAD_WARNING)\n",
       "    }\n",
       "\n",
       "  }\n",
       "\n",
       "  if (root._bokeh_is_loading === 0) {\n",
       "    console.debug(\"Bokeh: BokehJS loaded, going straight to plotting\");\n",
       "    run_inline_js();\n",
       "  } else {\n",
       "    load_libs(css_urls, js_urls, function() {\n",
       "      console.debug(\"Bokeh: BokehJS plotting callback run at\", now());\n",
       "      run_inline_js();\n",
       "    });\n",
       "  }\n",
       "}(window));"
      ],
      "application/vnd.bokehjs_load.v0+json": "\n(function(root) {\n  function now() {\n    return new Date();\n  }\n\n  var force = true;\n\n  if (typeof root._bokeh_onload_callbacks === \"undefined\" || force === true) {\n    root._bokeh_onload_callbacks = [];\n    root._bokeh_is_loading = undefined;\n  }\n\n  \n\n  \n  if (typeof (root._bokeh_timeout) === \"undefined\" || force === true) {\n    root._bokeh_timeout = Date.now() + 5000;\n    root._bokeh_failed_load = false;\n  }\n\n  var NB_LOAD_WARNING = {'data': {'text/html':\n     \"<div style='background-color: #fdd'>\\n\"+\n     \"<p>\\n\"+\n     \"BokehJS does not appear to have successfully loaded. If loading BokehJS from CDN, this \\n\"+\n     \"may be due to a slow or bad network connection. Possible fixes:\\n\"+\n     \"</p>\\n\"+\n     \"<ul>\\n\"+\n     \"<li>re-rerun `output_notebook()` to attempt to load from CDN again, or</li>\\n\"+\n     \"<li>use INLINE resources instead, as so:</li>\\n\"+\n     \"</ul>\\n\"+\n     \"<code>\\n\"+\n     \"from bokeh.resources import INLINE\\n\"+\n     \"output_notebook(resources=INLINE)\\n\"+\n     \"</code>\\n\"+\n     \"</div>\"}};\n\n  function display_loaded() {\n    var el = document.getElementById(\"1002\");\n    if (el != null) {\n      el.textContent = \"BokehJS is loading...\";\n    }\n    if (root.Bokeh !== undefined) {\n      if (el != null) {\n        el.textContent = \"BokehJS \" + root.Bokeh.version + \" successfully loaded.\";\n      }\n    } else if (Date.now() < root._bokeh_timeout) {\n      setTimeout(display_loaded, 100)\n    }\n  }\n\n\n  function run_callbacks() {\n    try {\n      root._bokeh_onload_callbacks.forEach(function(callback) {\n        if (callback != null)\n          callback();\n      });\n    } finally {\n      delete root._bokeh_onload_callbacks\n    }\n    console.debug(\"Bokeh: all callbacks have finished\");\n  }\n\n  function load_libs(css_urls, js_urls, callback) {\n    if (css_urls == null) css_urls = [];\n    if (js_urls == null) js_urls = [];\n\n    root._bokeh_onload_callbacks.push(callback);\n    if (root._bokeh_is_loading > 0) {\n      console.debug(\"Bokeh: BokehJS is being loaded, scheduling callback at\", now());\n      return null;\n    }\n    if (js_urls == null || js_urls.length === 0) {\n      run_callbacks();\n      return null;\n    }\n    console.debug(\"Bokeh: BokehJS not loaded, scheduling load and callback at\", now());\n    root._bokeh_is_loading = css_urls.length + js_urls.length;\n\n    function on_load() {\n      root._bokeh_is_loading--;\n      if (root._bokeh_is_loading === 0) {\n        console.debug(\"Bokeh: all BokehJS libraries/stylesheets loaded\");\n        run_callbacks()\n      }\n    }\n\n    function on_error() {\n      console.error(\"failed to load \" + url);\n    }\n\n    for (var i = 0; i < css_urls.length; i++) {\n      var url = css_urls[i];\n      const element = document.createElement(\"link\");\n      element.onload = on_load;\n      element.onerror = on_error;\n      element.rel = \"stylesheet\";\n      element.type = \"text/css\";\n      element.href = url;\n      console.debug(\"Bokeh: injecting link tag for BokehJS stylesheet: \", url);\n      document.body.appendChild(element);\n    }\n\n    for (var i = 0; i < js_urls.length; i++) {\n      var url = js_urls[i];\n      var element = document.createElement('script');\n      element.onload = on_load;\n      element.onerror = on_error;\n      element.async = false;\n      element.src = url;\n      console.debug(\"Bokeh: injecting script tag for BokehJS library: \", url);\n      document.head.appendChild(element);\n    }\n  };var element = document.getElementById(\"1002\");\n  if (element == null) {\n    console.error(\"Bokeh: ERROR: autoload.js configured with elementid '1002' but no matching script tag was found. \")\n    return false;\n  }\n\n  function inject_raw_css(css) {\n    const element = document.createElement(\"style\");\n    element.appendChild(document.createTextNode(css));\n    document.body.appendChild(element);\n  }\n\n  var js_urls = [\"https://cdn.pydata.org/bokeh/release/bokeh-1.2.0.min.js\", \"https://cdn.pydata.org/bokeh/release/bokeh-widgets-1.2.0.min.js\", \"https://cdn.pydata.org/bokeh/release/bokeh-tables-1.2.0.min.js\", \"https://cdn.pydata.org/bokeh/release/bokeh-gl-1.2.0.min.js\"];\n  var css_urls = [\"https://cdn.pydata.org/bokeh/release/bokeh-1.2.0.min.css\", \"https://cdn.pydata.org/bokeh/release/bokeh-widgets-1.2.0.min.css\", \"https://cdn.pydata.org/bokeh/release/bokeh-tables-1.2.0.min.css\"];\n\n  var inline_js = [\n    function(Bokeh) {\n      Bokeh.set_log_level(\"info\");\n    },\n    \n    function(Bokeh) {\n      \n    },\n    function(Bokeh) {} // ensure no trailing comma for IE\n  ];\n\n  function run_inline_js() {\n    \n    if ((root.Bokeh !== undefined) || (force === true)) {\n      for (var i = 0; i < inline_js.length; i++) {\n        inline_js[i].call(root, root.Bokeh);\n      }if (force === true) {\n        display_loaded();\n      }} else if (Date.now() < root._bokeh_timeout) {\n      setTimeout(run_inline_js, 100);\n    } else if (!root._bokeh_failed_load) {\n      console.log(\"Bokeh: BokehJS failed to load within specified timeout.\");\n      root._bokeh_failed_load = true;\n    } else if (force !== true) {\n      var cell = $(document.getElementById(\"1002\")).parents('.cell').data().cell;\n      cell.output_area.append_execute_result(NB_LOAD_WARNING)\n    }\n\n  }\n\n  if (root._bokeh_is_loading === 0) {\n    console.debug(\"Bokeh: BokehJS loaded, going straight to plotting\");\n    run_inline_js();\n  } else {\n    load_libs(css_urls, js_urls, function() {\n      console.debug(\"Bokeh: BokehJS plotting callback run at\", now());\n      run_inline_js();\n    });\n  }\n}(window));"
     },
     "metadata": {},
     "output_type": "display_data"
    }
   ],
   "source": [
    "from bokeh.transform import jitter\n",
    "import bokeh.plotting as bp\n",
    "from bokeh import palettes\n",
    "bp.output_notebook()\n",
    "from bokeh.models import ColumnDataSource"
   ]
  },
  {
   "cell_type": "markdown",
   "metadata": {},
   "source": [
    "# data preparation"
   ]
  },
  {
   "cell_type": "code",
   "execution_count": 6,
   "metadata": {},
   "outputs": [],
   "source": [
    "import glob"
   ]
  },
  {
   "cell_type": "markdown",
   "metadata": {},
   "source": [
    "## preparation I wrote  (main)"
   ]
  },
  {
   "cell_type": "code",
   "execution_count": 7,
   "metadata": {},
   "outputs": [],
   "source": [
    "max_sequence_length = 100"
   ]
  },
  {
   "cell_type": "code",
   "execution_count": 8,
   "metadata": {},
   "outputs": [],
   "source": [
    "def split_list(l, n):\n",
    "    \"\"\"\n",
    "    リストをサブリストに分割する\n",
    "    :param l: リスト\n",
    "    :param n: サブリストの要素数\n",
    "    :return: \n",
    "    \"\"\"\n",
    "    for idx in range(0, len(l), n):\n",
    "        yield l[idx:idx + n]"
   ]
  },
  {
   "cell_type": "code",
   "execution_count": 9,
   "metadata": {
    "scrolled": true
   },
   "outputs": [],
   "source": [
    "from music21 import converter, instrument, note, chord"
   ]
  },
  {
   "cell_type": "code",
   "execution_count": 18,
   "metadata": {
    "scrolled": true
   },
   "outputs": [
    {
     "name": "stdout",
     "output_type": "stream",
     "text": [
      "chorales/midi/028100b_.mid\n",
      "chorales/midi/026100b_.mid\n",
      "chorales/midi/028700b_.mid\n",
      "chorales/midi/032200b_.mid\n",
      "chorales/midi/065900b_.mid\n",
      "> \u001b[0;32m<ipython-input-18-6505840baa65>\u001b[0m(21)\u001b[0;36m<module>\u001b[0;34m()\u001b[0m\n",
      "\u001b[0;32m     19 \u001b[0;31m            \u001b[0mPdb\u001b[0m\u001b[0;34m(\u001b[0m\u001b[0;34m)\u001b[0m\u001b[0;34m.\u001b[0m\u001b[0mset_trace\u001b[0m\u001b[0;34m(\u001b[0m\u001b[0;34m)\u001b[0m\u001b[0;34m\u001b[0m\u001b[0;34m\u001b[0m\u001b[0m\n",
      "\u001b[0m\u001b[0;32m     20 \u001b[0;31m            \u001b[0;31m#Pdb().set_trace()\u001b[0m\u001b[0;34m\u001b[0m\u001b[0;34m\u001b[0m\u001b[0;34m\u001b[0m\u001b[0m\n",
      "\u001b[0m\u001b[0;32m---> 21 \u001b[0;31m            \u001b[0mrun_notes\u001b[0m\u001b[0;34m.\u001b[0m\u001b[0mappend\u001b[0m\u001b[0;34m(\u001b[0m\u001b[0;34m'.'\u001b[0m\u001b[0;34m.\u001b[0m\u001b[0mjoin\u001b[0m\u001b[0;34m(\u001b[0m\u001b[0mstr\u001b[0m\u001b[0;34m(\u001b[0m\u001b[0mn\u001b[0m\u001b[0;34m)\u001b[0m \u001b[0;32mfor\u001b[0m \u001b[0mn\u001b[0m \u001b[0;32min\u001b[0m \u001b[0melement\u001b[0m\u001b[0;34m.\u001b[0m\u001b[0mnormalOrder\u001b[0m\u001b[0;34m)\u001b[0m\u001b[0;34m)\u001b[0m\u001b[0;34m\u001b[0m\u001b[0;34m\u001b[0m\u001b[0m\n",
      "\u001b[0m\u001b[0;32m     22 \u001b[0;31m    \u001b[0mnote_set\u001b[0m \u001b[0;34m=\u001b[0m \u001b[0mnote_set\u001b[0m \u001b[0;34m|\u001b[0m \u001b[0mset\u001b[0m\u001b[0;34m(\u001b[0m\u001b[0mrun_notes\u001b[0m\u001b[0;34m)\u001b[0m\u001b[0;34m\u001b[0m\u001b[0;34m\u001b[0m\u001b[0m\n",
      "\u001b[0m\u001b[0;32m     23 \u001b[0;31m    \u001b[0;32mfor\u001b[0m \u001b[0mn\u001b[0m \u001b[0;32min\u001b[0m \u001b[0msplit_list\u001b[0m\u001b[0;34m(\u001b[0m\u001b[0mrun_notes\u001b[0m \u001b[0;34m,\u001b[0m \u001b[0mmax_sequence_length\u001b[0m\u001b[0;34m)\u001b[0m\u001b[0;34m:\u001b[0m\u001b[0;34m\u001b[0m\u001b[0;34m\u001b[0m\u001b[0m\n",
      "\u001b[0m\n"
     ]
    },
    {
     "name": "stdin",
     "output_type": "stream",
     "text": [
      "ipdb>  midi\n"
     ]
    },
    {
     "name": "stdout",
     "output_type": "stream",
     "text": [
      "<music21.stream.Score 0x7f84df3867f0>\n"
     ]
    },
    {
     "name": "stdin",
     "output_type": "stream",
     "text": [
      "ipdb>  file\n"
     ]
    },
    {
     "name": "stdout",
     "output_type": "stream",
     "text": [
      "'chorales/midi/065900b_.mid'\n"
     ]
    },
    {
     "name": "stdin",
     "output_type": "stream",
     "text": [
      "ipdb>  q\n"
     ]
    },
    {
     "ename": "BdbQuit",
     "evalue": "",
     "output_type": "error",
     "traceback": [
      "\u001b[0;31m---------------------------------------------------------------------------\u001b[0m",
      "\u001b[0;31mBdbQuit\u001b[0m                                   Traceback (most recent call last)",
      "\u001b[0;32m<ipython-input-18-6505840baa65>\u001b[0m in \u001b[0;36m<module>\u001b[0;34m\u001b[0m\n\u001b[1;32m     19\u001b[0m             \u001b[0mPdb\u001b[0m\u001b[0;34m(\u001b[0m\u001b[0;34m)\u001b[0m\u001b[0;34m.\u001b[0m\u001b[0mset_trace\u001b[0m\u001b[0;34m(\u001b[0m\u001b[0;34m)\u001b[0m\u001b[0;34m\u001b[0m\u001b[0;34m\u001b[0m\u001b[0m\n\u001b[1;32m     20\u001b[0m             \u001b[0;31m#Pdb().set_trace()\u001b[0m\u001b[0;34m\u001b[0m\u001b[0;34m\u001b[0m\u001b[0;34m\u001b[0m\u001b[0m\n\u001b[0;32m---> 21\u001b[0;31m             \u001b[0mrun_notes\u001b[0m\u001b[0;34m.\u001b[0m\u001b[0mappend\u001b[0m\u001b[0;34m(\u001b[0m\u001b[0;34m'.'\u001b[0m\u001b[0;34m.\u001b[0m\u001b[0mjoin\u001b[0m\u001b[0;34m(\u001b[0m\u001b[0mstr\u001b[0m\u001b[0;34m(\u001b[0m\u001b[0mn\u001b[0m\u001b[0;34m)\u001b[0m \u001b[0;32mfor\u001b[0m \u001b[0mn\u001b[0m \u001b[0;32min\u001b[0m \u001b[0melement\u001b[0m\u001b[0;34m.\u001b[0m\u001b[0mnormalOrder\u001b[0m\u001b[0;34m)\u001b[0m\u001b[0;34m)\u001b[0m\u001b[0;34m\u001b[0m\u001b[0;34m\u001b[0m\u001b[0m\n\u001b[0m\u001b[1;32m     22\u001b[0m     \u001b[0mnote_set\u001b[0m \u001b[0;34m=\u001b[0m \u001b[0mnote_set\u001b[0m \u001b[0;34m|\u001b[0m \u001b[0mset\u001b[0m\u001b[0;34m(\u001b[0m\u001b[0mrun_notes\u001b[0m\u001b[0;34m)\u001b[0m\u001b[0;34m\u001b[0m\u001b[0;34m\u001b[0m\u001b[0m\n\u001b[1;32m     23\u001b[0m     \u001b[0;32mfor\u001b[0m \u001b[0mn\u001b[0m \u001b[0;32min\u001b[0m \u001b[0msplit_list\u001b[0m\u001b[0;34m(\u001b[0m\u001b[0mrun_notes\u001b[0m \u001b[0;34m,\u001b[0m \u001b[0mmax_sequence_length\u001b[0m\u001b[0;34m)\u001b[0m\u001b[0;34m:\u001b[0m\u001b[0;34m\u001b[0m\u001b[0;34m\u001b[0m\u001b[0m\n",
      "\u001b[0;32m<ipython-input-18-6505840baa65>\u001b[0m in \u001b[0;36m<module>\u001b[0;34m\u001b[0m\n\u001b[1;32m     19\u001b[0m             \u001b[0mPdb\u001b[0m\u001b[0;34m(\u001b[0m\u001b[0;34m)\u001b[0m\u001b[0;34m.\u001b[0m\u001b[0mset_trace\u001b[0m\u001b[0;34m(\u001b[0m\u001b[0;34m)\u001b[0m\u001b[0;34m\u001b[0m\u001b[0;34m\u001b[0m\u001b[0m\n\u001b[1;32m     20\u001b[0m             \u001b[0;31m#Pdb().set_trace()\u001b[0m\u001b[0;34m\u001b[0m\u001b[0;34m\u001b[0m\u001b[0;34m\u001b[0m\u001b[0m\n\u001b[0;32m---> 21\u001b[0;31m             \u001b[0mrun_notes\u001b[0m\u001b[0;34m.\u001b[0m\u001b[0mappend\u001b[0m\u001b[0;34m(\u001b[0m\u001b[0;34m'.'\u001b[0m\u001b[0;34m.\u001b[0m\u001b[0mjoin\u001b[0m\u001b[0;34m(\u001b[0m\u001b[0mstr\u001b[0m\u001b[0;34m(\u001b[0m\u001b[0mn\u001b[0m\u001b[0;34m)\u001b[0m \u001b[0;32mfor\u001b[0m \u001b[0mn\u001b[0m \u001b[0;32min\u001b[0m \u001b[0melement\u001b[0m\u001b[0;34m.\u001b[0m\u001b[0mnormalOrder\u001b[0m\u001b[0;34m)\u001b[0m\u001b[0;34m)\u001b[0m\u001b[0;34m\u001b[0m\u001b[0;34m\u001b[0m\u001b[0m\n\u001b[0m\u001b[1;32m     22\u001b[0m     \u001b[0mnote_set\u001b[0m \u001b[0;34m=\u001b[0m \u001b[0mnote_set\u001b[0m \u001b[0;34m|\u001b[0m \u001b[0mset\u001b[0m\u001b[0;34m(\u001b[0m\u001b[0mrun_notes\u001b[0m\u001b[0;34m)\u001b[0m\u001b[0;34m\u001b[0m\u001b[0;34m\u001b[0m\u001b[0m\n\u001b[1;32m     23\u001b[0m     \u001b[0;32mfor\u001b[0m \u001b[0mn\u001b[0m \u001b[0;32min\u001b[0m \u001b[0msplit_list\u001b[0m\u001b[0;34m(\u001b[0m\u001b[0mrun_notes\u001b[0m \u001b[0;34m,\u001b[0m \u001b[0mmax_sequence_length\u001b[0m\u001b[0;34m)\u001b[0m\u001b[0;34m:\u001b[0m\u001b[0;34m\u001b[0m\u001b[0;34m\u001b[0m\u001b[0m\n",
      "\u001b[0;32m~/anaconda3/envs/test/lib/python3.7/bdb.py\u001b[0m in \u001b[0;36mtrace_dispatch\u001b[0;34m(self, frame, event, arg)\u001b[0m\n\u001b[1;32m     86\u001b[0m             \u001b[0;32mreturn\u001b[0m \u001b[0;31m# None\u001b[0m\u001b[0;34m\u001b[0m\u001b[0;34m\u001b[0m\u001b[0m\n\u001b[1;32m     87\u001b[0m         \u001b[0;32mif\u001b[0m \u001b[0mevent\u001b[0m \u001b[0;34m==\u001b[0m \u001b[0;34m'line'\u001b[0m\u001b[0;34m:\u001b[0m\u001b[0;34m\u001b[0m\u001b[0;34m\u001b[0m\u001b[0m\n\u001b[0;32m---> 88\u001b[0;31m             \u001b[0;32mreturn\u001b[0m \u001b[0mself\u001b[0m\u001b[0;34m.\u001b[0m\u001b[0mdispatch_line\u001b[0m\u001b[0;34m(\u001b[0m\u001b[0mframe\u001b[0m\u001b[0;34m)\u001b[0m\u001b[0;34m\u001b[0m\u001b[0;34m\u001b[0m\u001b[0m\n\u001b[0m\u001b[1;32m     89\u001b[0m         \u001b[0;32mif\u001b[0m \u001b[0mevent\u001b[0m \u001b[0;34m==\u001b[0m \u001b[0;34m'call'\u001b[0m\u001b[0;34m:\u001b[0m\u001b[0;34m\u001b[0m\u001b[0;34m\u001b[0m\u001b[0m\n\u001b[1;32m     90\u001b[0m             \u001b[0;32mreturn\u001b[0m \u001b[0mself\u001b[0m\u001b[0;34m.\u001b[0m\u001b[0mdispatch_call\u001b[0m\u001b[0;34m(\u001b[0m\u001b[0mframe\u001b[0m\u001b[0;34m,\u001b[0m \u001b[0marg\u001b[0m\u001b[0;34m)\u001b[0m\u001b[0;34m\u001b[0m\u001b[0;34m\u001b[0m\u001b[0m\n",
      "\u001b[0;32m~/anaconda3/envs/test/lib/python3.7/bdb.py\u001b[0m in \u001b[0;36mdispatch_line\u001b[0;34m(self, frame)\u001b[0m\n\u001b[1;32m    111\u001b[0m         \u001b[0;32mif\u001b[0m \u001b[0mself\u001b[0m\u001b[0;34m.\u001b[0m\u001b[0mstop_here\u001b[0m\u001b[0;34m(\u001b[0m\u001b[0mframe\u001b[0m\u001b[0;34m)\u001b[0m \u001b[0;32mor\u001b[0m \u001b[0mself\u001b[0m\u001b[0;34m.\u001b[0m\u001b[0mbreak_here\u001b[0m\u001b[0;34m(\u001b[0m\u001b[0mframe\u001b[0m\u001b[0;34m)\u001b[0m\u001b[0;34m:\u001b[0m\u001b[0;34m\u001b[0m\u001b[0;34m\u001b[0m\u001b[0m\n\u001b[1;32m    112\u001b[0m             \u001b[0mself\u001b[0m\u001b[0;34m.\u001b[0m\u001b[0muser_line\u001b[0m\u001b[0;34m(\u001b[0m\u001b[0mframe\u001b[0m\u001b[0;34m)\u001b[0m\u001b[0;34m\u001b[0m\u001b[0;34m\u001b[0m\u001b[0m\n\u001b[0;32m--> 113\u001b[0;31m             \u001b[0;32mif\u001b[0m \u001b[0mself\u001b[0m\u001b[0;34m.\u001b[0m\u001b[0mquitting\u001b[0m\u001b[0;34m:\u001b[0m \u001b[0;32mraise\u001b[0m \u001b[0mBdbQuit\u001b[0m\u001b[0;34m\u001b[0m\u001b[0;34m\u001b[0m\u001b[0m\n\u001b[0m\u001b[1;32m    114\u001b[0m         \u001b[0;32mreturn\u001b[0m \u001b[0mself\u001b[0m\u001b[0;34m.\u001b[0m\u001b[0mtrace_dispatch\u001b[0m\u001b[0;34m\u001b[0m\u001b[0;34m\u001b[0m\u001b[0m\n\u001b[1;32m    115\u001b[0m \u001b[0;34m\u001b[0m\u001b[0m\n",
      "\u001b[0;31mBdbQuit\u001b[0m: "
     ]
    }
   ],
   "source": [
    "notes_list = []\n",
    "note_set = set()\n",
    "for file in glob.glob(\"chorales/midi/*.mid\"):\n",
    "    run_notes = []\n",
    "    print(file)\n",
    "    midi = converter.parse(file)\n",
    "    notes_to_parse = None\n",
    "    parts = instrument.partitionByInstrument(midi)\n",
    "    if parts: # file has instrument parts\n",
    "        #Pdb().set_trace()\n",
    "        notes_to_parse = parts.parts[0].recurse()\n",
    "    else: # file has notes in a flat structure\n",
    "        notes_to_parse = midi.flat.notes\n",
    "    for element in notes_to_parse:\n",
    "        if isinstance(element, note.Note):\n",
    "            run_notes.append(str(element.pitch))\n",
    "        elif isinstance(element, chord.Chord):\n",
    "            Pdb().set_trace()\n",
    "            #Pdb().set_trace()\n",
    "            run_notes.append('.'.join(str(n) for n in element.normalOrder))\n",
    "    note_set = note_set | set(run_notes)\n",
    "    for n in split_list(run_notes , max_sequence_length):\n",
    "        if len(n) > 10:\n",
    "            notes_list.append(n)\n",
    "    #notes_list.append(run_notes)"
   ]
  },
  {
   "cell_type": "markdown",
   "metadata": {},
   "source": [
    "## to be ignored"
   ]
  },
  {
   "cell_type": "markdown",
   "metadata": {},
   "source": [
    "### as in tutorial on the web (to be skipped)"
   ]
  },
  {
   "cell_type": "markdown",
   "metadata": {},
   "source": [
    "https://towardsdatascience.com/how-to-generate-music-using-a-lstm-neural-network-in-keras-68786834d4c5"
   ]
  },
  {
   "cell_type": "code",
   "execution_count": null,
   "metadata": {},
   "outputs": [],
   "source": [
    "from music21 import converter, instrument, note, chord\n",
    "notes = []"
   ]
  },
  {
   "cell_type": "code",
   "execution_count": null,
   "metadata": {
    "scrolled": true
   },
   "outputs": [],
   "source": [
    "from music21 import converter, instrument, note, chord\n",
    "notes = []\n",
    "for file in glob.glob(\"chorales/midi/*.mid\"):\n",
    "    print(file)\n",
    "    midi = converter.parse(file)\n",
    "    notes_to_parse = None\n",
    "    parts = instrument.partitionByInstrument(midi)\n",
    "    if parts: # file has instrument parts\n",
    "        notes_to_parse = parts.parts[0].recurse()\n",
    "    else: # file has notes in a flat structure\n",
    "        notes_to_parse = midi.flat.notes\n",
    "    for element in notes_to_parse:\n",
    "        if isinstance(element, note.Note):\n",
    "            notes.append(str(element.pitch))\n",
    "        elif isinstance(element, chord.Chord):\n",
    "            notes.append('.'.join(str(n) for n in element.normalOrder))"
   ]
  },
  {
   "cell_type": "markdown",
   "metadata": {},
   "source": [
    "### example : when there is only one midi file (to be skipped)"
   ]
  },
  {
   "cell_type": "code",
   "execution_count": 43,
   "metadata": {},
   "outputs": [],
   "source": [
    "file = \"midi/sonate_31.mid\"\n",
    "file = 'chorales/midi/065900b_.mid'\n",
    "midi = converter.parse(file)\n",
    "notes_to_parse = None\n",
    "notes = []\n",
    "parts = instrument.partitionByInstrument(midi)\n",
    "if parts: # file has instrument parts\n",
    "    notes_to_parse = parts.parts[0].recurse()\n",
    "else: # file has notes in a flat structure\n",
    "    notes_to_parse = midi.flat.notes\n",
    "for element in notes_to_parse:\n",
    "    if isinstance(element, note.Note):\n",
    "        notes.append(str(element.pitch))\n",
    "    elif isinstance(element, chord.Chord):   \n",
    "        run_chord = element\n",
    "        notes.append('.'.join(str(n) for n in element.normalOrder))"
   ]
  },
  {
   "cell_type": "code",
   "execution_count": 114,
   "metadata": {},
   "outputs": [
    {
     "data": {
      "text/plain": [
       "2"
      ]
     },
     "execution_count": 114,
     "metadata": {},
     "output_type": "execute_result"
    }
   ],
   "source": [
    "1+1"
   ]
  },
  {
   "cell_type": "code",
   "execution_count": 24,
   "metadata": {},
   "outputs": [
    {
     "data": {
      "image/png": "[encoded data removed]",
      "text/plain": [
       "<IPython.core.display.Image object>"
      ]
     },
     "metadata": {
      "image/png": {
       "height": 1025,
       "width": 751
      }
     },
     "output_type": "display_data"
    }
   ],
   "source": [
    "midi.show()"
   ]
  },
  {
   "cell_type": "markdown",
   "metadata": {},
   "source": [
    "## flat notes"
   ]
  },
  {
   "cell_type": "code",
   "execution_count": 48,
   "metadata": {},
   "outputs": [],
   "source": [
    "flat_notes = [x for x in midi.flat.notes]"
   ]
  },
  {
   "cell_type": "code",
   "execution_count": 49,
   "metadata": {},
   "outputs": [],
   "source": [
    "a_note = flat_notes[0]"
   ]
  },
  {
   "cell_type": "code",
   "execution_count": 51,
   "metadata": {},
   "outputs": [
    {
     "data": {
      "text/plain": [
       "0.0"
      ]
     },
     "execution_count": 51,
     "metadata": {},
     "output_type": "execute_result"
    }
   ],
   "source": [
    "a_note.offset"
   ]
  },
  {
   "cell_type": "code",
   "execution_count": 54,
   "metadata": {},
   "outputs": [],
   "source": [
    "offsets = [x.offset for x in midi.flat.notes]"
   ]
  },
  {
   "cell_type": "code",
   "execution_count": 55,
   "metadata": {},
   "outputs": [
    {
     "data": {
      "text/plain": [
       "[132.0, 132.25, 132.5, 132.75, 133.0, 133.25, 133.5, 133.75, 134.0, 134.0]"
      ]
     },
     "execution_count": 55,
     "metadata": {},
     "output_type": "execute_result"
    }
   ],
   "source": [
    "offsets[-10:]"
   ]
  },
  {
   "cell_type": "markdown",
   "metadata": {},
   "source": [
    "## 頻度チェック"
   ]
  },
  {
   "cell_type": "code",
   "execution_count": 82,
   "metadata": {},
   "outputs": [],
   "source": [
    "import pandas as pd"
   ]
  },
  {
   "cell_type": "code",
   "execution_count": 83,
   "metadata": {},
   "outputs": [],
   "source": [
    "run_df = pd.DataFrame({'x' : notes[0:-1] , 'y':notes[1:]})"
   ]
  },
  {
   "cell_type": "code",
   "execution_count": 84,
   "metadata": {},
   "outputs": [
    {
     "ename": "TypeError",
     "evalue": "unhashable type: 'list'",
     "output_type": "error",
     "traceback": [
      "\u001b[0;31m---------------------------------------------------------------------------\u001b[0m",
      "\u001b[0;31mTypeError\u001b[0m                                 Traceback (most recent call last)",
      "\u001b[0;32m<ipython-input-84-f3077cdcfd57>\u001b[0m in \u001b[0;36m<module>\u001b[0;34m\u001b[0m\n\u001b[0;32m----> 1\u001b[0;31m \u001b[0mlen\u001b[0m\u001b[0;34m(\u001b[0m\u001b[0mset\u001b[0m\u001b[0;34m(\u001b[0m\u001b[0mnotes\u001b[0m\u001b[0;34m)\u001b[0m\u001b[0;34m)\u001b[0m\u001b[0;34m\u001b[0m\u001b[0;34m\u001b[0m\u001b[0m\n\u001b[0m",
      "\u001b[0;31mTypeError\u001b[0m: unhashable type: 'list'"
     ]
    }
   ],
   "source": [
    "len(set(notes))"
   ]
  },
  {
   "cell_type": "code",
   "execution_count": 87,
   "metadata": {},
   "outputs": [
    {
     "ename": "TypeError",
     "evalue": "can only concatenate list (not \"str\") to list",
     "output_type": "error",
     "traceback": [
      "\u001b[0;31m---------------------------------------------------------------------------\u001b[0m",
      "\u001b[0;31mTypeError\u001b[0m                                 Traceback (most recent call last)",
      "\u001b[0;32m~/anaconda3/envs/test/lib/python3.7/site-packages/pandas/core/ops/__init__.py\u001b[0m in \u001b[0;36mna_op\u001b[0;34m(x, y)\u001b[0m\n\u001b[1;32m    967\u001b[0m         \u001b[0;32mtry\u001b[0m\u001b[0;34m:\u001b[0m\u001b[0;34m\u001b[0m\u001b[0;34m\u001b[0m\u001b[0m\n\u001b[0;32m--> 968\u001b[0;31m             \u001b[0mresult\u001b[0m \u001b[0;34m=\u001b[0m \u001b[0mexpressions\u001b[0m\u001b[0;34m.\u001b[0m\u001b[0mevaluate\u001b[0m\u001b[0;34m(\u001b[0m\u001b[0mop\u001b[0m\u001b[0;34m,\u001b[0m \u001b[0mstr_rep\u001b[0m\u001b[0;34m,\u001b[0m \u001b[0mx\u001b[0m\u001b[0;34m,\u001b[0m \u001b[0my\u001b[0m\u001b[0;34m,\u001b[0m \u001b[0;34m**\u001b[0m\u001b[0meval_kwargs\u001b[0m\u001b[0;34m)\u001b[0m\u001b[0;34m\u001b[0m\u001b[0;34m\u001b[0m\u001b[0m\n\u001b[0m\u001b[1;32m    969\u001b[0m         \u001b[0;32mexcept\u001b[0m \u001b[0mTypeError\u001b[0m\u001b[0;34m:\u001b[0m\u001b[0;34m\u001b[0m\u001b[0;34m\u001b[0m\u001b[0m\n",
      "\u001b[0;32m~/anaconda3/envs/test/lib/python3.7/site-packages/pandas/core/computation/expressions.py\u001b[0m in \u001b[0;36mevaluate\u001b[0;34m(op, op_str, a, b, use_numexpr, **eval_kwargs)\u001b[0m\n\u001b[1;32m    220\u001b[0m     \u001b[0;32mif\u001b[0m \u001b[0muse_numexpr\u001b[0m\u001b[0;34m:\u001b[0m\u001b[0;34m\u001b[0m\u001b[0;34m\u001b[0m\u001b[0m\n\u001b[0;32m--> 221\u001b[0;31m         \u001b[0;32mreturn\u001b[0m \u001b[0m_evaluate\u001b[0m\u001b[0;34m(\u001b[0m\u001b[0mop\u001b[0m\u001b[0;34m,\u001b[0m \u001b[0mop_str\u001b[0m\u001b[0;34m,\u001b[0m \u001b[0ma\u001b[0m\u001b[0;34m,\u001b[0m \u001b[0mb\u001b[0m\u001b[0;34m,\u001b[0m \u001b[0;34m**\u001b[0m\u001b[0meval_kwargs\u001b[0m\u001b[0;34m)\u001b[0m\u001b[0;34m\u001b[0m\u001b[0;34m\u001b[0m\u001b[0m\n\u001b[0m\u001b[1;32m    222\u001b[0m     \u001b[0;32mreturn\u001b[0m \u001b[0m_evaluate_standard\u001b[0m\u001b[0;34m(\u001b[0m\u001b[0mop\u001b[0m\u001b[0;34m,\u001b[0m \u001b[0mop_str\u001b[0m\u001b[0;34m,\u001b[0m \u001b[0ma\u001b[0m\u001b[0;34m,\u001b[0m \u001b[0mb\u001b[0m\u001b[0;34m)\u001b[0m\u001b[0;34m\u001b[0m\u001b[0;34m\u001b[0m\u001b[0m\n",
      "\u001b[0;32m~/anaconda3/envs/test/lib/python3.7/site-packages/pandas/core/computation/expressions.py\u001b[0m in \u001b[0;36m_evaluate_standard\u001b[0;34m(op, op_str, a, b, **eval_kwargs)\u001b[0m\n\u001b[1;32m     69\u001b[0m     \u001b[0;32mwith\u001b[0m \u001b[0mnp\u001b[0m\u001b[0;34m.\u001b[0m\u001b[0merrstate\u001b[0m\u001b[0;34m(\u001b[0m\u001b[0mall\u001b[0m\u001b[0;34m=\u001b[0m\u001b[0;34m\"ignore\"\u001b[0m\u001b[0;34m)\u001b[0m\u001b[0;34m:\u001b[0m\u001b[0;34m\u001b[0m\u001b[0;34m\u001b[0m\u001b[0m\n\u001b[0;32m---> 70\u001b[0;31m         \u001b[0;32mreturn\u001b[0m \u001b[0mop\u001b[0m\u001b[0;34m(\u001b[0m\u001b[0ma\u001b[0m\u001b[0;34m,\u001b[0m \u001b[0mb\u001b[0m\u001b[0;34m)\u001b[0m\u001b[0;34m\u001b[0m\u001b[0;34m\u001b[0m\u001b[0m\n\u001b[0m\u001b[1;32m     71\u001b[0m \u001b[0;34m\u001b[0m\u001b[0m\n",
      "\u001b[0;31mTypeError\u001b[0m: can only concatenate list (not \"str\") to list",
      "\nDuring handling of the above exception, another exception occurred:\n",
      "\u001b[0;31mTypeError\u001b[0m                                 Traceback (most recent call last)",
      "\u001b[0;32m<ipython-input-87-dbff12b7fc7b>\u001b[0m in \u001b[0;36m<module>\u001b[0;34m\u001b[0m\n\u001b[0;32m----> 1\u001b[0;31m \u001b[0mrun_df\u001b[0m \u001b[0;34m=\u001b[0m \u001b[0mrun_df\u001b[0m\u001b[0;34m.\u001b[0m\u001b[0massign\u001b[0m\u001b[0;34m(\u001b[0m\u001b[0mz\u001b[0m \u001b[0;34m=\u001b[0m \u001b[0mrun_df\u001b[0m\u001b[0;34m.\u001b[0m\u001b[0mx\u001b[0m \u001b[0;34m+\u001b[0m \u001b[0;34m' '\u001b[0m \u001b[0;34m+\u001b[0m  \u001b[0mrun_df\u001b[0m\u001b[0;34m.\u001b[0m\u001b[0my\u001b[0m\u001b[0;34m)\u001b[0m\u001b[0;34m\u001b[0m\u001b[0;34m\u001b[0m\u001b[0m\n\u001b[0m",
      "\u001b[0;32m~/anaconda3/envs/test/lib/python3.7/site-packages/pandas/core/ops/__init__.py\u001b[0m in \u001b[0;36mwrapper\u001b[0;34m(left, right)\u001b[0m\n\u001b[1;32m   1046\u001b[0m \u001b[0;34m\u001b[0m\u001b[0m\n\u001b[1;32m   1047\u001b[0m         \u001b[0;32mwith\u001b[0m \u001b[0mnp\u001b[0m\u001b[0;34m.\u001b[0m\u001b[0merrstate\u001b[0m\u001b[0;34m(\u001b[0m\u001b[0mall\u001b[0m\u001b[0;34m=\u001b[0m\u001b[0;34m\"ignore\"\u001b[0m\u001b[0;34m)\u001b[0m\u001b[0;34m:\u001b[0m\u001b[0;34m\u001b[0m\u001b[0;34m\u001b[0m\u001b[0m\n\u001b[0;32m-> 1048\u001b[0;31m             \u001b[0mresult\u001b[0m \u001b[0;34m=\u001b[0m \u001b[0mna_op\u001b[0m\u001b[0;34m(\u001b[0m\u001b[0mlvalues\u001b[0m\u001b[0;34m,\u001b[0m \u001b[0mrvalues\u001b[0m\u001b[0;34m)\u001b[0m\u001b[0;34m\u001b[0m\u001b[0;34m\u001b[0m\u001b[0m\n\u001b[0m\u001b[1;32m   1049\u001b[0m         return construct_result(\n\u001b[1;32m   1050\u001b[0m             \u001b[0mleft\u001b[0m\u001b[0;34m,\u001b[0m \u001b[0mresult\u001b[0m\u001b[0;34m,\u001b[0m \u001b[0mindex\u001b[0m\u001b[0;34m=\u001b[0m\u001b[0mleft\u001b[0m\u001b[0;34m.\u001b[0m\u001b[0mindex\u001b[0m\u001b[0;34m,\u001b[0m \u001b[0mname\u001b[0m\u001b[0;34m=\u001b[0m\u001b[0mres_name\u001b[0m\u001b[0;34m,\u001b[0m \u001b[0mdtype\u001b[0m\u001b[0;34m=\u001b[0m\u001b[0;32mNone\u001b[0m\u001b[0;34m\u001b[0m\u001b[0;34m\u001b[0m\u001b[0m\n",
      "\u001b[0;32m~/anaconda3/envs/test/lib/python3.7/site-packages/pandas/core/ops/__init__.py\u001b[0m in \u001b[0;36mna_op\u001b[0;34m(x, y)\u001b[0m\n\u001b[1;32m    968\u001b[0m             \u001b[0mresult\u001b[0m \u001b[0;34m=\u001b[0m \u001b[0mexpressions\u001b[0m\u001b[0;34m.\u001b[0m\u001b[0mevaluate\u001b[0m\u001b[0;34m(\u001b[0m\u001b[0mop\u001b[0m\u001b[0;34m,\u001b[0m \u001b[0mstr_rep\u001b[0m\u001b[0;34m,\u001b[0m \u001b[0mx\u001b[0m\u001b[0;34m,\u001b[0m \u001b[0my\u001b[0m\u001b[0;34m,\u001b[0m \u001b[0;34m**\u001b[0m\u001b[0meval_kwargs\u001b[0m\u001b[0;34m)\u001b[0m\u001b[0;34m\u001b[0m\u001b[0;34m\u001b[0m\u001b[0m\n\u001b[1;32m    969\u001b[0m         \u001b[0;32mexcept\u001b[0m \u001b[0mTypeError\u001b[0m\u001b[0;34m:\u001b[0m\u001b[0;34m\u001b[0m\u001b[0;34m\u001b[0m\u001b[0m\n\u001b[0;32m--> 970\u001b[0;31m             \u001b[0mresult\u001b[0m \u001b[0;34m=\u001b[0m \u001b[0mmasked_arith_op\u001b[0m\u001b[0;34m(\u001b[0m\u001b[0mx\u001b[0m\u001b[0;34m,\u001b[0m \u001b[0my\u001b[0m\u001b[0;34m,\u001b[0m \u001b[0mop\u001b[0m\u001b[0;34m)\u001b[0m\u001b[0;34m\u001b[0m\u001b[0;34m\u001b[0m\u001b[0m\n\u001b[0m\u001b[1;32m    971\u001b[0m \u001b[0;34m\u001b[0m\u001b[0m\n\u001b[1;32m    972\u001b[0m         \u001b[0;32mreturn\u001b[0m \u001b[0mmissing\u001b[0m\u001b[0;34m.\u001b[0m\u001b[0mdispatch_fill_zeros\u001b[0m\u001b[0;34m(\u001b[0m\u001b[0mop\u001b[0m\u001b[0;34m,\u001b[0m \u001b[0mx\u001b[0m\u001b[0;34m,\u001b[0m \u001b[0my\u001b[0m\u001b[0;34m,\u001b[0m \u001b[0mresult\u001b[0m\u001b[0;34m)\u001b[0m\u001b[0;34m\u001b[0m\u001b[0;34m\u001b[0m\u001b[0m\n",
      "\u001b[0;32m~/anaconda3/envs/test/lib/python3.7/site-packages/pandas/core/ops/__init__.py\u001b[0m in \u001b[0;36mmasked_arith_op\u001b[0;34m(x, y, op)\u001b[0m\n\u001b[1;32m    462\u001b[0m         \u001b[0;32mif\u001b[0m \u001b[0mmask\u001b[0m\u001b[0;34m.\u001b[0m\u001b[0many\u001b[0m\u001b[0;34m(\u001b[0m\u001b[0;34m)\u001b[0m\u001b[0;34m:\u001b[0m\u001b[0;34m\u001b[0m\u001b[0;34m\u001b[0m\u001b[0m\n\u001b[1;32m    463\u001b[0m             \u001b[0;32mwith\u001b[0m \u001b[0mnp\u001b[0m\u001b[0;34m.\u001b[0m\u001b[0merrstate\u001b[0m\u001b[0;34m(\u001b[0m\u001b[0mall\u001b[0m\u001b[0;34m=\u001b[0m\u001b[0;34m\"ignore\"\u001b[0m\u001b[0;34m)\u001b[0m\u001b[0;34m:\u001b[0m\u001b[0;34m\u001b[0m\u001b[0;34m\u001b[0m\u001b[0m\n\u001b[0;32m--> 464\u001b[0;31m                 \u001b[0mresult\u001b[0m\u001b[0;34m[\u001b[0m\u001b[0mmask\u001b[0m\u001b[0;34m]\u001b[0m \u001b[0;34m=\u001b[0m \u001b[0mop\u001b[0m\u001b[0;34m(\u001b[0m\u001b[0mxrav\u001b[0m\u001b[0;34m[\u001b[0m\u001b[0mmask\u001b[0m\u001b[0;34m]\u001b[0m\u001b[0;34m,\u001b[0m \u001b[0my\u001b[0m\u001b[0;34m)\u001b[0m\u001b[0;34m\u001b[0m\u001b[0;34m\u001b[0m\u001b[0m\n\u001b[0m\u001b[1;32m    465\u001b[0m \u001b[0;34m\u001b[0m\u001b[0m\n\u001b[1;32m    466\u001b[0m     \u001b[0mresult\u001b[0m\u001b[0;34m,\u001b[0m \u001b[0mchanged\u001b[0m \u001b[0;34m=\u001b[0m \u001b[0mmaybe_upcast_putmask\u001b[0m\u001b[0;34m(\u001b[0m\u001b[0mresult\u001b[0m\u001b[0;34m,\u001b[0m \u001b[0;34m~\u001b[0m\u001b[0mmask\u001b[0m\u001b[0;34m,\u001b[0m \u001b[0mnp\u001b[0m\u001b[0;34m.\u001b[0m\u001b[0mnan\u001b[0m\u001b[0;34m)\u001b[0m\u001b[0;34m\u001b[0m\u001b[0;34m\u001b[0m\u001b[0m\n",
      "\u001b[0;31mTypeError\u001b[0m: can only concatenate list (not \"str\") to list"
     ]
    }
   ],
   "source": [
    "run_df = run_df.assign(z = run_df.x + ' ' +  run_df.y)"
   ]
  },
  {
   "cell_type": "code",
   "execution_count": 86,
   "metadata": {},
   "outputs": [
    {
     "ename": "AttributeError",
     "evalue": "'DataFrame' object has no attribute 'z'",
     "output_type": "error",
     "traceback": [
      "\u001b[0;31m---------------------------------------------------------------------------\u001b[0m",
      "\u001b[0;31mAttributeError\u001b[0m                            Traceback (most recent call last)",
      "\u001b[0;32m<ipython-input-86-c8c11f97d86a>\u001b[0m in \u001b[0;36m<module>\u001b[0;34m\u001b[0m\n\u001b[0;32m----> 1\u001b[0;31m \u001b[0mrun_df\u001b[0m\u001b[0;34m.\u001b[0m\u001b[0mz\u001b[0m\u001b[0;34m\u001b[0m\u001b[0;34m\u001b[0m\u001b[0m\n\u001b[0m",
      "\u001b[0;32m~/anaconda3/envs/test/lib/python3.7/site-packages/pandas/core/generic.py\u001b[0m in \u001b[0;36m__getattr__\u001b[0;34m(self, name)\u001b[0m\n\u001b[1;32m   5177\u001b[0m             \u001b[0;32mif\u001b[0m \u001b[0mself\u001b[0m\u001b[0;34m.\u001b[0m\u001b[0m_info_axis\u001b[0m\u001b[0;34m.\u001b[0m\u001b[0m_can_hold_identifiers_and_holds_name\u001b[0m\u001b[0;34m(\u001b[0m\u001b[0mname\u001b[0m\u001b[0;34m)\u001b[0m\u001b[0;34m:\u001b[0m\u001b[0;34m\u001b[0m\u001b[0;34m\u001b[0m\u001b[0m\n\u001b[1;32m   5178\u001b[0m                 \u001b[0;32mreturn\u001b[0m \u001b[0mself\u001b[0m\u001b[0;34m[\u001b[0m\u001b[0mname\u001b[0m\u001b[0;34m]\u001b[0m\u001b[0;34m\u001b[0m\u001b[0;34m\u001b[0m\u001b[0m\n\u001b[0;32m-> 5179\u001b[0;31m             \u001b[0;32mreturn\u001b[0m \u001b[0mobject\u001b[0m\u001b[0;34m.\u001b[0m\u001b[0m__getattribute__\u001b[0m\u001b[0;34m(\u001b[0m\u001b[0mself\u001b[0m\u001b[0;34m,\u001b[0m \u001b[0mname\u001b[0m\u001b[0;34m)\u001b[0m\u001b[0;34m\u001b[0m\u001b[0;34m\u001b[0m\u001b[0m\n\u001b[0m\u001b[1;32m   5180\u001b[0m \u001b[0;34m\u001b[0m\u001b[0m\n\u001b[1;32m   5181\u001b[0m     \u001b[0;32mdef\u001b[0m \u001b[0m__setattr__\u001b[0m\u001b[0;34m(\u001b[0m\u001b[0mself\u001b[0m\u001b[0;34m,\u001b[0m \u001b[0mname\u001b[0m\u001b[0;34m,\u001b[0m \u001b[0mvalue\u001b[0m\u001b[0;34m)\u001b[0m\u001b[0;34m:\u001b[0m\u001b[0;34m\u001b[0m\u001b[0;34m\u001b[0m\u001b[0m\n",
      "\u001b[0;31mAttributeError\u001b[0m: 'DataFrame' object has no attribute 'z'"
     ]
    }
   ],
   "source": [
    "run_df.z"
   ]
  },
  {
   "cell_type": "code",
   "execution_count": 103,
   "metadata": {},
   "outputs": [],
   "source": [
    "source = ColumnDataSource(run_df)"
   ]
  },
  {
   "cell_type": "code",
   "execution_count": 104,
   "metadata": {},
   "outputs": [],
   "source": [
    "run_range = list(set(notes))"
   ]
  },
  {
   "cell_type": "code",
   "execution_count": 81,
   "metadata": {},
   "outputs": [
    {
     "ename": "NameError",
     "evalue": "name 'run_range' is not defined",
     "output_type": "error",
     "traceback": [
      "\u001b[0;31m---------------------------------------------------------------------------\u001b[0m",
      "\u001b[0;31mNameError\u001b[0m                                 Traceback (most recent call last)",
      "\u001b[0;32m<ipython-input-81-7afaffdfa33f>\u001b[0m in \u001b[0;36m<module>\u001b[0;34m\u001b[0m\n\u001b[0;32m----> 1\u001b[0;31m \u001b[0mp\u001b[0m \u001b[0;34m=\u001b[0m \u001b[0mbp\u001b[0m\u001b[0;34m.\u001b[0m\u001b[0mfigure\u001b[0m\u001b[0;34m(\u001b[0m\u001b[0mx_range\u001b[0m \u001b[0;34m=\u001b[0m \u001b[0mrun_range\u001b[0m \u001b[0;34m,\u001b[0m \u001b[0my_range\u001b[0m \u001b[0;34m=\u001b[0m \u001b[0mrun_range\u001b[0m\u001b[0;34m)\u001b[0m\u001b[0;34m\u001b[0m\u001b[0;34m\u001b[0m\u001b[0m\n\u001b[0m",
      "\u001b[0;31mNameError\u001b[0m: name 'run_range' is not defined"
     ]
    }
   ],
   "source": [
    "p = bp.figure(x_range = run_range , y_range = run_range)"
   ]
  },
  {
   "cell_type": "code",
   "execution_count": 112,
   "metadata": {},
   "outputs": [
    {
     "data": {
      "text/html": [
       "<div style=\"display: table;\"><div style=\"display: table-row;\"><div style=\"display: table-cell;\"><b title=\"bokeh.models.renderers.GlyphRenderer\">GlyphRenderer</b>(</div><div style=\"display: table-cell;\">id&nbsp;=&nbsp;'1608', <span id=\"1611\" style=\"cursor: pointer;\">&hellip;)</span></div></div><div class=\"1610\" style=\"display: none;\"><div style=\"display: table-cell;\"></div><div style=\"display: table-cell;\">data_source&nbsp;=&nbsp;ColumnDataSource(id='1397', ...),</div></div><div class=\"1610\" style=\"display: none;\"><div style=\"display: table-cell;\"></div><div style=\"display: table-cell;\">glyph&nbsp;=&nbsp;Scatter(id='1606', ...),</div></div><div class=\"1610\" style=\"display: none;\"><div style=\"display: table-cell;\"></div><div style=\"display: table-cell;\">hover_glyph&nbsp;=&nbsp;None,</div></div><div class=\"1610\" style=\"display: none;\"><div style=\"display: table-cell;\"></div><div style=\"display: table-cell;\">js_event_callbacks&nbsp;=&nbsp;{},</div></div><div class=\"1610\" style=\"display: none;\"><div style=\"display: table-cell;\"></div><div style=\"display: table-cell;\">js_property_callbacks&nbsp;=&nbsp;{},</div></div><div class=\"1610\" style=\"display: none;\"><div style=\"display: table-cell;\"></div><div style=\"display: table-cell;\">level&nbsp;=&nbsp;'glyph',</div></div><div class=\"1610\" style=\"display: none;\"><div style=\"display: table-cell;\"></div><div style=\"display: table-cell;\">muted&nbsp;=&nbsp;False,</div></div><div class=\"1610\" style=\"display: none;\"><div style=\"display: table-cell;\"></div><div style=\"display: table-cell;\">muted_glyph&nbsp;=&nbsp;None,</div></div><div class=\"1610\" style=\"display: none;\"><div style=\"display: table-cell;\"></div><div style=\"display: table-cell;\">name&nbsp;=&nbsp;None,</div></div><div class=\"1610\" style=\"display: none;\"><div style=\"display: table-cell;\"></div><div style=\"display: table-cell;\">nonselection_glyph&nbsp;=&nbsp;Scatter(id='1607', ...),</div></div><div class=\"1610\" style=\"display: none;\"><div style=\"display: table-cell;\"></div><div style=\"display: table-cell;\">selection_glyph&nbsp;=&nbsp;None,</div></div><div class=\"1610\" style=\"display: none;\"><div style=\"display: table-cell;\"></div><div style=\"display: table-cell;\">subscribed_events&nbsp;=&nbsp;[],</div></div><div class=\"1610\" style=\"display: none;\"><div style=\"display: table-cell;\"></div><div style=\"display: table-cell;\">tags&nbsp;=&nbsp;[],</div></div><div class=\"1610\" style=\"display: none;\"><div style=\"display: table-cell;\"></div><div style=\"display: table-cell;\">view&nbsp;=&nbsp;CDSView(id='1609', ...),</div></div><div class=\"1610\" style=\"display: none;\"><div style=\"display: table-cell;\"></div><div style=\"display: table-cell;\">visible&nbsp;=&nbsp;True,</div></div><div class=\"1610\" style=\"display: none;\"><div style=\"display: table-cell;\"></div><div style=\"display: table-cell;\">x_range_name&nbsp;=&nbsp;'default',</div></div><div class=\"1610\" style=\"display: none;\"><div style=\"display: table-cell;\"></div><div style=\"display: table-cell;\">y_range_name&nbsp;=&nbsp;'default')</div></div></div>\n",
       "<script>\n",
       "(function() {\n",
       "  var expanded = false;\n",
       "  var ellipsis = document.getElementById(\"1611\");\n",
       "  ellipsis.addEventListener(\"click\", function() {\n",
       "    var rows = document.getElementsByClassName(\"1610\");\n",
       "    for (var i = 0; i < rows.length; i++) {\n",
       "      var el = rows[i];\n",
       "      el.style.display = expanded ? \"none\" : \"table-row\";\n",
       "    }\n",
       "    ellipsis.innerHTML = expanded ? \"&hellip;)\" : \"&lsaquo;&lsaquo;&lsaquo;\";\n",
       "    expanded = !expanded;\n",
       "  });\n",
       "})();\n",
       "</script>\n"
      ],
      "text/plain": [
       "GlyphRenderer(id='1608', ...)"
      ]
     },
     "execution_count": 112,
     "metadata": {},
     "output_type": "execute_result"
    }
   ],
   "source": [
    "p.scatter(jitter('x' , width = 0.5 , range = p.x_range) , jitter('y' , width = 0.5 , range = p.y_range) , source = source )"
   ]
  },
  {
   "cell_type": "code",
   "execution_count": 113,
   "metadata": {},
   "outputs": [
    {
     "data": {
      "text/html": [
       "\n",
       "\n",
       "\n",
       "\n",
       "\n",
       "\n",
       "  <div class=\"bk-root\" id=\"cd2b0859-9e2a-4bb8-8f75-cddbbb97ab50\" data-root-id=\"1573\"></div>\n"
      ]
     },
     "metadata": {},
     "output_type": "display_data"
    },
    {
     "data": {
      "application/javascript": [
       "(function(root) {\n",
       "  function embed_document(root) {\n",
       "    \n",
       "  var docs_json = {\"48ae8cd1-7a9f-427b-9ddc-5eb0003ff7ad\":{\"roots\":{\"references\":[{\"attributes\":{\"below\":[{\"id\":\"1582\",\"type\":\"CategoricalAxis\"}],\"center\":[{\"id\":\"1585\",\"type\":\"Grid\"},{\"id\":\"1589\",\"type\":\"Grid\"}],\"left\":[{\"id\":\"1586\",\"type\":\"CategoricalAxis\"}],\"renderers\":[{\"id\":\"1608\",\"type\":\"GlyphRenderer\"}],\"title\":{\"id\":\"1648\",\"type\":\"Title\"},\"toolbar\":{\"id\":\"1596\",\"type\":\"Toolbar\"},\"x_range\":{\"id\":\"1574\",\"type\":\"FactorRange\"},\"x_scale\":{\"id\":\"1578\",\"type\":\"CategoricalScale\"},\"y_range\":{\"id\":\"1576\",\"type\":\"FactorRange\"},\"y_scale\":{\"id\":\"1580\",\"type\":\"CategoricalScale\"}},\"id\":\"1573\",\"subtype\":\"Figure\",\"type\":\"Plot\"},{\"attributes\":{\"ticker\":{\"id\":\"1583\",\"type\":\"CategoricalTicker\"}},\"id\":\"1585\",\"type\":\"Grid\"},{\"attributes\":{\"callback\":null,\"factors\":[\"F4\",\"A3\",\"G#3\",\"B3\",\"G4\",\"F2\",\"F#3\",\"C4\",\"E3\",\"11.2\",\"B-2\",\"G#4\",\"G3\",\"E4\",\"A2\",\"D5\",\"E-5\",\"C6\",\"G#2\",\"A4\",\"B-4\",\"E-3\",\"B-3\",\"F#5\",\"C5\",\"D4\",\"F#4\",\"C2\",\"F3\",\"E-2\",\"B4\",\"B-5\",\"C#5\",\"D3\",\"D2\",\"A5\",\"G5\",\"E-4\",\"E5\",\"B2\",\"F5\",\"G2\",\"F#2\",\"C3\"]},\"id\":\"1576\",\"type\":\"FactorRange\"},{\"attributes\":{},\"id\":\"1594\",\"type\":\"ResetTool\"},{\"attributes\":{},\"id\":\"1653\",\"type\":\"CategoricalTickFormatter\"},{\"attributes\":{},\"id\":\"1591\",\"type\":\"WheelZoomTool\"},{\"attributes\":{\"source\":{\"id\":\"1397\",\"type\":\"ColumnDataSource\"}},\"id\":\"1609\",\"type\":\"CDSView\"},{\"attributes\":{\"data_source\":{\"id\":\"1397\",\"type\":\"ColumnDataSource\"},\"glyph\":{\"id\":\"1606\",\"type\":\"Scatter\"},\"hover_glyph\":null,\"muted_glyph\":null,\"nonselection_glyph\":{\"id\":\"1607\",\"type\":\"Scatter\"},\"selection_glyph\":null,\"view\":{\"id\":\"1609\",\"type\":\"CDSView\"}},\"id\":\"1608\",\"type\":\"GlyphRenderer\"},{\"attributes\":{},\"id\":\"1472\",\"type\":\"Selection\"},{\"attributes\":{},\"id\":\"1593\",\"type\":\"SaveTool\"},{\"attributes\":{},\"id\":\"1578\",\"type\":\"CategoricalScale\"},{\"attributes\":{\"formatter\":{\"id\":\"1651\",\"type\":\"CategoricalTickFormatter\"},\"ticker\":{\"id\":\"1587\",\"type\":\"CategoricalTicker\"}},\"id\":\"1586\",\"type\":\"CategoricalAxis\"},{\"attributes\":{\"formatter\":{\"id\":\"1653\",\"type\":\"CategoricalTickFormatter\"},\"ticker\":{\"id\":\"1583\",\"type\":\"CategoricalTicker\"}},\"id\":\"1582\",\"type\":\"CategoricalAxis\"},{\"attributes\":{},\"id\":\"1595\",\"type\":\"HelpTool\"},{\"attributes\":{\"range\":{\"id\":\"1576\",\"type\":\"FactorRange\"},\"width\":0.5},\"id\":\"1604\",\"type\":\"Jitter\"},{\"attributes\":{\"active_drag\":\"auto\",\"active_inspect\":\"auto\",\"active_multi\":null,\"active_scroll\":\"auto\",\"active_tap\":\"auto\",\"tools\":[{\"id\":\"1590\",\"type\":\"PanTool\"},{\"id\":\"1591\",\"type\":\"WheelZoomTool\"},{\"id\":\"1592\",\"type\":\"BoxZoomTool\"},{\"id\":\"1593\",\"type\":\"SaveTool\"},{\"id\":\"1594\",\"type\":\"ResetTool\"},{\"id\":\"1595\",\"type\":\"HelpTool\"}]},\"id\":\"1596\",\"type\":\"Toolbar\"},{\"attributes\":{\"callback\":null,\"factors\":[\"F4\",\"A3\",\"G#3\",\"B3\",\"G4\",\"F2\",\"F#3\",\"C4\",\"E3\",\"11.2\",\"B-2\",\"G#4\",\"G3\",\"E4\",\"A2\",\"D5\",\"E-5\",\"C6\",\"G#2\",\"A4\",\"B-4\",\"E-3\",\"B-3\",\"F#5\",\"C5\",\"D4\",\"F#4\",\"C2\",\"F3\",\"E-2\",\"B4\",\"B-5\",\"C#5\",\"D3\",\"D2\",\"A5\",\"G5\",\"E-4\",\"E5\",\"B2\",\"F5\",\"G2\",\"F#2\",\"C3\"]},\"id\":\"1574\",\"type\":\"FactorRange\"},{\"attributes\":{\"fill_color\":{\"value\":\"#1f77b4\"},\"line_color\":{\"value\":\"#1f77b4\"},\"x\":{\"field\":\"x\",\"transform\":{\"id\":\"1603\",\"type\":\"Jitter\"}},\"y\":{\"field\":\"y\",\"transform\":{\"id\":\"1604\",\"type\":\"Jitter\"}}},\"id\":\"1606\",\"type\":\"Scatter\"},{\"attributes\":{\"overlay\":{\"id\":\"1656\",\"type\":\"BoxAnnotation\"}},\"id\":\"1592\",\"type\":\"BoxZoomTool\"},{\"attributes\":{\"fill_alpha\":{\"value\":0.1},\"fill_color\":{\"value\":\"#1f77b4\"},\"line_alpha\":{\"value\":0.1},\"line_color\":{\"value\":\"#1f77b4\"},\"x\":{\"field\":\"x\",\"transform\":{\"id\":\"1603\",\"type\":\"Jitter\"}},\"y\":{\"field\":\"y\",\"transform\":{\"id\":\"1604\",\"type\":\"Jitter\"}}},\"id\":\"1607\",\"type\":\"Scatter\"},{\"attributes\":{\"range\":{\"id\":\"1574\",\"type\":\"FactorRange\"},\"width\":0.5},\"id\":\"1603\",\"type\":\"Jitter\"},{\"attributes\":{\"callback\":null,\"data\":{\"index\":[0,1,2,3,4,5,6,7,8,9,10,11,12,13,14,15,16,17,18,19,20,21,22,23,24,25,26,27,28,29,30,31,32,33,34,35,36,37,38,39,40,41,42,43,44,45,46,47,48,49,50,51,52,53,54,55,56,57,58,59,60,61,62,63,64,65,66,67,68,69,70,71,72,73,74,75,76,77,78,79,80,81,82,83,84,85,86,87,88,89,90,91,92,93,94,95,96,97,98,99,100,101,102,103,104,105,106,107,108,109,110,111,112,113,114,115,116,117,118,119,120,121,122,123,124,125,126,127,128,129,130,131,132,133,134,135,136,137,138,139,140,141,142,143,144,145,146,147,148,149,150,151,152,153,154,155,156,157,158,159,160,161,162,163,164,165,166,167,168,169,170,171,172,173,174,175,176,177,178,179,180,181,182,183,184,185,186,187,188,189,190,191,192,193,194,195,196,197,198,199,200,201,202,203,204,205,206,207,208,209,210,211,212,213,214,215,216,217,218,219,220,221,222,223,224,225,226,227,228,229,230,231,232,233,234,235,236,237,238,239,240,241,242,243,244,245,246,247,248,249,250,251,252,253,254,255,256,257,258,259,260,261,262,263,264,265,266,267,268,269,270,271,272,273,274,275,276,277,278,279,280,281,282,283,284,285,286,287,288,289,290,291,292,293,294,295,296,297,298,299,300,301,302,303,304,305,306,307,308,309,310,311,312,313,314,315,316,317,318,319,320,321,322,323,324,325,326,327,328,329,330,331,332,333,334,335,336,337,338,339,340,341,342,343,344,345,346,347,348,349,350,351,352,353,354,355,356,357,358,359,360,361,362,363,364,365,366,367,368,369,370,371,372,373,374,375,376,377,378,379,380,381,382,383,384,385,386,387,388,389,390,391,392,393,394,395,396,397,398,399,400,401,402,403,404,405,406,407,408,409,410,411,412,413,414,415,416,417,418,419,420,421,422,423,424,425,426,427,428,429,430,431,432,433,434,435,436,437,438,439,440,441,442,443,444,445,446,447,448,449,450,451,452,453,454,455,456,457,458,459,460,461,462,463,464,465,466,467,468,469,470,471,472,473,474,475,476,477,478,479,480,481,482,483,484,485,486,487,488,489,490,491,492,493,494,495,496,497,498,499,500,501,502,503,504,505,506,507,508,509,510,511,512,513,514,515,516,517,518,519,520,521,522,523,524,525,526,527,528,529,530,531,532,533,534,535,536,537,538,539,540,541,542,543,544,545,546,547,548,549,550,551,552,553,554,555,556,557,558,559,560,561,562,563,564,565,566,567,568,569,570,571,572,573,574,575,576,577,578,579,580,581,582,583,584,585,586,587,588,589,590,591,592,593,594,595,596,597,598,599,600,601,602,603,604,605,606,607,608,609,610,611,612,613,614,615,616,617,618,619,620,621,622,623,624,625,626,627,628,629,630,631,632,633,634,635,636,637,638,639,640,641,642,643,644,645,646,647,648,649,650,651,652,653,654,655,656,657,658,659,660,661,662,663,664,665,666,667,668,669,670,671,672,673,674,675,676,677,678,679,680,681,682,683,684,685,686,687,688,689,690,691,692,693,694,695,696,697,698,699,700,701,702,703,704,705,706,707,708,709,710,711,712,713,714,715,716,717,718,719,720,721,722,723,724,725,726,727,728,729,730,731,732,733,734,735,736,737,738,739,740,741,742,743,744,745,746,747,748,749,750,751,752,753,754,755,756,757,758,759,760,761,762,763,764,765,766,767,768,769,770,771,772,773,774,775,776,777,778,779,780,781,782,783,784,785,786,787,788,789,790,791,792,793,794,795,796,797,798,799,800,801,802,803,804,805,806,807,808,809,810,811,812,813,814,815,816,817,818,819,820,821,822,823,824,825,826,827,828,829,830,831,832,833,834,835,836,837,838,839,840,841,842,843,844,845,846,847,848,849,850,851,852,853,854,855,856,857,858,859,860,861,862,863,864,865,866,867,868,869,870,871,872,873,874,875,876,877,878,879,880,881,882,883,884,885,886,887,888,889,890,891,892,893,894,895,896,897,898,899,900,901,902,903,904,905,906,907,908,909,910,911,912,913,914,915,916,917,918,919,920,921,922],\"x\":[\"G2\",\"A2\",\"G3\",\"B-2\",\"C3\",\"G3\",\"D3\",\"E-3\",\"D4\",\"F3\",\"D3\",\"C3\",\"D4\",\"B-3\",\"B-2\",\"D3\",\"C4\",\"F3\",\"A3\",\"E-3\",\"G3\",\"F4\",\"A3\",\"D3\",\"C3\",\"G3\",\"B2\",\"E-4\",\"G2\",\"D4\",\"E-4\",\"C3\",\"B-2\",\"C4\",\"A2\",\"G2\",\"D4\",\"F#2\",\"D2\",\"B-3\",\"G2\",\"A3\",\"F2\",\"G3\",\"E-2\",\"F#3\",\"D2\",\"G4\",\"C4\",\"G3\",\"E-2\",\"A3\",\"G4\",\"D4\",\"B-3\",\"D2\",\"A3\",\"G3\",\"F#4\",\"A3\",\"G4\",\"A4\",\"B-4\",\"G3\",\"D3\",\"F#3\",\"G3\",\"E-3\",\"G4\",\"B-3\",\"D3\",\"F#4\",\"G4\",\"C5\",\"E3\",\"A3\",\"C3\",\"G3\",\"A3\",\"F3\",\"A4\",\"A4\",\"C4\",\"E3\",\"G4\",\"A4\",\"D5\",\"F#3\",\"B-3\",\"D3\",\"A3\",\"B-3\",\"G3\",\"G4\",\"A4\",\"B-4\",\"G4\",\"D4\",\"G2\",\"C5\",\"D5\",\"E-5\",\"C3\",\"C4\",\"F#4\",\"D3\",\"D5\",\"B-3\",\"C5\",\"G4\",\"A3\",\"E-3\",\"B-4\",\"G3\",\"A4\",\"A4\",\"E-4\",\"C4\",\"C3\",\"B-4\",\"C5\",\"F#4\",\"D4\",\"A3\",\"D3\",\"E4\",\"C3\",\"D4\",\"G4\",\"B-2\",\"B-3\",\"G3\",\"E-3\",\"A4\",\"E-4\",\"C3\",\"G4\",\"F#4\",\"G4\",\"C4\",\"A2\",\"C5\",\"A4\",\"G4\",\"D4\",\"A3\",\"D3\",\"F#4\",\"C4\",\"D2\",\"G4\",\"G4\",\"G3\",\"G2\",\"B-3\",\"A2\",\"C4\",\"D4\",\"B-2\",\"C4\",\"C3\",\"B-3\",\"A3\",\"D3\",\"E-3\",\"F3\",\"D3\",\"B-3\",\"C3\",\"C4\",\"D4\",\"B-2\",\"E-4\",\"C3\",\"F4\",\"B-3\",\"D3\",\"G4\",\"E-3\",\"C4\",\"F3\",\"G3\",\"A3\",\"F3\",\"D4\",\"E-3\",\"E-4\",\"F4\",\"D3\",\"B3\",\"C3\",\"C4\",\"D4\",\"B2\",\"G4\",\"G2\",\"F4\",\"E-4\",\"C3\",\"C4\",\"D3\",\"B3\",\"C4\",\"E-3\",\"C3\",\"G4\",\"D4\",\"G3\",\"B-4\",\"B-3\",\"G2\",\"A4\",\"C4\",\"B-4\",\"A4\",\"D4\",\"G3\",\"B-4\",\"E-4\",\"F3\",\"F4\",\"C5\",\"G4\",\"E-3\",\"F4\",\"E-4\",\"G3\",\"C3\",\"D4\",\"C4\",\"A3\",\"F3\",\"B-4\",\"A4\",\"G3\",\"B-4\",\"C5\",\"A3\",\"D5\",\"E-5\",\"G4\",\"B-3\",\"G3\",\"F4\",\"C4\",\"A3\",\"C5\",\"B-4\",\"A3\",\"F3\",\"C5\",\"D5\",\"B-3\",\"B-3\",\"E-5\",\"F5\",\"D4\",\"B-2\",\"C4\",\"D4\",\"B-3\",\"D5\",\"C5\",\"B-4\",\"F4\",\"G#3\",\"D5\",\"E-5\",\"B-4\",\"B-3\",\"G3\",\"F5\",\"G5\",\"E-4\",\"F3\",\"D4\",\"C4\",\"E-3\",\"C5\",\"D5\",\"G4\",\"E-5\",\"A4\",\"F4\",\"G4\",\"B-3\",\"E-2\",\"F4\",\"A3\",\"F5\",\"B-3\",\"D2\",\"C4\",\"G#4\",\"D4\",\"C3\",\"G4\",\"B2\",\"G5\",\"F5\",\"E-5\",\"C4\",\"G2\",\"F5\",\"D5\",\"B3\",\"E-5\",\"C4\",\"C3\",\"G4\",\"B-2\",\"F4\",\"A2\",\"A5\",\"B-5\",\"C6\",\"B-3\",\"F2\",\"E-5\",\"A3\",\"D5\",\"B-3\",\"B-2\",\"F4\",\"D3\",\"G4\",\"E-3\",\"G4\",\"G4\",\"D3\",\"F4\",\"G4\",\"C5\",\"B-4\",\"G4\",\"E-4\",\"E-3\",\"A4\",\"B-4\",\"D3\",\"A4\",\"G4\",\"F4\",\"C4\",\"A3\",\"E-3\",\"G4\",\"A4\",\"B-4\",\"D3\",\"C5\",\"D5\",\"E-5\",\"F5\",\"E-3\",\"E-4\",\"A3\",\"C3\",\"D4\",\"B-3\",\"D3\",\"G5\",\"F5\",\"E-5\",\"G4\",\"E-3\",\"D5\",\"C5\",\"B-4\",\"D5\",\"F4\",\"F3\",\"D4\",\"C5\",\"E-4\",\"A3\",\"F2\",\"B-4\",\"B-4\",\"F3\",\"B-2\",\"D4\",\"C3\",\"E-4\",\"F4\",\"B-3\",\"D3\",\"E-4\",\"E-3\",\"D4\",\"C4\",\"F3\",\"G3\",\"A3\",\"F3\",\"D4\",\"E-3\",\"E-4\",\"F4\",\"D3\",\"B3\",\"C3\",\"C4\",\"D4\",\"B2\",\"C4\",\"B3\",\"G2\",\"A3\",\"G3\",\"C3\",\"E-4\",\"D3\",\"D4\",\"E-4\",\"C3\",\"C5\",\"A3\",\"B-2\",\"B-3\",\"F#4\",\"C4\",\"A2\",\"D4\",\"G4\",\"E-4\",\"G2\",\"A4\",\"F#2\",\"D4\",\"D2\",\"C4\",\"B-4\",\"B-3\",\"G2\",\"C5\",\"G4\",\"E-4\",\"G3\",\"B-4\",\"A4\",\"B-4\",\"C5\",\"F4\",\"A3\",\"D5\",\"D4\",\"F3\",\"C5\",\"B-4\",\"C5\",\"C4\",\"D5\",\"B-3\",\"B-2\",\"B-4\",\"A4\",\"E-4\",\"C3\",\"B-4\",\"F5\",\"D4\",\"D3\",\"G4\",\"B-3\",\"E-3\",\"E-5\",\"D5\",\"C5\",\"A4\",\"F4\",\"F3\",\"D5\",\"C5\",\"B4\",\"F2\",\"C5\",\"D5\",\"E-2\",\"E-5\",\"D5\",\"C5\",\"B4\",\"F4\",\"D2\",\"D5\",\"E-5\",\"C5\",\"G4\",\"C2\",\"C5\",\"B4\",\"F4\",\"D2\",\"C5\",\"G5\",\"E-4\",\"E-2\",\"A4\",\"C2\",\"F5\",\"E-5\",\"D5\",\"B-4\",\"G2\",\"G5\",\"A5\",\"B-5\",\"D4\",\"G3\",\"F5\",\"E-5\",\"G4\",\"D5\",\"D5\",\"B-4\",\"F4\",\"G3\",\"C5\",\"C5\",\"A4\",\"E-4\",\"G3\",\"F#5\",\"G5\",\"A5\",\"D4\",\"F#3\",\"E-5\",\"D5\",\"C5\",\"C5\",\"A4\",\"D4\",\"F#3\",\"B-4\",\"B-4\",\"G4\",\"D4\",\"G3\",\"G5\",\"F3\",\"F5\",\"E-5\",\"D5\",\"C5\",\"D5\",\"E-3\",\"C5\",\"F4\",\"D4\",\"B4\",\"C5\",\"G4\",\"F4\",\"F4\",\"D4\",\"G4\",\"C4\",\"E-5\",\"D5\",\"C5\",\"D3\",\"D5\",\"E-5\",\"C5\",\"C3\",\"G#4\",\"D4\",\"B3\",\"G4\",\"G#4\",\"E-4\",\"C4\",\"D4\",\"B3\",\"E-4\",\"C4\",\"E-5\",\"D5\",\"E-5\",\"C2\",\"C5\",\"B4\",\"C5\",\"C5\",\"G#4\",\"C3\",\"G4\",\"G#4\",\"G#4\",\"E-4\",\"C4\",\"G4\",\"F#4\",\"G4\",\"B-3\",\"F#4\",\"D4\",\"A3\",\"A4\",\"C5\",\"E-5\",\"F#4\",\"C4\",\"A2\",\"D5\",\"D5\",\"G4\",\"D4\",\"B-2\",\"C4\",\"A4\",\"C4\",\"F#2\",\"B-3\",\"G5\",\"D4\",\"B-3\",\"G2\",\"F#5\",\"E5\",\"D5\",\"G4\",\"G3\",\"B-2\",\"C5\",\"B-4\",\"C3\",\"A4\",\"D4\",\"F#3\",\"D3\",\"G4\",\"A4\",\"G4\",\"G3\",\"E-3\",\"C4\",\"F3\",\"B3\",\"C4\",\"E-3\",\"D4\",\"D4\",\"D3\",\"E-4\",\"E-4\",\"C3\",\"G3\",\"C2\",\"F#3\",\"G3\",\"A3\",\"A3\",\"C3\",\"B-3\",\"B-3\",\"G2\",\"D4\",\"G3\",\"C4\",\"D4\",\"F3\",\"E-4\",\"E-4\",\"E-3\",\"F4\",\"F4\",\"D3\",\"A3\",\"D2\",\"G3\",\"A3\",\"D3\",\"B3\",\"B3\",\"G2\",\"C4\",\"C4\",\"C3\",\"E-4\",\"G4\",\"E-3\",\"F4\",\"F4\",\"G#2\",\"E-4\",\"E-4\",\"C3\",\"D4\",\"D4\",\"F2\",\"G#4\",\"G#4\",\"F3\",\"G4\",\"G4\",\"E-3\",\"F4\",\"F4\",\"G#3\",\"E-4\",\"E-4\",\"G3\",\"F3\",\"F4\",\"D4\",\"D4\",\"B3\",\"G3\",\"G2\",\"G4\",\"A3\",\"B3\",\"E-4\",\"C4\",\"C3\",\"F4\",\"F4\",\"D3\",\"E-4\",\"G4\",\"E-4\",\"C3\",\"D4\",\"D4\",\"B-2\",\"C4\",\"G4\",\"C4\",\"A2\",\"B-3\",\"B-3\",\"D2\",\"A3\",\"F#4\",\"A3\",\"D3\",\"G4\",\"B-3\",\"A4\",\"C4\",\"B-4\",\"F#3\",\"D3\",\"B-2\",\"G3\",\"E-3\",\"G4\",\"G4\",\"B-3\",\"D3\",\"F#4\",\"G4\",\"C5\",\"E3\",\"A3\",\"C3\",\"G3\",\"A3\",\"F3\",\"A4\",\"A4\",\"C4\",\"E3\",\"G4\",\"A4\",\"D5\",\"F#3\",\"B-3\",\"D3\",\"A3\",\"B-3\",\"G3\",\"G4\",\"A4\",\"B-4\",\"G4\",\"D4\",\"G2\",\"C5\",\"D5\",\"E-5\",\"C3\",\"C4\",\"F#4\",\"D3\",\"D5\",\"B-3\",\"C5\",\"G4\",\"A3\",\"E-3\",\"B-4\",\"G3\",\"A4\",\"A4\",\"E-4\",\"C4\",\"C3\",\"B-4\",\"C5\",\"B-3\",\"G4\",\"F#4\",\"D4\",\"A3\",\"D3\",\"E4\",\"C3\",\"D4\",\"G4\",\"B-2\",\"B-3\",\"G3\",\"E-3\",\"A4\",\"E-4\",\"C3\",\"G4\",\"F#4\",\"G4\",\"C4\",\"A2\",\"C5\",\"A4\",\"G4\",\"D4\",\"A3\",\"D3\",\"F#4\",\"C4\",\"D2\",\"G4\",\"G4\",\"B3\",\"G3\",\"G2\",\"G5\",\"F5\",\"C4\",\"A3\",\"D4\",\"B3\",\"E-5\",\"D5\",\"G5\",\"B3\",\"G3\",\"F5\",\"E-5\",\"D5\",\"F5\",\"E-5\",\"C4\",\"D5\",\"C5\",\"B-5\",\"D4\",\"F3\",\"A5\",\"C4\",\"E-3\",\"B-5\",\"C6\",\"B-5\",\"D4\",\"D3\",\"A5\",\"G5\",\"A5\",\"B-3\",\"E-3\",\"G5\",\"F#5\",\"A3\",\"C3\",\"G5\",\"A5\",\"C5\",\"G3\",\"E-3\",\"E-5\",\"F#3\",\"D3\",\"D5\",\"C5\",\"D5\",\"A3\",\"F#3\",\"C5\",\"B-4\",\"A4\",\"E-4\",\"B-4\",\"D4\",\"G3\",\"G5\",\"E-5\",\"C#5\",\"B-2\",\"D5\",\"G4\",\"B-4\",\"D3\",\"A4\",\"F#3\",\"D2\",\"G4\",\"A4\",\"C4\",\"G4\",\"G3\",\"G2\",\"B3\",\"F4\",\"D4\",\"E-4\",\"B3\",\"C4\",\"F#3\",\"11.2\"],\"y\":[\"A2\",\"G3\",\"B-2\",\"C3\",\"G3\",\"D3\",\"E-3\",\"D4\",\"F3\",\"D3\",\"C3\",\"D4\",\"B-3\",\"B-2\",\"D3\",\"C4\",\"F3\",\"A3\",\"E-3\",\"G3\",\"F4\",\"A3\",\"D3\",\"C3\",\"G3\",\"B2\",\"E-4\",\"G2\",\"D4\",\"E-4\",\"C3\",\"B-2\",\"C4\",\"A2\",\"G2\",\"D4\",\"F#2\",\"D2\",\"B-3\",\"G2\",\"A3\",\"F2\",\"G3\",\"E-2\",\"F#3\",\"D2\",\"G4\",\"C4\",\"G3\",\"E-2\",\"A3\",\"G4\",\"D4\",\"B-3\",\"D2\",\"A3\",\"G3\",\"F#4\",\"A3\",\"G4\",\"A4\",\"B-4\",\"G3\",\"D3\",\"F#3\",\"G3\",\"E-3\",\"G4\",\"B-3\",\"D3\",\"F#4\",\"G4\",\"C5\",\"E3\",\"A3\",\"C3\",\"G3\",\"A3\",\"F3\",\"A4\",\"A4\",\"C4\",\"E3\",\"G4\",\"A4\",\"D5\",\"F#3\",\"B-3\",\"D3\",\"A3\",\"B-3\",\"G3\",\"G4\",\"A4\",\"B-4\",\"G4\",\"D4\",\"G2\",\"C5\",\"D5\",\"E-5\",\"C3\",\"C4\",\"F#4\",\"D3\",\"D5\",\"B-3\",\"C5\",\"G4\",\"A3\",\"E-3\",\"B-4\",\"G3\",\"A4\",\"A4\",\"E-4\",\"C4\",\"C3\",\"B-4\",\"C5\",\"F#4\",\"D4\",\"A3\",\"D3\",\"E4\",\"C3\",\"D4\",\"G4\",\"B-2\",\"B-3\",\"G3\",\"E-3\",\"A4\",\"E-4\",\"C3\",\"G4\",\"F#4\",\"G4\",\"C4\",\"A2\",\"C5\",\"A4\",\"G4\",\"D4\",\"A3\",\"D3\",\"F#4\",\"C4\",\"D2\",\"G4\",\"G4\",\"G3\",\"G2\",\"B-3\",\"A2\",\"C4\",\"D4\",\"B-2\",\"C4\",\"C3\",\"B-3\",\"A3\",\"D3\",\"E-3\",\"F3\",\"D3\",\"B-3\",\"C3\",\"C4\",\"D4\",\"B-2\",\"E-4\",\"C3\",\"F4\",\"B-3\",\"D3\",\"G4\",\"E-3\",\"C4\",\"F3\",\"G3\",\"A3\",\"F3\",\"D4\",\"E-3\",\"E-4\",\"F4\",\"D3\",\"B3\",\"C3\",\"C4\",\"D4\",\"B2\",\"G4\",\"G2\",\"F4\",\"E-4\",\"C3\",\"C4\",\"D3\",\"B3\",\"C4\",\"E-3\",\"C3\",\"G4\",\"D4\",\"G3\",\"B-4\",\"B-3\",\"G2\",\"A4\",\"C4\",\"B-4\",\"A4\",\"D4\",\"G3\",\"B-4\",\"E-4\",\"F3\",\"F4\",\"C5\",\"G4\",\"E-3\",\"F4\",\"E-4\",\"G3\",\"C3\",\"D4\",\"C4\",\"A3\",\"F3\",\"B-4\",\"A4\",\"G3\",\"B-4\",\"C5\",\"A3\",\"D5\",\"E-5\",\"G4\",\"B-3\",\"G3\",\"F4\",\"C4\",\"A3\",\"C5\",\"B-4\",\"A3\",\"F3\",\"C5\",\"D5\",\"B-3\",\"B-3\",\"E-5\",\"F5\",\"D4\",\"B-2\",\"C4\",\"D4\",\"B-3\",\"D5\",\"C5\",\"B-4\",\"F4\",\"G#3\",\"D5\",\"E-5\",\"B-4\",\"B-3\",\"G3\",\"F5\",\"G5\",\"E-4\",\"F3\",\"D4\",\"C4\",\"E-3\",\"C5\",\"D5\",\"G4\",\"E-5\",\"A4\",\"F4\",\"G4\",\"B-3\",\"E-2\",\"F4\",\"A3\",\"F5\",\"B-3\",\"D2\",\"C4\",\"G#4\",\"D4\",\"C3\",\"G4\",\"B2\",\"G5\",\"F5\",\"E-5\",\"C4\",\"G2\",\"F5\",\"D5\",\"B3\",\"E-5\",\"C4\",\"C3\",\"G4\",\"B-2\",\"F4\",\"A2\",\"A5\",\"B-5\",\"C6\",\"B-3\",\"F2\",\"E-5\",\"A3\",\"D5\",\"B-3\",\"B-2\",\"F4\",\"D3\",\"G4\",\"E-3\",\"G4\",\"G4\",\"D3\",\"F4\",\"G4\",\"C5\",\"B-4\",\"G4\",\"E-4\",\"E-3\",\"A4\",\"B-4\",\"D3\",\"A4\",\"G4\",\"F4\",\"C4\",\"A3\",\"E-3\",\"G4\",\"A4\",\"B-4\",\"D3\",\"C5\",\"D5\",\"E-5\",\"F5\",\"E-3\",\"E-4\",\"A3\",\"C3\",\"D4\",\"B-3\",\"D3\",\"G5\",\"F5\",\"E-5\",\"G4\",\"E-3\",\"D5\",\"C5\",\"B-4\",\"D5\",\"F4\",\"F3\",\"D4\",\"C5\",\"E-4\",\"A3\",\"F2\",\"B-4\",\"B-4\",\"F3\",\"B-2\",\"D4\",\"C3\",\"E-4\",\"F4\",\"B-3\",\"D3\",\"E-4\",\"E-3\",\"D4\",\"C4\",\"F3\",\"G3\",\"A3\",\"F3\",\"D4\",\"E-3\",\"E-4\",\"F4\",\"D3\",\"B3\",\"C3\",\"C4\",\"D4\",\"B2\",\"C4\",\"B3\",\"G2\",\"A3\",\"G3\",\"C3\",\"E-4\",\"D3\",\"D4\",\"E-4\",\"C3\",\"C5\",\"A3\",\"B-2\",\"B-3\",\"F#4\",\"C4\",\"A2\",\"D4\",\"G4\",\"E-4\",\"G2\",\"A4\",\"F#2\",\"D4\",\"D2\",\"C4\",\"B-4\",\"B-3\",\"G2\",\"C5\",\"G4\",\"E-4\",\"G3\",\"B-4\",\"A4\",\"B-4\",\"C5\",\"F4\",\"A3\",\"D5\",\"D4\",\"F3\",\"C5\",\"B-4\",\"C5\",\"C4\",\"D5\",\"B-3\",\"B-2\",\"B-4\",\"A4\",\"E-4\",\"C3\",\"B-4\",\"F5\",\"D4\",\"D3\",\"G4\",\"B-3\",\"E-3\",\"E-5\",\"D5\",\"C5\",\"A4\",\"F4\",\"F3\",\"D5\",\"C5\",\"B4\",\"F2\",\"C5\",\"D5\",\"E-2\",\"E-5\",\"D5\",\"C5\",\"B4\",\"F4\",\"D2\",\"D5\",\"E-5\",\"C5\",\"G4\",\"C2\",\"C5\",\"B4\",\"F4\",\"D2\",\"C5\",\"G5\",\"E-4\",\"E-2\",\"A4\",\"C2\",\"F5\",\"E-5\",\"D5\",\"B-4\",\"G2\",\"G5\",\"A5\",\"B-5\",\"D4\",\"G3\",\"F5\",\"E-5\",\"G4\",\"D5\",\"D5\",\"B-4\",\"F4\",\"G3\",\"C5\",\"C5\",\"A4\",\"E-4\",\"G3\",\"F#5\",\"G5\",\"A5\",\"D4\",\"F#3\",\"E-5\",\"D5\",\"C5\",\"C5\",\"A4\",\"D4\",\"F#3\",\"B-4\",\"B-4\",\"G4\",\"D4\",\"G3\",\"G5\",\"F3\",\"F5\",\"E-5\",\"D5\",\"C5\",\"D5\",\"E-3\",\"C5\",\"F4\",\"D4\",\"B4\",\"C5\",\"G4\",\"F4\",\"F4\",\"D4\",\"G4\",\"C4\",\"E-5\",\"D5\",\"C5\",\"D3\",\"D5\",\"E-5\",\"C5\",\"C3\",\"G#4\",\"D4\",\"B3\",\"G4\",\"G#4\",\"E-4\",\"C4\",\"D4\",\"B3\",\"E-4\",\"C4\",\"E-5\",\"D5\",\"E-5\",\"C2\",\"C5\",\"B4\",\"C5\",\"C5\",\"G#4\",\"C3\",\"G4\",\"G#4\",\"G#4\",\"E-4\",\"C4\",\"G4\",\"F#4\",\"G4\",\"B-3\",\"F#4\",\"D4\",\"A3\",\"A4\",\"C5\",\"E-5\",\"F#4\",\"C4\",\"A2\",\"D5\",\"D5\",\"G4\",\"D4\",\"B-2\",\"C4\",\"A4\",\"C4\",\"F#2\",\"B-3\",\"G5\",\"D4\",\"B-3\",\"G2\",\"F#5\",\"E5\",\"D5\",\"G4\",\"G3\",\"B-2\",\"C5\",\"B-4\",\"C3\",\"A4\",\"D4\",\"F#3\",\"D3\",\"G4\",\"A4\",\"G4\",\"G3\",\"E-3\",\"C4\",\"F3\",\"B3\",\"C4\",\"E-3\",\"D4\",\"D4\",\"D3\",\"E-4\",\"E-4\",\"C3\",\"G3\",\"C2\",\"F#3\",\"G3\",\"A3\",\"A3\",\"C3\",\"B-3\",\"B-3\",\"G2\",\"D4\",\"G3\",\"C4\",\"D4\",\"F3\",\"E-4\",\"E-4\",\"E-3\",\"F4\",\"F4\",\"D3\",\"A3\",\"D2\",\"G3\",\"A3\",\"D3\",\"B3\",\"B3\",\"G2\",\"C4\",\"C4\",\"C3\",\"E-4\",\"G4\",\"E-3\",\"F4\",\"F4\",\"G#2\",\"E-4\",\"E-4\",\"C3\",\"D4\",\"D4\",\"F2\",\"G#4\",\"G#4\",\"F3\",\"G4\",\"G4\",\"E-3\",\"F4\",\"F4\",\"G#3\",\"E-4\",\"E-4\",\"G3\",\"F3\",\"F4\",\"D4\",\"D4\",\"B3\",\"G3\",\"G2\",\"G4\",\"A3\",\"B3\",\"E-4\",\"C4\",\"C3\",\"F4\",\"F4\",\"D3\",\"E-4\",\"G4\",\"E-4\",\"C3\",\"D4\",\"D4\",\"B-2\",\"C4\",\"G4\",\"C4\",\"A2\",\"B-3\",\"B-3\",\"D2\",\"A3\",\"F#4\",\"A3\",\"D3\",\"G4\",\"B-3\",\"A4\",\"C4\",\"B-4\",\"F#3\",\"D3\",\"B-2\",\"G3\",\"E-3\",\"G4\",\"G4\",\"B-3\",\"D3\",\"F#4\",\"G4\",\"C5\",\"E3\",\"A3\",\"C3\",\"G3\",\"A3\",\"F3\",\"A4\",\"A4\",\"C4\",\"E3\",\"G4\",\"A4\",\"D5\",\"F#3\",\"B-3\",\"D3\",\"A3\",\"B-3\",\"G3\",\"G4\",\"A4\",\"B-4\",\"G4\",\"D4\",\"G2\",\"C5\",\"D5\",\"E-5\",\"C3\",\"C4\",\"F#4\",\"D3\",\"D5\",\"B-3\",\"C5\",\"G4\",\"A3\",\"E-3\",\"B-4\",\"G3\",\"A4\",\"A4\",\"E-4\",\"C4\",\"C3\",\"B-4\",\"C5\",\"B-3\",\"G4\",\"F#4\",\"D4\",\"A3\",\"D3\",\"E4\",\"C3\",\"D4\",\"G4\",\"B-2\",\"B-3\",\"G3\",\"E-3\",\"A4\",\"E-4\",\"C3\",\"G4\",\"F#4\",\"G4\",\"C4\",\"A2\",\"C5\",\"A4\",\"G4\",\"D4\",\"A3\",\"D3\",\"F#4\",\"C4\",\"D2\",\"G4\",\"G4\",\"B3\",\"G3\",\"G2\",\"G5\",\"F5\",\"C4\",\"A3\",\"D4\",\"B3\",\"E-5\",\"D5\",\"G5\",\"B3\",\"G3\",\"F5\",\"E-5\",\"D5\",\"F5\",\"E-5\",\"C4\",\"D5\",\"C5\",\"B-5\",\"D4\",\"F3\",\"A5\",\"C4\",\"E-3\",\"B-5\",\"C6\",\"B-5\",\"D4\",\"D3\",\"A5\",\"G5\",\"A5\",\"B-3\",\"E-3\",\"G5\",\"F#5\",\"A3\",\"C3\",\"G5\",\"A5\",\"C5\",\"G3\",\"E-3\",\"E-5\",\"F#3\",\"D3\",\"D5\",\"C5\",\"D5\",\"A3\",\"F#3\",\"C5\",\"B-4\",\"A4\",\"E-4\",\"B-4\",\"D4\",\"G3\",\"G5\",\"E-5\",\"C#5\",\"B-2\",\"D5\",\"G4\",\"B-4\",\"D3\",\"A4\",\"F#3\",\"D2\",\"G4\",\"A4\",\"C4\",\"G4\",\"G3\",\"G2\",\"B3\",\"F4\",\"D4\",\"E-4\",\"B3\",\"C4\",\"F#3\",\"11.2\",\"G3\"],\"z\":[\"G2 A2\",\"A2 G3\",\"G3 B-2\",\"B-2 C3\",\"C3 G3\",\"G3 D3\",\"D3 E-3\",\"E-3 D4\",\"D4 F3\",\"F3 D3\",\"D3 C3\",\"C3 D4\",\"D4 B-3\",\"B-3 B-2\",\"B-2 D3\",\"D3 C4\",\"C4 F3\",\"F3 A3\",\"A3 E-3\",\"E-3 G3\",\"G3 F4\",\"F4 A3\",\"A3 D3\",\"D3 C3\",\"C3 G3\",\"G3 B2\",\"B2 E-4\",\"E-4 G2\",\"G2 D4\",\"D4 E-4\",\"E-4 C3\",\"C3 B-2\",\"B-2 C4\",\"C4 A2\",\"A2 G2\",\"G2 D4\",\"D4 F#2\",\"F#2 D2\",\"D2 B-3\",\"B-3 G2\",\"G2 A3\",\"A3 F2\",\"F2 G3\",\"G3 E-2\",\"E-2 F#3\",\"F#3 D2\",\"D2 G4\",\"G4 C4\",\"C4 G3\",\"G3 E-2\",\"E-2 A3\",\"A3 G4\",\"G4 D4\",\"D4 B-3\",\"B-3 D2\",\"D2 A3\",\"A3 G3\",\"G3 F#4\",\"F#4 A3\",\"A3 G4\",\"G4 A4\",\"A4 B-4\",\"B-4 G3\",\"G3 D3\",\"D3 F#3\",\"F#3 G3\",\"G3 E-3\",\"E-3 G4\",\"G4 B-3\",\"B-3 D3\",\"D3 F#4\",\"F#4 G4\",\"G4 C5\",\"C5 E3\",\"E3 A3\",\"A3 C3\",\"C3 G3\",\"G3 A3\",\"A3 F3\",\"F3 A4\",\"A4 A4\",\"A4 C4\",\"C4 E3\",\"E3 G4\",\"G4 A4\",\"A4 D5\",\"D5 F#3\",\"F#3 B-3\",\"B-3 D3\",\"D3 A3\",\"A3 B-3\",\"B-3 G3\",\"G3 G4\",\"G4 A4\",\"A4 B-4\",\"B-4 G4\",\"G4 D4\",\"D4 G2\",\"G2 C5\",\"C5 D5\",\"D5 E-5\",\"E-5 C3\",\"C3 C4\",\"C4 F#4\",\"F#4 D3\",\"D3 D5\",\"D5 B-3\",\"B-3 C5\",\"C5 G4\",\"G4 A3\",\"A3 E-3\",\"E-3 B-4\",\"B-4 G3\",\"G3 A4\",\"A4 A4\",\"A4 E-4\",\"E-4 C4\",\"C4 C3\",\"C3 B-4\",\"B-4 C5\",\"C5 F#4\",\"F#4 D4\",\"D4 A3\",\"A3 D3\",\"D3 E4\",\"E4 C3\",\"C3 D4\",\"D4 G4\",\"G4 B-2\",\"B-2 B-3\",\"B-3 G3\",\"G3 E-3\",\"E-3 A4\",\"A4 E-4\",\"E-4 C3\",\"C3 G4\",\"G4 F#4\",\"F#4 G4\",\"G4 C4\",\"C4 A2\",\"A2 C5\",\"C5 A4\",\"A4 G4\",\"G4 D4\",\"D4 A3\",\"A3 D3\",\"D3 F#4\",\"F#4 C4\",\"C4 D2\",\"D2 G4\",\"G4 G4\",\"G4 G3\",\"G3 G2\",\"G2 B-3\",\"B-3 A2\",\"A2 C4\",\"C4 D4\",\"D4 B-2\",\"B-2 C4\",\"C4 C3\",\"C3 B-3\",\"B-3 A3\",\"A3 D3\",\"D3 E-3\",\"E-3 F3\",\"F3 D3\",\"D3 B-3\",\"B-3 C3\",\"C3 C4\",\"C4 D4\",\"D4 B-2\",\"B-2 E-4\",\"E-4 C3\",\"C3 F4\",\"F4 B-3\",\"B-3 D3\",\"D3 G4\",\"G4 E-3\",\"E-3 C4\",\"C4 F3\",\"F3 G3\",\"G3 A3\",\"A3 F3\",\"F3 D4\",\"D4 E-3\",\"E-3 E-4\",\"E-4 F4\",\"F4 D3\",\"D3 B3\",\"B3 C3\",\"C3 C4\",\"C4 D4\",\"D4 B2\",\"B2 G4\",\"G4 G2\",\"G2 F4\",\"F4 E-4\",\"E-4 C3\",\"C3 C4\",\"C4 D3\",\"D3 B3\",\"B3 C4\",\"C4 E-3\",\"E-3 C3\",\"C3 G4\",\"G4 D4\",\"D4 G3\",\"G3 B-4\",\"B-4 B-3\",\"B-3 G2\",\"G2 A4\",\"A4 C4\",\"C4 B-4\",\"B-4 A4\",\"A4 D4\",\"D4 G3\",\"G3 B-4\",\"B-4 E-4\",\"E-4 F3\",\"F3 F4\",\"F4 C5\",\"C5 G4\",\"G4 E-3\",\"E-3 F4\",\"F4 E-4\",\"E-4 G3\",\"G3 C3\",\"C3 D4\",\"D4 C4\",\"C4 A3\",\"A3 F3\",\"F3 B-4\",\"B-4 A4\",\"A4 G3\",\"G3 B-4\",\"B-4 C5\",\"C5 A3\",\"A3 D5\",\"D5 E-5\",\"E-5 G4\",\"G4 B-3\",\"B-3 G3\",\"G3 F4\",\"F4 C4\",\"C4 A3\",\"A3 C5\",\"C5 B-4\",\"B-4 A3\",\"A3 F3\",\"F3 C5\",\"C5 D5\",\"D5 B-3\",\"B-3 B-3\",\"B-3 E-5\",\"E-5 F5\",\"F5 D4\",\"D4 B-2\",\"B-2 C4\",\"C4 D4\",\"D4 B-3\",\"B-3 D5\",\"D5 C5\",\"C5 B-4\",\"B-4 F4\",\"F4 G#3\",\"G#3 D5\",\"D5 E-5\",\"E-5 B-4\",\"B-4 B-3\",\"B-3 G3\",\"G3 F5\",\"F5 G5\",\"G5 E-4\",\"E-4 F3\",\"F3 D4\",\"D4 C4\",\"C4 E-3\",\"E-3 C5\",\"C5 D5\",\"D5 G4\",\"G4 E-5\",\"E-5 A4\",\"A4 F4\",\"F4 G4\",\"G4 B-3\",\"B-3 E-2\",\"E-2 F4\",\"F4 A3\",\"A3 F5\",\"F5 B-3\",\"B-3 D2\",\"D2 C4\",\"C4 G#4\",\"G#4 D4\",\"D4 C3\",\"C3 G4\",\"G4 B2\",\"B2 G5\",\"G5 F5\",\"F5 E-5\",\"E-5 C4\",\"C4 G2\",\"G2 F5\",\"F5 D5\",\"D5 B3\",\"B3 E-5\",\"E-5 C4\",\"C4 C3\",\"C3 G4\",\"G4 B-2\",\"B-2 F4\",\"F4 A2\",\"A2 A5\",\"A5 B-5\",\"B-5 C6\",\"C6 B-3\",\"B-3 F2\",\"F2 E-5\",\"E-5 A3\",\"A3 D5\",\"D5 B-3\",\"B-3 B-2\",\"B-2 F4\",\"F4 D3\",\"D3 G4\",\"G4 E-3\",\"E-3 G4\",\"G4 G4\",\"G4 D3\",\"D3 F4\",\"F4 G4\",\"G4 C5\",\"C5 B-4\",\"B-4 G4\",\"G4 E-4\",\"E-4 E-3\",\"E-3 A4\",\"A4 B-4\",\"B-4 D3\",\"D3 A4\",\"A4 G4\",\"G4 F4\",\"F4 C4\",\"C4 A3\",\"A3 E-3\",\"E-3 G4\",\"G4 A4\",\"A4 B-4\",\"B-4 D3\",\"D3 C5\",\"C5 D5\",\"D5 E-5\",\"E-5 F5\",\"F5 E-3\",\"E-3 E-4\",\"E-4 A3\",\"A3 C3\",\"C3 D4\",\"D4 B-3\",\"B-3 D3\",\"D3 G5\",\"G5 F5\",\"F5 E-5\",\"E-5 G4\",\"G4 E-3\",\"E-3 D5\",\"D5 C5\",\"C5 B-4\",\"B-4 D5\",\"D5 F4\",\"F4 F3\",\"F3 D4\",\"D4 C5\",\"C5 E-4\",\"E-4 A3\",\"A3 F2\",\"F2 B-4\",\"B-4 B-4\",\"B-4 F3\",\"F3 B-2\",\"B-2 D4\",\"D4 C3\",\"C3 E-4\",\"E-4 F4\",\"F4 B-3\",\"B-3 D3\",\"D3 E-4\",\"E-4 E-3\",\"E-3 D4\",\"D4 C4\",\"C4 F3\",\"F3 G3\",\"G3 A3\",\"A3 F3\",\"F3 D4\",\"D4 E-3\",\"E-3 E-4\",\"E-4 F4\",\"F4 D3\",\"D3 B3\",\"B3 C3\",\"C3 C4\",\"C4 D4\",\"D4 B2\",\"B2 C4\",\"C4 B3\",\"B3 G2\",\"G2 A3\",\"A3 G3\",\"G3 C3\",\"C3 E-4\",\"E-4 D3\",\"D3 D4\",\"D4 E-4\",\"E-4 C3\",\"C3 C5\",\"C5 A3\",\"A3 B-2\",\"B-2 B-3\",\"B-3 F#4\",\"F#4 C4\",\"C4 A2\",\"A2 D4\",\"D4 G4\",\"G4 E-4\",\"E-4 G2\",\"G2 A4\",\"A4 F#2\",\"F#2 D4\",\"D4 D2\",\"D2 C4\",\"C4 B-4\",\"B-4 B-3\",\"B-3 G2\",\"G2 C5\",\"C5 G4\",\"G4 E-4\",\"E-4 G3\",\"G3 B-4\",\"B-4 A4\",\"A4 B-4\",\"B-4 C5\",\"C5 F4\",\"F4 A3\",\"A3 D5\",\"D5 D4\",\"D4 F3\",\"F3 C5\",\"C5 B-4\",\"B-4 C5\",\"C5 C4\",\"C4 D5\",\"D5 B-3\",\"B-3 B-2\",\"B-2 B-4\",\"B-4 A4\",\"A4 E-4\",\"E-4 C3\",\"C3 B-4\",\"B-4 F5\",\"F5 D4\",\"D4 D3\",\"D3 G4\",\"G4 B-3\",\"B-3 E-3\",\"E-3 E-5\",\"E-5 D5\",\"D5 C5\",\"C5 A4\",\"A4 F4\",\"F4 F3\",\"F3 D5\",\"D5 C5\",\"C5 B4\",\"B4 F2\",\"F2 C5\",\"C5 D5\",\"D5 E-2\",\"E-2 E-5\",\"E-5 D5\",\"D5 C5\",\"C5 B4\",\"B4 F4\",\"F4 D2\",\"D2 D5\",\"D5 E-5\",\"E-5 C5\",\"C5 G4\",\"G4 C2\",\"C2 C5\",\"C5 B4\",\"B4 F4\",\"F4 D2\",\"D2 C5\",\"C5 G5\",\"G5 E-4\",\"E-4 E-2\",\"E-2 A4\",\"A4 C2\",\"C2 F5\",\"F5 E-5\",\"E-5 D5\",\"D5 B-4\",\"B-4 G2\",\"G2 G5\",\"G5 A5\",\"A5 B-5\",\"B-5 D4\",\"D4 G3\",\"G3 F5\",\"F5 E-5\",\"E-5 G4\",\"G4 D5\",\"D5 D5\",\"D5 B-4\",\"B-4 F4\",\"F4 G3\",\"G3 C5\",\"C5 C5\",\"C5 A4\",\"A4 E-4\",\"E-4 G3\",\"G3 F#5\",\"F#5 G5\",\"G5 A5\",\"A5 D4\",\"D4 F#3\",\"F#3 E-5\",\"E-5 D5\",\"D5 C5\",\"C5 C5\",\"C5 A4\",\"A4 D4\",\"D4 F#3\",\"F#3 B-4\",\"B-4 B-4\",\"B-4 G4\",\"G4 D4\",\"D4 G3\",\"G3 G5\",\"G5 F3\",\"F3 F5\",\"F5 E-5\",\"E-5 D5\",\"D5 C5\",\"C5 D5\",\"D5 E-3\",\"E-3 C5\",\"C5 F4\",\"F4 D4\",\"D4 B4\",\"B4 C5\",\"C5 G4\",\"G4 F4\",\"F4 F4\",\"F4 D4\",\"D4 G4\",\"G4 C4\",\"C4 E-5\",\"E-5 D5\",\"D5 C5\",\"C5 D3\",\"D3 D5\",\"D5 E-5\",\"E-5 C5\",\"C5 C3\",\"C3 G#4\",\"G#4 D4\",\"D4 B3\",\"B3 G4\",\"G4 G#4\",\"G#4 E-4\",\"E-4 C4\",\"C4 D4\",\"D4 B3\",\"B3 E-4\",\"E-4 C4\",\"C4 E-5\",\"E-5 D5\",\"D5 E-5\",\"E-5 C2\",\"C2 C5\",\"C5 B4\",\"B4 C5\",\"C5 C5\",\"C5 G#4\",\"G#4 C3\",\"C3 G4\",\"G4 G#4\",\"G#4 G#4\",\"G#4 E-4\",\"E-4 C4\",\"C4 G4\",\"G4 F#4\",\"F#4 G4\",\"G4 B-3\",\"B-3 F#4\",\"F#4 D4\",\"D4 A3\",\"A3 A4\",\"A4 C5\",\"C5 E-5\",\"E-5 F#4\",\"F#4 C4\",\"C4 A2\",\"A2 D5\",\"D5 D5\",\"D5 G4\",\"G4 D4\",\"D4 B-2\",\"B-2 C4\",\"C4 A4\",\"A4 C4\",\"C4 F#2\",\"F#2 B-3\",\"B-3 G5\",\"G5 D4\",\"D4 B-3\",\"B-3 G2\",\"G2 F#5\",\"F#5 E5\",\"E5 D5\",\"D5 G4\",\"G4 G3\",\"G3 B-2\",\"B-2 C5\",\"C5 B-4\",\"B-4 C3\",\"C3 A4\",\"A4 D4\",\"D4 F#3\",\"F#3 D3\",\"D3 G4\",\"G4 A4\",\"A4 G4\",\"G4 G3\",\"G3 E-3\",\"E-3 C4\",\"C4 F3\",\"F3 B3\",\"B3 C4\",\"C4 E-3\",\"E-3 D4\",\"D4 D4\",\"D4 D3\",\"D3 E-4\",\"E-4 E-4\",\"E-4 C3\",\"C3 G3\",\"G3 C2\",\"C2 F#3\",\"F#3 G3\",\"G3 A3\",\"A3 A3\",\"A3 C3\",\"C3 B-3\",\"B-3 B-3\",\"B-3 G2\",\"G2 D4\",\"D4 G3\",\"G3 C4\",\"C4 D4\",\"D4 F3\",\"F3 E-4\",\"E-4 E-4\",\"E-4 E-3\",\"E-3 F4\",\"F4 F4\",\"F4 D3\",\"D3 A3\",\"A3 D2\",\"D2 G3\",\"G3 A3\",\"A3 D3\",\"D3 B3\",\"B3 B3\",\"B3 G2\",\"G2 C4\",\"C4 C4\",\"C4 C3\",\"C3 E-4\",\"E-4 G4\",\"G4 E-3\",\"E-3 F4\",\"F4 F4\",\"F4 G#2\",\"G#2 E-4\",\"E-4 E-4\",\"E-4 C3\",\"C3 D4\",\"D4 D4\",\"D4 F2\",\"F2 G#4\",\"G#4 G#4\",\"G#4 F3\",\"F3 G4\",\"G4 G4\",\"G4 E-3\",\"E-3 F4\",\"F4 F4\",\"F4 G#3\",\"G#3 E-4\",\"E-4 E-4\",\"E-4 G3\",\"G3 F3\",\"F3 F4\",\"F4 D4\",\"D4 D4\",\"D4 B3\",\"B3 G3\",\"G3 G2\",\"G2 G4\",\"G4 A3\",\"A3 B3\",\"B3 E-4\",\"E-4 C4\",\"C4 C3\",\"C3 F4\",\"F4 F4\",\"F4 D3\",\"D3 E-4\",\"E-4 G4\",\"G4 E-4\",\"E-4 C3\",\"C3 D4\",\"D4 D4\",\"D4 B-2\",\"B-2 C4\",\"C4 G4\",\"G4 C4\",\"C4 A2\",\"A2 B-3\",\"B-3 B-3\",\"B-3 D2\",\"D2 A3\",\"A3 F#4\",\"F#4 A3\",\"A3 D3\",\"D3 G4\",\"G4 B-3\",\"B-3 A4\",\"A4 C4\",\"C4 B-4\",\"B-4 F#3\",\"F#3 D3\",\"D3 B-2\",\"B-2 G3\",\"G3 E-3\",\"E-3 G4\",\"G4 G4\",\"G4 B-3\",\"B-3 D3\",\"D3 F#4\",\"F#4 G4\",\"G4 C5\",\"C5 E3\",\"E3 A3\",\"A3 C3\",\"C3 G3\",\"G3 A3\",\"A3 F3\",\"F3 A4\",\"A4 A4\",\"A4 C4\",\"C4 E3\",\"E3 G4\",\"G4 A4\",\"A4 D5\",\"D5 F#3\",\"F#3 B-3\",\"B-3 D3\",\"D3 A3\",\"A3 B-3\",\"B-3 G3\",\"G3 G4\",\"G4 A4\",\"A4 B-4\",\"B-4 G4\",\"G4 D4\",\"D4 G2\",\"G2 C5\",\"C5 D5\",\"D5 E-5\",\"E-5 C3\",\"C3 C4\",\"C4 F#4\",\"F#4 D3\",\"D3 D5\",\"D5 B-3\",\"B-3 C5\",\"C5 G4\",\"G4 A3\",\"A3 E-3\",\"E-3 B-4\",\"B-4 G3\",\"G3 A4\",\"A4 A4\",\"A4 E-4\",\"E-4 C4\",\"C4 C3\",\"C3 B-4\",\"B-4 C5\",\"C5 B-3\",\"B-3 G4\",\"G4 F#4\",\"F#4 D4\",\"D4 A3\",\"A3 D3\",\"D3 E4\",\"E4 C3\",\"C3 D4\",\"D4 G4\",\"G4 B-2\",\"B-2 B-3\",\"B-3 G3\",\"G3 E-3\",\"E-3 A4\",\"A4 E-4\",\"E-4 C3\",\"C3 G4\",\"G4 F#4\",\"F#4 G4\",\"G4 C4\",\"C4 A2\",\"A2 C5\",\"C5 A4\",\"A4 G4\",\"G4 D4\",\"D4 A3\",\"A3 D3\",\"D3 F#4\",\"F#4 C4\",\"C4 D2\",\"D2 G4\",\"G4 G4\",\"G4 B3\",\"B3 G3\",\"G3 G2\",\"G2 G5\",\"G5 F5\",\"F5 C4\",\"C4 A3\",\"A3 D4\",\"D4 B3\",\"B3 E-5\",\"E-5 D5\",\"D5 G5\",\"G5 B3\",\"B3 G3\",\"G3 F5\",\"F5 E-5\",\"E-5 D5\",\"D5 F5\",\"F5 E-5\",\"E-5 C4\",\"C4 D5\",\"D5 C5\",\"C5 B-5\",\"B-5 D4\",\"D4 F3\",\"F3 A5\",\"A5 C4\",\"C4 E-3\",\"E-3 B-5\",\"B-5 C6\",\"C6 B-5\",\"B-5 D4\",\"D4 D3\",\"D3 A5\",\"A5 G5\",\"G5 A5\",\"A5 B-3\",\"B-3 E-3\",\"E-3 G5\",\"G5 F#5\",\"F#5 A3\",\"A3 C3\",\"C3 G5\",\"G5 A5\",\"A5 C5\",\"C5 G3\",\"G3 E-3\",\"E-3 E-5\",\"E-5 F#3\",\"F#3 D3\",\"D3 D5\",\"D5 C5\",\"C5 D5\",\"D5 A3\",\"A3 F#3\",\"F#3 C5\",\"C5 B-4\",\"B-4 A4\",\"A4 E-4\",\"E-4 B-4\",\"B-4 D4\",\"D4 G3\",\"G3 G5\",\"G5 E-5\",\"E-5 C#5\",\"C#5 B-2\",\"B-2 D5\",\"D5 G4\",\"G4 B-4\",\"B-4 D3\",\"D3 A4\",\"A4 F#3\",\"F#3 D2\",\"D2 G4\",\"G4 A4\",\"A4 C4\",\"C4 G4\",\"G4 G3\",\"G3 G2\",\"G2 B3\",\"B3 F4\",\"F4 D4\",\"D4 E-4\",\"E-4 B3\",\"B3 C4\",\"C4 F#3\",\"F#3 11.2\",\"11.2 G3\"]},\"selected\":{\"id\":\"1472\",\"type\":\"Selection\"},\"selection_policy\":{\"id\":\"1471\",\"type\":\"UnionRenderers\"}},\"id\":\"1397\",\"type\":\"ColumnDataSource\"},{\"attributes\":{},\"id\":\"1587\",\"type\":\"CategoricalTicker\"},{\"attributes\":{},\"id\":\"1583\",\"type\":\"CategoricalTicker\"},{\"attributes\":{},\"id\":\"1580\",\"type\":\"CategoricalScale\"},{\"attributes\":{},\"id\":\"1651\",\"type\":\"CategoricalTickFormatter\"},{\"attributes\":{},\"id\":\"1471\",\"type\":\"UnionRenderers\"},{\"attributes\":{\"dimension\":1,\"ticker\":{\"id\":\"1587\",\"type\":\"CategoricalTicker\"}},\"id\":\"1589\",\"type\":\"Grid\"},{\"attributes\":{\"bottom_units\":\"screen\",\"fill_alpha\":{\"value\":0.5},\"fill_color\":{\"value\":\"lightgrey\"},\"left_units\":\"screen\",\"level\":\"overlay\",\"line_alpha\":{\"value\":1.0},\"line_color\":{\"value\":\"black\"},\"line_dash\":[4,4],\"line_width\":{\"value\":2},\"render_mode\":\"css\",\"right_units\":\"screen\",\"top_units\":\"screen\"},\"id\":\"1656\",\"type\":\"BoxAnnotation\"},{\"attributes\":{},\"id\":\"1590\",\"type\":\"PanTool\"},{\"attributes\":{\"text\":\"\"},\"id\":\"1648\",\"type\":\"Title\"}],\"root_ids\":[\"1573\"]},\"title\":\"Bokeh Application\",\"version\":\"1.2.0\"}};\n",
       "  var render_items = [{\"docid\":\"48ae8cd1-7a9f-427b-9ddc-5eb0003ff7ad\",\"roots\":{\"1573\":\"cd2b0859-9e2a-4bb8-8f75-cddbbb97ab50\"}}];\n",
       "  root.Bokeh.embed.embed_items_notebook(docs_json, render_items);\n",
       "\n",
       "  }\n",
       "  if (root.Bokeh !== undefined) {\n",
       "    embed_document(root);\n",
       "  } else {\n",
       "    var attempts = 0;\n",
       "    var timer = setInterval(function(root) {\n",
       "      if (root.Bokeh !== undefined) {\n",
       "        embed_document(root);\n",
       "        clearInterval(timer);\n",
       "      }\n",
       "      attempts++;\n",
       "      if (attempts > 100) {\n",
       "        console.log(\"Bokeh: ERROR: Unable to run BokehJS code because BokehJS library is missing\");\n",
       "        clearInterval(timer);\n",
       "      }\n",
       "    }, 10, root)\n",
       "  }\n",
       "})(window);"
      ],
      "application/vnd.bokehjs_exec.v0+json": ""
     },
     "metadata": {
      "application/vnd.bokehjs_exec.v0+json": {
       "id": "1573"
      }
     },
     "output_type": "display_data"
    }
   ],
   "source": [
    "bp.show(p)"
   ]
  },
  {
   "cell_type": "markdown",
   "metadata": {},
   "source": [
    "# 差分に基づくデータ記述の試み(20191022)"
   ]
  },
  {
   "cell_type": "markdown",
   "metadata": {},
   "source": [
    "## 関数化済みバージョン\n"
   ]
  },
  {
   "cell_type": "code",
   "execution_count": 107,
   "metadata": {},
   "outputs": [],
   "source": [
    "from score2df import *"
   ]
  },
  {
   "cell_type": "code",
   "execution_count": 110,
   "metadata": {},
   "outputs": [],
   "source": [
    "from importlib import reload"
   ]
  },
  {
   "cell_type": "code",
   "execution_count": 125,
   "metadata": {},
   "outputs": [
    {
     "data": {
      "text/plain": [
       "<module 'score2df' from '/home/toshinao/PycharmProjects/deepjazz_in_a_file/score2df.py'>"
      ]
     },
     "execution_count": 125,
     "metadata": {},
     "output_type": "execute_result"
    }
   ],
   "source": [
    "reload(score2df)"
   ]
  },
  {
   "cell_type": "code",
   "execution_count": 126,
   "metadata": {},
   "outputs": [
    {
     "data": {
      "text/plain": [
       "\u001b[0;31mSignature:\u001b[0m \u001b[0mscore2df\u001b[0m\u001b[0;34m.\u001b[0m\u001b[0mscore2df\u001b[0m\u001b[0;34m(\u001b[0m\u001b[0mfile\u001b[0m\u001b[0;34m)\u001b[0m\u001b[0;34m\u001b[0m\u001b[0;34m\u001b[0m\u001b[0m\n",
       "\u001b[0;31mDocstring:\u001b[0m\n",
       "create data frame from midi file\n",
       "\n",
       "Parameters\n",
       "----------\n",
       "file : string\n",
       "    file path to a midi file\n",
       "\n",
       "Returns\n",
       "-------\n",
       "pandas data frame whose columns are\n",
       "    pitch : pitch of each note\n",
       "    time : time from the start of each note\n",
       "    cent : pitch as interger relative to C4\n",
       "    n : for example, 1 if a note is the second from the lowest among the simultaneously pressed notes\n",
       "    dcent: the difference of cent from the previous note after grouping by n\n",
       "\u001b[0;31mFile:\u001b[0m      ~/PycharmProjects/deepjazz_in_a_file/score2df.py\n",
       "\u001b[0;31mType:\u001b[0m      function\n"
      ]
     },
     "metadata": {},
     "output_type": "display_data"
    }
   ],
   "source": [
    "?score2df.score2df"
   ]
  },
  {
   "cell_type": "code",
   "execution_count": 127,
   "metadata": {},
   "outputs": [
    {
     "data": {
      "text/html": [
       "<div>\n",
       "<style scoped>\n",
       "    .dataframe tbody tr th:only-of-type {\n",
       "        vertical-align: middle;\n",
       "    }\n",
       "\n",
       "    .dataframe tbody tr th {\n",
       "        vertical-align: top;\n",
       "    }\n",
       "\n",
       "    .dataframe thead th {\n",
       "        text-align: right;\n",
       "    }\n",
       "</style>\n",
       "<table border=\"1\" class=\"dataframe\">\n",
       "  <thead>\n",
       "    <tr style=\"text-align: right;\">\n",
       "      <th></th>\n",
       "      <th>pitch</th>\n",
       "      <th>time</th>\n",
       "      <th>cent</th>\n",
       "      <th>n</th>\n",
       "      <th>dcent</th>\n",
       "    </tr>\n",
       "  </thead>\n",
       "  <tbody>\n",
       "    <tr>\n",
       "      <th>0</th>\n",
       "      <td>G2</td>\n",
       "      <td>0</td>\n",
       "      <td>-1700.0</td>\n",
       "      <td>0</td>\n",
       "      <td>NaN</td>\n",
       "    </tr>\n",
       "    <tr>\n",
       "      <th>1</th>\n",
       "      <td>A2</td>\n",
       "      <td>0.5</td>\n",
       "      <td>-1500.0</td>\n",
       "      <td>0</td>\n",
       "      <td>200.0</td>\n",
       "    </tr>\n",
       "    <tr>\n",
       "      <th>3</th>\n",
       "      <td>B-2</td>\n",
       "      <td>1</td>\n",
       "      <td>-1400.0</td>\n",
       "      <td>0</td>\n",
       "      <td>100.0</td>\n",
       "    </tr>\n",
       "    <tr>\n",
       "      <th>2</th>\n",
       "      <td>G3</td>\n",
       "      <td>1</td>\n",
       "      <td>-500.0</td>\n",
       "      <td>1</td>\n",
       "      <td>NaN</td>\n",
       "    </tr>\n",
       "    <tr>\n",
       "      <th>4</th>\n",
       "      <td>C3</td>\n",
       "      <td>1.5</td>\n",
       "      <td>-1200.0</td>\n",
       "      <td>0</td>\n",
       "      <td>200.0</td>\n",
       "    </tr>\n",
       "    <tr>\n",
       "      <th>...</th>\n",
       "      <td>...</td>\n",
       "      <td>...</td>\n",
       "      <td>...</td>\n",
       "      <td>...</td>\n",
       "      <td>...</td>\n",
       "    </tr>\n",
       "    <tr>\n",
       "      <th>920</th>\n",
       "      <td>C4</td>\n",
       "      <td>133.5</td>\n",
       "      <td>0.0</td>\n",
       "      <td>0</td>\n",
       "      <td>100.0</td>\n",
       "    </tr>\n",
       "    <tr>\n",
       "      <th>921</th>\n",
       "      <td>F#3</td>\n",
       "      <td>133.75</td>\n",
       "      <td>-600.0</td>\n",
       "      <td>0</td>\n",
       "      <td>-600.0</td>\n",
       "    </tr>\n",
       "    <tr>\n",
       "      <th>924</th>\n",
       "      <td>G3</td>\n",
       "      <td>134</td>\n",
       "      <td>-500.0</td>\n",
       "      <td>0</td>\n",
       "      <td>100.0</td>\n",
       "    </tr>\n",
       "    <tr>\n",
       "      <th>922</th>\n",
       "      <td>B3</td>\n",
       "      <td>134</td>\n",
       "      <td>-100.0</td>\n",
       "      <td>1</td>\n",
       "      <td>400.0</td>\n",
       "    </tr>\n",
       "    <tr>\n",
       "      <th>923</th>\n",
       "      <td>D4</td>\n",
       "      <td>134</td>\n",
       "      <td>200.0</td>\n",
       "      <td>2</td>\n",
       "      <td>-500.0</td>\n",
       "    </tr>\n",
       "  </tbody>\n",
       "</table>\n",
       "<p>925 rows × 5 columns</p>\n",
       "</div>"
      ],
      "text/plain": [
       "    pitch    time    cent  n  dcent\n",
       "0      G2       0 -1700.0  0    NaN\n",
       "1      A2     0.5 -1500.0  0  200.0\n",
       "3     B-2       1 -1400.0  0  100.0\n",
       "2      G3       1  -500.0  1    NaN\n",
       "4      C3     1.5 -1200.0  0  200.0\n",
       "..    ...     ...     ... ..    ...\n",
       "920    C4   133.5     0.0  0  100.0\n",
       "921   F#3  133.75  -600.0  0 -600.0\n",
       "924    G3     134  -500.0  0  100.0\n",
       "922    B3     134  -100.0  1  400.0\n",
       "923    D4     134   200.0  2 -500.0\n",
       "\n",
       "[925 rows x 5 columns]"
      ]
     },
     "execution_count": 127,
     "metadata": {},
     "output_type": "execute_result"
    }
   ],
   "source": [
    "score2df.score2df(file)"
   ]
  },
  {
   "cell_type": "markdown",
   "metadata": {},
   "source": [
    "## ベタ打ちバージョン"
   ]
  },
  {
   "cell_type": "code",
   "execution_count": 16,
   "metadata": {},
   "outputs": [],
   "source": [
    "from music21 import interval"
   ]
  },
  {
   "cell_type": "code",
   "execution_count": 38,
   "metadata": {},
   "outputs": [],
   "source": [
    "file = \"midi/sonate_31.mid\"\n",
    "file = 'chorales/midi/065900b_.mid'\n",
    "midi = converter.parse(file)\n",
    "notes_to_parse = None\n",
    "max_simultaneous = 4\n",
    "#pitches = [[] for i in range(max_simultaneous)]\n",
    "#times = [[] for i in range(max_simultaneous)]\n",
    "#diffs = [[] for i in range(max_simultaneous)]\n",
    "pitches = []\n",
    "times = []\n",
    "diffs = []"
   ]
  },
  {
   "cell_type": "code",
   "execution_count": 39,
   "metadata": {},
   "outputs": [],
   "source": [
    "parts = instrument.partitionByInstrument(midi)\n",
    "if parts: # file has instrument parts\n",
    "    notes_to_parse = parts.parts[0].recurse()\n",
    "else: # file has notes in a flat structure\n",
    "    notes_to_parse = midi.flat.notes\n",
    "for element in notes_to_parse:\n",
    "    \n",
    "    if isinstance(element, note.Note):        \n",
    "        #run_notes = [element]\n",
    "        pitches.append(str(element.pitch))\n",
    "        diffs.append(interval.notesToChromatic(note.Note(\"C4\") , element).cents)\n",
    "        times.append(element.offset)\n",
    "    elif isinstance(element, chord.Chord):           \n",
    "        run_chord = element\n",
    "        for i in range(min(len(element.normalOrder) , max_simultaneous)):\n",
    "            pitches.append(element.pitches[i])\n",
    "            diffs.append(interval.notesToChromatic(note.Note(\"C4\") , run_chord.notes[i]).cents)\n",
    "            times.append(element.offset)\n",
    "   "
   ]
  },
  {
   "cell_type": "code",
   "execution_count": 40,
   "metadata": {},
   "outputs": [],
   "source": [
    "import pandas as pd"
   ]
  },
  {
   "cell_type": "code",
   "execution_count": 59,
   "metadata": {},
   "outputs": [],
   "source": [
    "df_score = pd.DataFrame({'pitch' : pitches , 'time' : times , 'cent' : diffs })"
   ]
  },
  {
   "cell_type": "code",
   "execution_count": 60,
   "metadata": {},
   "outputs": [],
   "source": [
    "df_score.sort_values(['time' , 'cent'] , inplace=True)"
   ]
  },
  {
   "cell_type": "code",
   "execution_count": 61,
   "metadata": {},
   "outputs": [
    {
     "data": {
      "text/html": [
       "<div>\n",
       "<style scoped>\n",
       "    .dataframe tbody tr th:only-of-type {\n",
       "        vertical-align: middle;\n",
       "    }\n",
       "\n",
       "    .dataframe tbody tr th {\n",
       "        vertical-align: top;\n",
       "    }\n",
       "\n",
       "    .dataframe thead th {\n",
       "        text-align: right;\n",
       "    }\n",
       "</style>\n",
       "<table border=\"1\" class=\"dataframe\">\n",
       "  <thead>\n",
       "    <tr style=\"text-align: right;\">\n",
       "      <th></th>\n",
       "      <th>pitch</th>\n",
       "      <th>time</th>\n",
       "      <th>cent</th>\n",
       "    </tr>\n",
       "  </thead>\n",
       "  <tbody>\n",
       "    <tr>\n",
       "      <th>0</th>\n",
       "      <td>G2</td>\n",
       "      <td>0</td>\n",
       "      <td>-1700.0</td>\n",
       "    </tr>\n",
       "    <tr>\n",
       "      <th>1</th>\n",
       "      <td>A2</td>\n",
       "      <td>0.5</td>\n",
       "      <td>-1500.0</td>\n",
       "    </tr>\n",
       "    <tr>\n",
       "      <th>3</th>\n",
       "      <td>B-2</td>\n",
       "      <td>1</td>\n",
       "      <td>-1400.0</td>\n",
       "    </tr>\n",
       "    <tr>\n",
       "      <th>2</th>\n",
       "      <td>G3</td>\n",
       "      <td>1</td>\n",
       "      <td>-500.0</td>\n",
       "    </tr>\n",
       "    <tr>\n",
       "      <th>4</th>\n",
       "      <td>C3</td>\n",
       "      <td>1.5</td>\n",
       "      <td>-1200.0</td>\n",
       "    </tr>\n",
       "  </tbody>\n",
       "</table>\n",
       "</div>"
      ],
      "text/plain": [
       "  pitch time    cent\n",
       "0    G2    0 -1700.0\n",
       "1    A2  0.5 -1500.0\n",
       "3   B-2    1 -1400.0\n",
       "2    G3    1  -500.0\n",
       "4    C3  1.5 -1200.0"
      ]
     },
     "execution_count": 61,
     "metadata": {},
     "output_type": "execute_result"
    }
   ],
   "source": [
    "df_score.head()"
   ]
  },
  {
   "cell_type": "code",
   "execution_count": 62,
   "metadata": {},
   "outputs": [],
   "source": [
    "df_score = df_score.assign(n = df_score.groupby('time').cumcount())"
   ]
  },
  {
   "cell_type": "code",
   "execution_count": 65,
   "metadata": {},
   "outputs": [],
   "source": [
    "df0 = df_score[df_score.n == 0]"
   ]
  },
  {
   "cell_type": "code",
   "execution_count": 66,
   "metadata": {},
   "outputs": [],
   "source": [
    "df1 = df_score[df_score.n == 1]"
   ]
  },
  {
   "cell_type": "code",
   "execution_count": 68,
   "metadata": {},
   "outputs": [],
   "source": [
    "df0 = df0.assign(dcent = df0.cent.diff())"
   ]
  },
  {
   "cell_type": "markdown",
   "metadata": {},
   "source": [
    "## basic stats"
   ]
  },
  {
   "cell_type": "code",
   "execution_count": 69,
   "metadata": {},
   "outputs": [
    {
     "data": {
      "text/html": [
       "<div>\n",
       "<style scoped>\n",
       "    .dataframe tbody tr th:only-of-type {\n",
       "        vertical-align: middle;\n",
       "    }\n",
       "\n",
       "    .dataframe tbody tr th {\n",
       "        vertical-align: top;\n",
       "    }\n",
       "\n",
       "    .dataframe thead th {\n",
       "        text-align: right;\n",
       "    }\n",
       "</style>\n",
       "<table border=\"1\" class=\"dataframe\">\n",
       "  <thead>\n",
       "    <tr style=\"text-align: right;\">\n",
       "      <th></th>\n",
       "      <th>pitch</th>\n",
       "      <th>time</th>\n",
       "      <th>cent</th>\n",
       "      <th>n</th>\n",
       "      <th>dcent</th>\n",
       "    </tr>\n",
       "  </thead>\n",
       "  <tbody>\n",
       "    <tr>\n",
       "      <th>0</th>\n",
       "      <td>G2</td>\n",
       "      <td>0</td>\n",
       "      <td>-1700.0</td>\n",
       "      <td>0</td>\n",
       "      <td>NaN</td>\n",
       "    </tr>\n",
       "    <tr>\n",
       "      <th>1</th>\n",
       "      <td>A2</td>\n",
       "      <td>0.5</td>\n",
       "      <td>-1500.0</td>\n",
       "      <td>0</td>\n",
       "      <td>200.0</td>\n",
       "    </tr>\n",
       "    <tr>\n",
       "      <th>3</th>\n",
       "      <td>B-2</td>\n",
       "      <td>1</td>\n",
       "      <td>-1400.0</td>\n",
       "      <td>0</td>\n",
       "      <td>100.0</td>\n",
       "    </tr>\n",
       "    <tr>\n",
       "      <th>4</th>\n",
       "      <td>C3</td>\n",
       "      <td>1.5</td>\n",
       "      <td>-1200.0</td>\n",
       "      <td>0</td>\n",
       "      <td>200.0</td>\n",
       "    </tr>\n",
       "    <tr>\n",
       "      <th>6</th>\n",
       "      <td>D3</td>\n",
       "      <td>2</td>\n",
       "      <td>-1000.0</td>\n",
       "      <td>0</td>\n",
       "      <td>200.0</td>\n",
       "    </tr>\n",
       "  </tbody>\n",
       "</table>\n",
       "</div>"
      ],
      "text/plain": [
       "  pitch time    cent  n  dcent\n",
       "0    G2    0 -1700.0  0    NaN\n",
       "1    A2  0.5 -1500.0  0  200.0\n",
       "3   B-2    1 -1400.0  0  100.0\n",
       "4    C3  1.5 -1200.0  0  200.0\n",
       "6    D3    2 -1000.0  0  200.0"
      ]
     },
     "execution_count": 69,
     "metadata": {},
     "output_type": "execute_result"
    }
   ],
   "source": [
    "df0.head()"
   ]
  },
  {
   "cell_type": "code",
   "execution_count": 99,
   "metadata": {},
   "outputs": [
    {
     "data": {
      "text/html": [
       "<div>\n",
       "<style scoped>\n",
       "    .dataframe tbody tr th:only-of-type {\n",
       "        vertical-align: middle;\n",
       "    }\n",
       "\n",
       "    .dataframe tbody tr th {\n",
       "        vertical-align: top;\n",
       "    }\n",
       "\n",
       "    .dataframe thead th {\n",
       "        text-align: right;\n",
       "    }\n",
       "</style>\n",
       "<table border=\"1\" class=\"dataframe\">\n",
       "  <thead>\n",
       "    <tr style=\"text-align: right;\">\n",
       "      <th></th>\n",
       "      <th>cent</th>\n",
       "      <th>n</th>\n",
       "      <th>dcent</th>\n",
       "    </tr>\n",
       "  </thead>\n",
       "  <tbody>\n",
       "    <tr>\n",
       "      <th>count</th>\n",
       "      <td>492.000000</td>\n",
       "      <td>492.0</td>\n",
       "      <td>491.000000</td>\n",
       "    </tr>\n",
       "    <tr>\n",
       "      <th>mean</th>\n",
       "      <td>-241.260163</td>\n",
       "      <td>0.0</td>\n",
       "      <td>2.443992</td>\n",
       "    </tr>\n",
       "    <tr>\n",
       "      <th>std</th>\n",
       "      <td>1109.845239</td>\n",
       "      <td>0.0</td>\n",
       "      <td>1594.529594</td>\n",
       "    </tr>\n",
       "    <tr>\n",
       "      <th>min</th>\n",
       "      <td>-2400.000000</td>\n",
       "      <td>0.0</td>\n",
       "      <td>-4100.000000</td>\n",
       "    </tr>\n",
       "    <tr>\n",
       "      <th>25%</th>\n",
       "      <td>-1000.000000</td>\n",
       "      <td>0.0</td>\n",
       "      <td>-1200.000000</td>\n",
       "    </tr>\n",
       "    <tr>\n",
       "      <th>50%</th>\n",
       "      <td>-500.000000</td>\n",
       "      <td>0.0</td>\n",
       "      <td>-100.000000</td>\n",
       "    </tr>\n",
       "    <tr>\n",
       "      <th>75%</th>\n",
       "      <td>700.000000</td>\n",
       "      <td>0.0</td>\n",
       "      <td>1300.000000</td>\n",
       "    </tr>\n",
       "    <tr>\n",
       "      <th>max</th>\n",
       "      <td>2400.000000</td>\n",
       "      <td>0.0</td>\n",
       "      <td>3900.000000</td>\n",
       "    </tr>\n",
       "  </tbody>\n",
       "</table>\n",
       "</div>"
      ],
      "text/plain": [
       "              cent      n        dcent\n",
       "count   492.000000  492.0   491.000000\n",
       "mean   -241.260163    0.0     2.443992\n",
       "std    1109.845239    0.0  1594.529594\n",
       "min   -2400.000000    0.0 -4100.000000\n",
       "25%   -1000.000000    0.0 -1200.000000\n",
       "50%    -500.000000    0.0  -100.000000\n",
       "75%     700.000000    0.0  1300.000000\n",
       "max    2400.000000    0.0  3900.000000"
      ]
     },
     "execution_count": 99,
     "metadata": {},
     "output_type": "execute_result"
    }
   ],
   "source": [
    "df0.describe()"
   ]
  },
  {
   "cell_type": "code",
   "execution_count": 94,
   "metadata": {},
   "outputs": [],
   "source": [
    "from plotnine import ggplot, geom_point, aes, stat_smooth, facet_wrap , geom_histogram"
   ]
  },
  {
   "cell_type": "code",
   "execution_count": 100,
   "metadata": {},
   "outputs": [
    {
     "name": "stderr",
     "output_type": "stream",
     "text": [
      "/home/toshinao/anaconda3/envs/test/lib/python3.7/site-packages/plotnine/scales/scale.py:93: MatplotlibDeprecationWarning: \n",
      "The iterable function was deprecated in Matplotlib 3.1 and will be removed in 3.3. Use np.iterable instead.\n",
      "  if cbook.iterable(self.breaks) and cbook.iterable(self.labels):\n",
      "/home/toshinao/anaconda3/envs/test/lib/python3.7/site-packages/plotnine/stats/stat_bin.py:93: UserWarning: 'stat_bin()' using 'bins = 13'. Pick better value with 'binwidth'.\n",
      "  warn(msg.format(params['bins']))\n",
      "/home/toshinao/anaconda3/envs/test/lib/python3.7/site-packages/plotnine/layer.py:360: UserWarning: stat_bin : Removed 1 rows containing non-finite values.\n",
      "  data = self.stat.compute_layer(data, params, layout)\n",
      "/home/toshinao/anaconda3/envs/test/lib/python3.7/site-packages/plotnine/utils.py:553: MatplotlibDeprecationWarning: \n",
      "The iterable function was deprecated in Matplotlib 3.1 and will be removed in 3.3. Use np.iterable instead.\n",
      "  return cbook.iterable(var) and not is_string(var)\n"
     ]
    },
    {
     "data": {
      "image/png": "[encoded data removed]",
      "text/plain": [
       "<Figure size 640x480 with 1 Axes>"
      ]
     },
     "metadata": {
      "image/png": {
       "height": 429,
       "width": 566
      }
     },
     "output_type": "display_data"
    },
    {
     "data": {
      "text/plain": [
       "<ggplot: (8779449852115)>"
      ]
     },
     "execution_count": 100,
     "metadata": {},
     "output_type": "execute_result"
    }
   ],
   "source": [
    "ggplot(df0 , aes(x = 'dcent / 200')) + geom_histogram()"
   ]
  },
  {
   "cell_type": "code",
   "execution_count": 77,
   "metadata": {},
   "outputs": [],
   "source": [
    "source = ColumnDataSource(df0)"
   ]
  },
  {
   "cell_type": "code",
   "execution_count": 88,
   "metadata": {},
   "outputs": [],
   "source": [
    "p = bp.figure()"
   ]
  },
  {
   "cell_type": "code",
   "execution_count": 90,
   "metadata": {},
   "outputs": [
    {
     "data": {
      "text/html": [
       "<div style=\"display: table;\"><div style=\"display: table-row;\"><div style=\"display: table-cell;\"><b title=\"bokeh.models.renderers.GlyphRenderer\">GlyphRenderer</b>(</div><div style=\"display: table-cell;\">id&nbsp;=&nbsp;'1133', <span id=\"1136\" style=\"cursor: pointer;\">&hellip;)</span></div></div><div class=\"1135\" style=\"display: none;\"><div style=\"display: table-cell;\"></div><div style=\"display: table-cell;\">data_source&nbsp;=&nbsp;ColumnDataSource(id='1130', ...),</div></div><div class=\"1135\" style=\"display: none;\"><div style=\"display: table-cell;\"></div><div style=\"display: table-cell;\">glyph&nbsp;=&nbsp;Scatter(id='1131', ...),</div></div><div class=\"1135\" style=\"display: none;\"><div style=\"display: table-cell;\"></div><div style=\"display: table-cell;\">hover_glyph&nbsp;=&nbsp;None,</div></div><div class=\"1135\" style=\"display: none;\"><div style=\"display: table-cell;\"></div><div style=\"display: table-cell;\">js_event_callbacks&nbsp;=&nbsp;{},</div></div><div class=\"1135\" style=\"display: none;\"><div style=\"display: table-cell;\"></div><div style=\"display: table-cell;\">js_property_callbacks&nbsp;=&nbsp;{},</div></div><div class=\"1135\" style=\"display: none;\"><div style=\"display: table-cell;\"></div><div style=\"display: table-cell;\">level&nbsp;=&nbsp;'glyph',</div></div><div class=\"1135\" style=\"display: none;\"><div style=\"display: table-cell;\"></div><div style=\"display: table-cell;\">muted&nbsp;=&nbsp;False,</div></div><div class=\"1135\" style=\"display: none;\"><div style=\"display: table-cell;\"></div><div style=\"display: table-cell;\">muted_glyph&nbsp;=&nbsp;None,</div></div><div class=\"1135\" style=\"display: none;\"><div style=\"display: table-cell;\"></div><div style=\"display: table-cell;\">name&nbsp;=&nbsp;None,</div></div><div class=\"1135\" style=\"display: none;\"><div style=\"display: table-cell;\"></div><div style=\"display: table-cell;\">nonselection_glyph&nbsp;=&nbsp;Scatter(id='1132', ...),</div></div><div class=\"1135\" style=\"display: none;\"><div style=\"display: table-cell;\"></div><div style=\"display: table-cell;\">selection_glyph&nbsp;=&nbsp;None,</div></div><div class=\"1135\" style=\"display: none;\"><div style=\"display: table-cell;\"></div><div style=\"display: table-cell;\">subscribed_events&nbsp;=&nbsp;[],</div></div><div class=\"1135\" style=\"display: none;\"><div style=\"display: table-cell;\"></div><div style=\"display: table-cell;\">tags&nbsp;=&nbsp;[],</div></div><div class=\"1135\" style=\"display: none;\"><div style=\"display: table-cell;\"></div><div style=\"display: table-cell;\">view&nbsp;=&nbsp;CDSView(id='1134', ...),</div></div><div class=\"1135\" style=\"display: none;\"><div style=\"display: table-cell;\"></div><div style=\"display: table-cell;\">visible&nbsp;=&nbsp;True,</div></div><div class=\"1135\" style=\"display: none;\"><div style=\"display: table-cell;\"></div><div style=\"display: table-cell;\">x_range_name&nbsp;=&nbsp;'default',</div></div><div class=\"1135\" style=\"display: none;\"><div style=\"display: table-cell;\"></div><div style=\"display: table-cell;\">y_range_name&nbsp;=&nbsp;'default')</div></div></div>\n",
       "<script>\n",
       "(function() {\n",
       "  var expanded = false;\n",
       "  var ellipsis = document.getElementById(\"1136\");\n",
       "  ellipsis.addEventListener(\"click\", function() {\n",
       "    var rows = document.getElementsByClassName(\"1135\");\n",
       "    for (var i = 0; i < rows.length; i++) {\n",
       "      var el = rows[i];\n",
       "      el.style.display = expanded ? \"none\" : \"table-row\";\n",
       "    }\n",
       "    ellipsis.innerHTML = expanded ? \"&hellip;)\" : \"&lsaquo;&lsaquo;&lsaquo;\";\n",
       "    expanded = !expanded;\n",
       "  });\n",
       "})();\n",
       "</script>\n"
      ],
      "text/plain": [
       "GlyphRenderer(id='1133', ...)"
      ]
     },
     "execution_count": 90,
     "metadata": {},
     "output_type": "execute_result"
    }
   ],
   "source": [
    "p.scatter(df0.cent , df0.dcent )"
   ]
  },
  {
   "cell_type": "code",
   "execution_count": 79,
   "metadata": {},
   "outputs": [
    {
     "data": {
      "text/html": [
       "<div style=\"display: table;\"><div style=\"display: table-row;\"><div style=\"display: table-cell;\"><b title=\"bokeh.models.renderers.GlyphRenderer\">GlyphRenderer</b>(</div><div style=\"display: table-cell;\">id&nbsp;=&nbsp;'1039', <span id=\"1042\" style=\"cursor: pointer;\">&hellip;)</span></div></div><div class=\"1041\" style=\"display: none;\"><div style=\"display: table-cell;\"></div><div style=\"display: table-cell;\">data_source&nbsp;=&nbsp;ColumnDataSource(id='1003', ...),</div></div><div class=\"1041\" style=\"display: none;\"><div style=\"display: table-cell;\"></div><div style=\"display: table-cell;\">glyph&nbsp;=&nbsp;Scatter(id='1037', ...),</div></div><div class=\"1041\" style=\"display: none;\"><div style=\"display: table-cell;\"></div><div style=\"display: table-cell;\">hover_glyph&nbsp;=&nbsp;None,</div></div><div class=\"1041\" style=\"display: none;\"><div style=\"display: table-cell;\"></div><div style=\"display: table-cell;\">js_event_callbacks&nbsp;=&nbsp;{},</div></div><div class=\"1041\" style=\"display: none;\"><div style=\"display: table-cell;\"></div><div style=\"display: table-cell;\">js_property_callbacks&nbsp;=&nbsp;{},</div></div><div class=\"1041\" style=\"display: none;\"><div style=\"display: table-cell;\"></div><div style=\"display: table-cell;\">level&nbsp;=&nbsp;'glyph',</div></div><div class=\"1041\" style=\"display: none;\"><div style=\"display: table-cell;\"></div><div style=\"display: table-cell;\">muted&nbsp;=&nbsp;False,</div></div><div class=\"1041\" style=\"display: none;\"><div style=\"display: table-cell;\"></div><div style=\"display: table-cell;\">muted_glyph&nbsp;=&nbsp;None,</div></div><div class=\"1041\" style=\"display: none;\"><div style=\"display: table-cell;\"></div><div style=\"display: table-cell;\">name&nbsp;=&nbsp;None,</div></div><div class=\"1041\" style=\"display: none;\"><div style=\"display: table-cell;\"></div><div style=\"display: table-cell;\">nonselection_glyph&nbsp;=&nbsp;Scatter(id='1038', ...),</div></div><div class=\"1041\" style=\"display: none;\"><div style=\"display: table-cell;\"></div><div style=\"display: table-cell;\">selection_glyph&nbsp;=&nbsp;None,</div></div><div class=\"1041\" style=\"display: none;\"><div style=\"display: table-cell;\"></div><div style=\"display: table-cell;\">subscribed_events&nbsp;=&nbsp;[],</div></div><div class=\"1041\" style=\"display: none;\"><div style=\"display: table-cell;\"></div><div style=\"display: table-cell;\">tags&nbsp;=&nbsp;[],</div></div><div class=\"1041\" style=\"display: none;\"><div style=\"display: table-cell;\"></div><div style=\"display: table-cell;\">view&nbsp;=&nbsp;CDSView(id='1040', ...),</div></div><div class=\"1041\" style=\"display: none;\"><div style=\"display: table-cell;\"></div><div style=\"display: table-cell;\">visible&nbsp;=&nbsp;True,</div></div><div class=\"1041\" style=\"display: none;\"><div style=\"display: table-cell;\"></div><div style=\"display: table-cell;\">x_range_name&nbsp;=&nbsp;'default',</div></div><div class=\"1041\" style=\"display: none;\"><div style=\"display: table-cell;\"></div><div style=\"display: table-cell;\">y_range_name&nbsp;=&nbsp;'default')</div></div></div>\n",
       "<script>\n",
       "(function() {\n",
       "  var expanded = false;\n",
       "  var ellipsis = document.getElementById(\"1042\");\n",
       "  ellipsis.addEventListener(\"click\", function() {\n",
       "    var rows = document.getElementsByClassName(\"1041\");\n",
       "    for (var i = 0; i < rows.length; i++) {\n",
       "      var el = rows[i];\n",
       "      el.style.display = expanded ? \"none\" : \"table-row\";\n",
       "    }\n",
       "    ellipsis.innerHTML = expanded ? \"&hellip;)\" : \"&lsaquo;&lsaquo;&lsaquo;\";\n",
       "    expanded = !expanded;\n",
       "  });\n",
       "})();\n",
       "</script>\n"
      ],
      "text/plain": [
       "GlyphRenderer(id='1039', ...)"
      ]
     },
     "execution_count": 79,
     "metadata": {},
     "output_type": "execute_result"
    }
   ],
   "source": [
    "p.scatter('cent' , 'dcent' , source = source)"
   ]
  },
  {
   "cell_type": "code",
   "execution_count": null,
   "metadata": {},
   "outputs": [],
   "source": [
    "p.hid"
   ]
  },
  {
   "cell_type": "code",
   "execution_count": 91,
   "metadata": {},
   "outputs": [
    {
     "data": {
      "text/html": [
       "\n",
       "\n",
       "\n",
       "\n",
       "\n",
       "\n",
       "  <div class=\"bk-root\" id=\"c4c96f55-58b8-4d32-9adf-34c280b48896\" data-root-id=\"1097\"></div>\n"
      ]
     },
     "metadata": {},
     "output_type": "display_data"
    },
    {
     "data": {
      "application/javascript": [
       "(function(root) {\n",
       "  function embed_document(root) {\n",
       "    \n",
       "  var docs_json = {\"27651afc-fca4-4e4b-b2a0-cb5f4eae2ca8\":{\"roots\":{\"references\":[{\"attributes\":{\"below\":[{\"id\":\"1106\",\"type\":\"LinearAxis\"}],\"center\":[{\"id\":\"1110\",\"type\":\"Grid\"},{\"id\":\"1115\",\"type\":\"Grid\"}],\"left\":[{\"id\":\"1111\",\"type\":\"LinearAxis\"}],\"renderers\":[{\"id\":\"1133\",\"type\":\"GlyphRenderer\"}],\"title\":{\"id\":\"1146\",\"type\":\"Title\"},\"toolbar\":{\"id\":\"1122\",\"type\":\"Toolbar\"},\"x_range\":{\"id\":\"1098\",\"type\":\"DataRange1d\"},\"x_scale\":{\"id\":\"1102\",\"type\":\"LinearScale\"},\"y_range\":{\"id\":\"1100\",\"type\":\"DataRange1d\"},\"y_scale\":{\"id\":\"1104\",\"type\":\"LinearScale\"}},\"id\":\"1097\",\"subtype\":\"Figure\",\"type\":\"Plot\"},{\"attributes\":{\"formatter\":{\"id\":\"1148\",\"type\":\"BasicTickFormatter\"},\"ticker\":{\"id\":\"1107\",\"type\":\"BasicTicker\"}},\"id\":\"1106\",\"type\":\"LinearAxis\"},{\"attributes\":{\"fill_alpha\":{\"value\":0.1},\"fill_color\":{\"value\":\"#1f77b4\"},\"line_alpha\":{\"value\":0.1},\"line_color\":{\"value\":\"#1f77b4\"},\"x\":{\"field\":\"x\"},\"y\":{\"field\":\"y\"}},\"id\":\"1132\",\"type\":\"Scatter\"},{\"attributes\":{\"bottom_units\":\"screen\",\"fill_alpha\":{\"value\":0.5},\"fill_color\":{\"value\":\"lightgrey\"},\"left_units\":\"screen\",\"level\":\"overlay\",\"line_alpha\":{\"value\":1.0},\"line_color\":{\"value\":\"black\"},\"line_dash\":[4,4],\"line_width\":{\"value\":2},\"render_mode\":\"css\",\"right_units\":\"screen\",\"top_units\":\"screen\"},\"id\":\"1154\",\"type\":\"BoxAnnotation\"},{\"attributes\":{\"callback\":null},\"id\":\"1098\",\"type\":\"DataRange1d\"},{\"attributes\":{\"ticker\":{\"id\":\"1107\",\"type\":\"BasicTicker\"}},\"id\":\"1110\",\"type\":\"Grid\"},{\"attributes\":{},\"id\":\"1104\",\"type\":\"LinearScale\"},{\"attributes\":{},\"id\":\"1107\",\"type\":\"BasicTicker\"},{\"attributes\":{\"data_source\":{\"id\":\"1130\",\"type\":\"ColumnDataSource\"},\"glyph\":{\"id\":\"1131\",\"type\":\"Scatter\"},\"hover_glyph\":null,\"muted_glyph\":null,\"nonselection_glyph\":{\"id\":\"1132\",\"type\":\"Scatter\"},\"selection_glyph\":null,\"view\":{\"id\":\"1134\",\"type\":\"CDSView\"}},\"id\":\"1133\",\"type\":\"GlyphRenderer\"},{\"attributes\":{},\"id\":\"1121\",\"type\":\"HelpTool\"},{\"attributes\":{\"text\":\"\"},\"id\":\"1146\",\"type\":\"Title\"},{\"attributes\":{},\"id\":\"1116\",\"type\":\"PanTool\"},{\"attributes\":{},\"id\":\"1102\",\"type\":\"LinearScale\"},{\"attributes\":{\"callback\":null},\"id\":\"1100\",\"type\":\"DataRange1d\"},{\"attributes\":{},\"id\":\"1148\",\"type\":\"BasicTickFormatter\"},{\"attributes\":{\"overlay\":{\"id\":\"1154\",\"type\":\"BoxAnnotation\"}},\"id\":\"1118\",\"type\":\"BoxZoomTool\"},{\"attributes\":{},\"id\":\"1150\",\"type\":\"BasicTickFormatter\"},{\"attributes\":{\"dimension\":1,\"ticker\":{\"id\":\"1112\",\"type\":\"BasicTicker\"}},\"id\":\"1115\",\"type\":\"Grid\"},{\"attributes\":{},\"id\":\"1119\",\"type\":\"SaveTool\"},{\"attributes\":{},\"id\":\"1117\",\"type\":\"WheelZoomTool\"},{\"attributes\":{\"callback\":null,\"data\":{\"x\":{\"__ndarray__\":\"AAAAAACQmsAAAAAAAHCXwAAAAAAA4JXAAAAAAADAksAAAAAAAECPwAAAAAAAIIzAAAAAAABAj8AAAAAAAMCSwAAAAAAA4JXAAAAAAABAj8AAAAAAAOCFwAAAAAAAIIzAAAAAAABAf8AAAAAAAECPwAAAAAAAwJLAAAAAAABQlMAAAAAAAJCawAAAAAAAAGlAAAAAAADAksAAAAAAAOCVwAAAAAAAcJfAAAAAAACQmsAAAAAAACCcwAAAAAAAMKHAAAAAAACQmsAAAAAAALCdwAAAAAAAaKDAAAAAAAAwocAAAAAAAGigwAAAAAAAwHLAAAAAAAAwocAAAAAAAMBywAAAAAAAQH/AAAAAAADAcsAAAAAAAOCFQAAAAAAAIIxAAAAAAABAj0AAAAAAAECPwAAAAAAAwILAAAAAAAAgjMAAAAAAAOCFQAAAAAAAQI/AAAAAAADAgkAAAAAAAOCFQAAAAAAAAInAAAAAAADAksAAAAAAAEB/wAAAAAAA4IXAAAAAAAAgjEAAAAAAAACJwAAAAAAA4IVAAAAAAAAgjEAAAAAAAMCCwAAAAAAAQI/AAAAAAADAcsAAAAAAAEB/wAAAAAAA4IVAAAAAAAAgjEAAAAAAAJCawAAAAAAAwJJAAAAAAADglUAAAAAAAMCSwAAAAAAAAAAAAAAAAABAj8AAAAAAAABpwAAAAAAAIIzAAAAAAABAf8AAAAAAACCMQAAAAAAAwJLAAAAAAABAj0AAAAAAAECPwAAAAAAAwJLAAAAAAAAAaUAAAAAAAOCVwAAAAAAAIIzAAAAAAADAksAAAAAAAOCFQAAAAAAAwIJAAAAAAABwl8AAAAAAACCMQAAAAAAAQI/AAAAAAAAwocAAAAAAAOCFQAAAAAAAkJrAAAAAAABwl8AAAAAAAAAAAAAAAAAA4JXAAAAAAADAksAAAAAAAABpwAAAAAAAQI/AAAAAAAAgjMAAAAAAAECPwAAAAAAAwJLAAAAAAAAAAAAAAAAAAOCVwAAAAAAAwJLAAAAAAABAj8AAAAAAACCMwAAAAAAA4IXAAAAAAABAf8AAAAAAAOCFwAAAAAAAIIzAAAAAAADAckAAAAAAAECPwAAAAAAAwJLAAAAAAAAAAAAAAAAAAFCUwAAAAAAAkJrAAAAAAABAf0AAAAAAAMCSwAAAAAAAQI/AAAAAAAAAWcAAAAAAACCMwAAAAAAAwJLAAAAAAABAf8AAAAAAAJCawAAAAAAAAAAAAAAAAABAf8AAAAAAAECPQAAAAAAA4IXAAAAAAABAf0AAAAAAACCMwAAAAAAAQH9AAAAAAADAksAAAAAAAABpQAAAAAAA4IXAAAAAAABAj0AAAAAAAEB/wAAAAAAAQI9AAAAAAADAcsAAAAAAAOCVQAAAAAAAQH/AAAAAAADAcsAAAAAAAMCSQAAAAAAA4IXAAAAAAADAkkAAAAAAAABpwAAAAAAAcJdAAAAAAADglcAAAAAAAAAAAAAAAAAAAGnAAAAAAADglUAAAAAAAAB5wAAAAAAA4JVAAAAAAABAf8AAAAAAAJCaQAAAAAAA4IXAAAAAAAAAaUAAAAAAACCMwAAAAAAAwJJAAAAAAADghUAAAAAAAHCXQAAAAAAAQH9AAAAAAABooMAAAAAAAMBywAAAAAAAMKHAAAAAAAAAAAAAAAAAAMCSwAAAAAAAUJTAAAAAAACwnUAAAAAAAJCaQAAAAAAAkJrAAAAAAACQmkAAAAAAAABZwAAAAAAAwJLAAAAAAADglcAAAAAAAHCXwAAAAAAAaKBAAAAAAAAwoUAAAAAAALCdwAAAAAAAwHLAAAAAAADglcAAAAAAAECPwAAAAAAAIIzAAAAAAADghUAAAAAAAECPwAAAAAAAQH9AAAAAAADghUAAAAAAACCMwAAAAAAAIIxAAAAAAABAj8AAAAAAACCMQAAAAAAA4IVAAAAAAAAgjMAAAAAAAOCFQAAAAAAAIIxAAAAAAABAj8AAAAAAAMCSQAAAAAAA4JVAAAAAAAAgjMAAAAAAAMCSwAAAAAAAQI/AAAAAAACwnUAAAAAAAJCaQAAAAAAAIIzAAAAAAADglUAAAAAAAECPQAAAAAAA4IXAAAAAAAAAaUAAAAAAALCdwAAAAAAAQI9AAAAAAADglcAAAAAAAMCSwAAAAAAAwHJAAAAAAABAj8AAAAAAACCMwAAAAAAAAGlAAAAAAADghcAAAAAAAEB/wAAAAAAA4IXAAAAAAAAgjMAAAAAAAMByQAAAAAAAQI/AAAAAAADAksAAAAAAAAAAAAAAAAAAUJTAAAAAAAAAAAAAAAAAAJCawAAAAAAAwHLAAAAAAADAksAAAAAAAECPwAAAAAAAAGlAAAAAAADAksAAAAAAAOCVwAAAAAAAAGnAAAAAAABwl8AAAAAAAABpQAAAAAAAkJrAAAAAAAAgnMAAAAAAADChwAAAAAAAAAAAAAAAAACQmsAAAAAAAEB/wAAAAAAAQI9AAAAAAAAgjEAAAAAAAMBywAAAAAAA4IXAAAAAAADAkkAAAAAAAAAAAAAAAAAA4JXAAAAAAABAj0AAAAAAAMCSwAAAAAAAQI9AAAAAAABAj8AAAAAAACCMwAAAAAAA4JVAAAAAAADghcAAAAAAAOCVQAAAAAAAwJJAAAAAAACwncAAAAAAAMCSQAAAAAAAaKDAAAAAAABwl0AAAAAAAOCVQAAAAAAAMKHAAAAAAADglUAAAAAAAMCiwAAAAAAAwJJAAAAAAAAwocAAAAAAAMCSQAAAAAAAaKDAAAAAAADAosAAAAAAAHCXQAAAAAAAkJrAAAAAAACwnUAAAAAAAGigQAAAAAAAQH/AAAAAAACQmkAAAAAAAOCFQAAAAAAA4JVAAAAAAABAf8AAAAAAAMCSQAAAAAAAQH/AAAAAAAAgnEAAAAAAALCdQAAAAAAAwILAAAAAAABwl0AAAAAAAOCVQAAAAAAAwJJAAAAAAADAgsAAAAAAAECPQAAAAAAAQH/AAAAAAACwnUAAAAAAAOCFwAAAAAAAkJpAAAAAAADglUAAAAAAACCMwAAAAAAAAGlAAAAAAAAwkUAAAAAAAEB/QAAAAAAAAGlAAAAAAAAAAAAAAAAAAHCXQAAAAAAA4JVAAAAAAABAj8AAAAAAAOCVQAAAAAAAcJdAAAAAAADAksAAAAAAAABZwAAAAAAA4IVAAAAAAAAAAAAAAAAAAABZwAAAAAAAAAAAAAAAAABwl0AAAAAAAOCVQAAAAAAAwKLAAAAAAADAkkAAAAAAADCRQAAAAAAAwJLAAAAAAADghUAAAAAAAACJQAAAAAAAAAAAAAAAAADghUAAAAAAAABpwAAAAAAAwHLAAAAAAAAgjEAAAAAAAMCSQAAAAAAAcJfAAAAAAADglUAAAAAAAOCVwAAAAAAAAAAAAAAAAAAgnMAAAAAAAABpwAAAAAAAkJrAAAAAAAAgnEAAAAAAAACZQAAAAAAA4JXAAAAAAADAkkAAAAAAAMCSwAAAAAAAQI/AAAAAAADghUAAAAAAACCMQAAAAAAAIIzAAAAAAADghcAAAAAAAABZwAAAAAAAIIzAAAAAAAAAaUAAAAAAAECPwAAAAAAAwHJAAAAAAADAksAAAAAAAMCiwAAAAAAAwILAAAAAAABAf8AAAAAAAMBywAAAAAAAwJLAAAAAAAAAacAAAAAAAJCawAAAAAAAQH/AAAAAAAAAAAAAAAAAAOCFwAAAAAAAwHJAAAAAAAAgjMAAAAAAAEB/QAAAAAAAQI/AAAAAAAAwocAAAAAAAEB/wAAAAAAAQI/AAAAAAAAAWcAAAAAAAJCawAAAAAAAAAAAAAAAAADAksAAAAAAAMByQAAAAAAAIIzAAAAAAABAf0AAAAAAAACZwAAAAAAAwHJAAAAAAADAksAAAAAAAABpQAAAAAAAsJ3AAAAAAAAAiUAAAAAAAOCFwAAAAAAA4IVAAAAAAAAgjMAAAAAAAEB/QAAAAAAAAHnAAAAAAADAckAAAAAAAEB/wAAAAAAA4IXAAAAAAAAAaUAAAAAAAEB/wAAAAAAAkJrAAAAAAADAcsAAAAAAAMCSwAAAAAAAQH9AAAAAAABAj8AAAAAAAMByQAAAAAAAwJLAAAAAAAAAaUAAAAAAAOCVwAAAAAAAAAAAAAAAAABwl8AAAAAAAABpwAAAAAAAMKHAAAAAAADAcsAAAAAAAECPwAAAAAAAAGnAAAAAAAAAAAAAAAAAAMCCwAAAAAAA4JXAAAAAAAAgjMAAAAAAAOCFQAAAAAAAQI/AAAAAAADAgkAAAAAAAOCFQAAAAAAAAInAAAAAAADAksAAAAAAAEB/wAAAAAAA4IXAAAAAAAAgjEAAAAAAAACJwAAAAAAA4IVAAAAAAAAgjEAAAAAAAMCCwAAAAAAAQI/AAAAAAADAcsAAAAAAAEB/wAAAAAAA4IVAAAAAAAAgjEAAAAAAAJCawAAAAAAAwJJAAAAAAADglUAAAAAAAMCSwAAAAAAAAAAAAAAAAABAj8AAAAAAAABpwAAAAAAAIIzAAAAAAABAf8AAAAAAACCMQAAAAAAAwJLAAAAAAAAAacAAAAAAAECPwAAAAAAAwJLAAAAAAAAAaUAAAAAAAOCVwAAAAAAAIIzAAAAAAADAksAAAAAAAOCFQAAAAAAAwIJAAAAAAABwl8AAAAAAAMCSQAAAAAAAIIxAAAAAAABAj8AAAAAAADChwAAAAAAA4IVAAAAAAACQmsAAAAAAALCdQAAAAAAAwHLAAAAAAAAAWcAAAAAAAHCXQAAAAAAA4JVAAAAAAABAf8AAAAAAAJCaQAAAAAAA4JVAAAAAAAAAAAAAAAAAAOCVQAAAAAAAwJJAAAAAAADghcAAAAAAACCMwAAAAAAAMKFAAAAAAADAokAAAAAAAECPwAAAAAAAaKBAAAAAAAAgjMAAAAAAAMCSwAAAAAAAsJ1AAAAAAABooEAAAAAAACCMwAAAAAAAQI/AAAAAAADglUAAAAAAAMCSQAAAAAAAwILAAAAAAADAkkAAAAAAAMByQAAAAAAAQH/AAAAAAACwnUAAAAAAAHCXQAAAAAAA4JXAAAAAAADglUAAAAAAAOCFQAAAAAAAQI/AAAAAAAAwocAAAAAAAOCFQAAAAAAAAAAAAAAAAACQmsAAAAAAAABZwAAAAAAAQH9AAAAAAAAAaUAAAAAAAMByQAAAAAAAAFnAAAAAAAAAAAAAAAAAAMCCwAAAAAAAQH/A\",\"dtype\":\"float64\",\"shape\":[492]},\"y\":{\"__ndarray__\":\"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\",\"dtype\":\"float64\",\"shape\":[492]}},\"selected\":{\"id\":\"1152\",\"type\":\"Selection\"},\"selection_policy\":{\"id\":\"1153\",\"type\":\"UnionRenderers\"}},\"id\":\"1130\",\"type\":\"ColumnDataSource\"},{\"attributes\":{},\"id\":\"1153\",\"type\":\"UnionRenderers\"},{\"attributes\":{\"active_drag\":\"auto\",\"active_inspect\":\"auto\",\"active_multi\":null,\"active_scroll\":\"auto\",\"active_tap\":\"auto\",\"tools\":[{\"id\":\"1116\",\"type\":\"PanTool\"},{\"id\":\"1117\",\"type\":\"WheelZoomTool\"},{\"id\":\"1118\",\"type\":\"BoxZoomTool\"},{\"id\":\"1119\",\"type\":\"SaveTool\"},{\"id\":\"1120\",\"type\":\"ResetTool\"},{\"id\":\"1121\",\"type\":\"HelpTool\"}]},\"id\":\"1122\",\"type\":\"Toolbar\"},{\"attributes\":{},\"id\":\"1152\",\"type\":\"Selection\"},{\"attributes\":{\"fill_color\":{\"value\":\"#1f77b4\"},\"line_color\":{\"value\":\"#1f77b4\"},\"x\":{\"field\":\"x\"},\"y\":{\"field\":\"y\"}},\"id\":\"1131\",\"type\":\"Scatter\"},{\"attributes\":{},\"id\":\"1112\",\"type\":\"BasicTicker\"},{\"attributes\":{\"source\":{\"id\":\"1130\",\"type\":\"ColumnDataSource\"}},\"id\":\"1134\",\"type\":\"CDSView\"},{\"attributes\":{},\"id\":\"1120\",\"type\":\"ResetTool\"},{\"attributes\":{\"formatter\":{\"id\":\"1150\",\"type\":\"BasicTickFormatter\"},\"ticker\":{\"id\":\"1112\",\"type\":\"BasicTicker\"}},\"id\":\"1111\",\"type\":\"LinearAxis\"}],\"root_ids\":[\"1097\"]},\"title\":\"Bokeh Application\",\"version\":\"1.2.0\"}};\n",
       "  var render_items = [{\"docid\":\"27651afc-fca4-4e4b-b2a0-cb5f4eae2ca8\",\"roots\":{\"1097\":\"c4c96f55-58b8-4d32-9adf-34c280b48896\"}}];\n",
       "  root.Bokeh.embed.embed_items_notebook(docs_json, render_items);\n",
       "\n",
       "  }\n",
       "  if (root.Bokeh !== undefined) {\n",
       "    embed_document(root);\n",
       "  } else {\n",
       "    var attempts = 0;\n",
       "    var timer = setInterval(function(root) {\n",
       "      if (root.Bokeh !== undefined) {\n",
       "        embed_document(root);\n",
       "        clearInterval(timer);\n",
       "      }\n",
       "      attempts++;\n",
       "      if (attempts > 100) {\n",
       "        console.log(\"Bokeh: ERROR: Unable to run BokehJS code because BokehJS library is missing\");\n",
       "        clearInterval(timer);\n",
       "      }\n",
       "    }, 10, root)\n",
       "  }\n",
       "})(window);"
      ],
      "application/vnd.bokehjs_exec.v0+json": ""
     },
     "metadata": {
      "application/vnd.bokehjs_exec.v0+json": {
       "id": "1097"
      }
     },
     "output_type": "display_data"
    }
   ],
   "source": [
    "bp.show(p)"
   ]
  },
  {
   "cell_type": "markdown",
   "metadata": {},
   "source": [
    "# a"
   ]
  },
  {
   "cell_type": "markdown",
   "metadata": {},
   "source": [
    "### checking the data read"
   ]
  },
  {
   "cell_type": "code",
   "execution_count": null,
   "metadata": {},
   "outputs": [],
   "source": [
    "[x for x in parts]"
   ]
  },
  {
   "cell_type": "code",
   "execution_count": null,
   "metadata": {},
   "outputs": [],
   "source": [
    "notes_to_parse"
   ]
  },
  {
   "cell_type": "code",
   "execution_count": null,
   "metadata": {},
   "outputs": [],
   "source": [
    "note_list = [x for x in notes_to_parse if isinstance(x , note.Note)]"
   ]
  },
  {
   "cell_type": "code",
   "execution_count": null,
   "metadata": {},
   "outputs": [],
   "source": [
    "len(note_list)"
   ]
  },
  {
   "cell_type": "code",
   "execution_count": null,
   "metadata": {},
   "outputs": [],
   "source": [
    "a_note = note_list[0]"
   ]
  },
  {
   "cell_type": "code",
   "execution_count": null,
   "metadata": {},
   "outputs": [],
   "source": [
    "a_note"
   ]
  },
  {
   "cell_type": "code",
   "execution_count": null,
   "metadata": {
    "scrolled": true
   },
   "outputs": [],
   "source": [
    "dir(a_note)"
   ]
  },
  {
   "cell_type": "code",
   "execution_count": null,
   "metadata": {},
   "outputs": [],
   "source": [
    "a_note.name"
   ]
  },
  {
   "cell_type": "code",
   "execution_count": null,
   "metadata": {
    "scrolled": true
   },
   "outputs": [],
   "source": [
    "notes"
   ]
  },
  {
   "cell_type": "markdown",
   "metadata": {},
   "source": [
    "## label encoding new flow (main)\n",
    "\n",
    "https://towardsdatascience.com/encoding-categorical-features-21a2651a065c\n",
    "に概ね準拠仕様と思ったが・・・\n",
    "\n",
    "- そもそもlabelencoder -> onehot  は今後必要ないよとwarning が出る\n",
    "- onehot の挙動が読みにくい\n",
    "\n",
    "のでlabelencodingしたあと直にnp.arrayをmanual onehote化したほうがいいのではないか？？"
   ]
  },
  {
   "cell_type": "code",
   "execution_count": null,
   "metadata": {},
   "outputs": [],
   "source": [
    "import torch.nn as nn\n",
    "import torch"
   ]
  },
  {
   "cell_type": "code",
   "execution_count": null,
   "metadata": {},
   "outputs": [],
   "source": [
    "from sklearn.preprocessing import LabelEncoder"
   ]
  },
  {
   "cell_type": "code",
   "execution_count": null,
   "metadata": {},
   "outputs": [],
   "source": [
    "le = LabelEncoder()"
   ]
  },
  {
   "cell_type": "code",
   "execution_count": null,
   "metadata": {},
   "outputs": [],
   "source": [
    "le.fit(list(note_set))"
   ]
  },
  {
   "cell_type": "code",
   "execution_count": null,
   "metadata": {},
   "outputs": [],
   "source": [
    "import numpy as np"
   ]
  },
  {
   "cell_type": "code",
   "execution_count": null,
   "metadata": {},
   "outputs": [],
   "source": [
    "labeled_notes_list = [le.transform(np.array(x)) for x in notes_list]"
   ]
  },
  {
   "cell_type": "code",
   "execution_count": null,
   "metadata": {},
   "outputs": [],
   "source": [
    "label_set = set(le.transform(list(note_set)))"
   ]
  },
  {
   "cell_type": "code",
   "execution_count": null,
   "metadata": {},
   "outputs": [],
   "source": [
    "raw_X = [torch.zeros(labeled_notes_list[i].shape[0] - 1 , len(label_set)) for i in range(len(notes_list))]"
   ]
  },
  {
   "cell_type": "code",
   "execution_count": null,
   "metadata": {},
   "outputs": [],
   "source": [
    "for i in range(len(notes_list)):\n",
    "    for j in range(labeled_notes_list[i].shape[0]-1):\n",
    "        raw_X[i][j , labeled_notes_list[i][j]] = 1."
   ]
  },
  {
   "cell_type": "code",
   "execution_count": null,
   "metadata": {},
   "outputs": [],
   "source": [
    "packed_X = torch.nn.utils.rnn.pack_sequence(raw_X , enforce_sorted=False)"
   ]
  },
  {
   "cell_type": "code",
   "execution_count": null,
   "metadata": {},
   "outputs": [],
   "source": [
    "ppd_X = torch.nn.utils.rnn.pad_packed_sequence(packed_X)"
   ]
  },
  {
   "cell_type": "code",
   "execution_count": null,
   "metadata": {},
   "outputs": [],
   "source": [
    "raw_y = [torch.tensor(np.array(x[1:])) for x in labeled_notes_list]"
   ]
  },
  {
   "cell_type": "code",
   "execution_count": null,
   "metadata": {},
   "outputs": [],
   "source": [
    "packed_y = torch.nn.utils.rnn.pack_sequence(raw_y , enforce_sorted=False)"
   ]
  },
  {
   "cell_type": "code",
   "execution_count": null,
   "metadata": {},
   "outputs": [],
   "source": [
    "ppd_y = torch.nn.utils.rnn.pad_packed_sequence(packed_y)"
   ]
  },
  {
   "cell_type": "markdown",
   "metadata": {},
   "source": [
    "## label encoding previous flow"
   ]
  },
  {
   "cell_type": "code",
   "execution_count": null,
   "metadata": {},
   "outputs": [],
   "source": [
    "from sklearn.preprocessing import OneHotEncoder"
   ]
  },
  {
   "cell_type": "code",
   "execution_count": null,
   "metadata": {},
   "outputs": [],
   "source": [
    "ohe = OneHotEncoder(sparse = True)"
   ]
  },
  {
   "cell_type": "code",
   "execution_count": null,
   "metadata": {},
   "outputs": [],
   "source": [
    "import numpy as np"
   ]
  },
  {
   "cell_type": "markdown",
   "metadata": {},
   "source": [
    "ohnotes = ohe.fit_transform(np.array(notes).reshape(-1,1))"
   ]
  },
  {
   "cell_type": "code",
   "execution_count": null,
   "metadata": {},
   "outputs": [],
   "source": [
    "ohnotes = ohe.fit(np.array(list(note_set)).reshape(-1,1))"
   ]
  },
  {
   "cell_type": "code",
   "execution_count": null,
   "metadata": {},
   "outputs": [],
   "source": [
    "ohnotes_list = [ohe.transform(np.array(x).reshape(-1,1)) for x in notes_list]"
   ]
  },
  {
   "cell_type": "code",
   "execution_count": null,
   "metadata": {},
   "outputs": [],
   "source": [
    "len(ohnotes_list)"
   ]
  },
  {
   "cell_type": "code",
   "execution_count": null,
   "metadata": {},
   "outputs": [],
   "source": [
    "raw_X = [torch.Tensor(x.toarray()) for x in ohnotes_list]"
   ]
  },
  {
   "cell_type": "code",
   "execution_count": null,
   "metadata": {},
   "outputs": [],
   "source": [
    "packed_X = torch.nn.utils.rnn.pack_sequence(raw_X , enforce_sorted=False)"
   ]
  },
  {
   "cell_type": "code",
   "execution_count": null,
   "metadata": {},
   "outputs": [],
   "source": [
    "ppd_X = torch.nn.utils.rnn.pad_packed_sequence(packed_X)"
   ]
  },
  {
   "cell_type": "code",
   "execution_count": null,
   "metadata": {},
   "outputs": [],
   "source": [
    "features = ohe.get_feature_names()"
   ]
  },
  {
   "cell_type": "code",
   "execution_count": null,
   "metadata": {},
   "outputs": [],
   "source": []
  },
  {
   "cell_type": "markdown",
   "metadata": {},
   "source": [
    "### reference\n",
    "\n",
    "- OneHotEncoderだけでいける。LabelEncoderをかます必要なしと当初思っていたがむしろ逆\n",
    "\n"
   ]
  },
  {
   "cell_type": "markdown",
   "metadata": {},
   "source": [
    "https://stackoverflow.com/questions/30869382/encoding-string-to-numbers-so-as-to-use-it-in-scikit-learn\n",
    "\n",
    "Another possible good reference:\n",
    "https://stackoverflow.com/questions/30869382/encoding-string-to-numbers-so-as-to-use-it-in-scikit-learn\n"
   ]
  },
  {
   "cell_type": "markdown",
   "metadata": {},
   "source": [
    "### obsolete : label encoder: 不必要という判断になっていたが結局こちらのほうがいいかも？"
   ]
  },
  {
   "cell_type": "code",
   "execution_count": null,
   "metadata": {},
   "outputs": [],
   "source": [
    "from sklearn.preprocessing import LabelEncoder"
   ]
  },
  {
   "cell_type": "code",
   "execution_count": null,
   "metadata": {},
   "outputs": [],
   "source": [
    "le = LabelEncoder()"
   ]
  },
  {
   "cell_type": "code",
   "execution_count": null,
   "metadata": {},
   "outputs": [],
   "source": [
    "le.fit(list(note_set))"
   ]
  },
  {
   "cell_type": "code",
   "execution_count": null,
   "metadata": {},
   "outputs": [],
   "source": [
    "inotes = le.transform(notes)"
   ]
  },
  {
   "cell_type": "code",
   "execution_count": null,
   "metadata": {},
   "outputs": [],
   "source": [
    "inotes[0:10]"
   ]
  },
  {
   "cell_type": "markdown",
   "metadata": {},
   "source": [
    "## mask"
   ]
  },
  {
   "cell_type": "code",
   "execution_count": null,
   "metadata": {},
   "outputs": [],
   "source": [
    "mask = torch.Tensor([len(x) - 1 for x in notes_list])"
   ]
  },
  {
   "cell_type": "markdown",
   "metadata": {},
   "source": [
    "or"
   ]
  },
  {
   "cell_type": "code",
   "execution_count": null,
   "metadata": {},
   "outputs": [],
   "source": [
    "mask = ppd_X[1]"
   ]
  },
  {
   "cell_type": "markdown",
   "metadata": {},
   "source": [
    "# LTSM\n",
    "\n",
    "参考文献のpreprocessはあまり納得いかないので・・\n",
    "\n",
    "https://pytorch.org/tutorials/beginner/nlp/sequence_models_tutorial.html\n",
    "\n",
    "をみつつやってみるか"
   ]
  },
  {
   "cell_type": "markdown",
   "metadata": {},
   "source": [
    "##  復習"
   ]
  },
  {
   "cell_type": "code",
   "execution_count": null,
   "metadata": {},
   "outputs": [],
   "source": [
    "input_size = 10\n",
    "hidden_size = 20\n",
    "num_layers = 1"
   ]
  },
  {
   "cell_type": "code",
   "execution_count": null,
   "metadata": {},
   "outputs": [],
   "source": [
    "rnn = nn.LSTM(input_size = input_size, hidden_size = hidden_size, num_layers = num_layers)"
   ]
  },
  {
   "cell_type": "code",
   "execution_count": null,
   "metadata": {},
   "outputs": [],
   "source": [
    "sequence_length = 5\n",
    "sequence_num = 3"
   ]
  },
  {
   "cell_type": "code",
   "execution_count": null,
   "metadata": {},
   "outputs": [],
   "source": [
    "input = torch.randn(sequence_length, sequence_num, input_size)"
   ]
  },
  {
   "cell_type": "code",
   "execution_count": null,
   "metadata": {},
   "outputs": [],
   "source": [
    "h0 = torch.randn(num_layers , sequence_num , hidden_size)\n",
    "c0 = torch.randn(num_layers , sequence_num, hidden_size)\n",
    "output, (hn, cn) = rnn(input, (h0, c0))"
   ]
  },
  {
   "cell_type": "code",
   "execution_count": null,
   "metadata": {},
   "outputs": [],
   "source": [
    "hn.shape"
   ]
  },
  {
   "cell_type": "code",
   "execution_count": null,
   "metadata": {},
   "outputs": [],
   "source": [
    "output.shape"
   ]
  },
  {
   "cell_type": "markdown",
   "metadata": {},
   "source": [
    "outputの最後尾（sequence length方向の末尾）とhnは一致する:\n"
   ]
  },
  {
   "cell_type": "code",
   "execution_count": null,
   "metadata": {},
   "outputs": [],
   "source": [
    "output[4]"
   ]
  },
  {
   "cell_type": "code",
   "execution_count": null,
   "metadata": {},
   "outputs": [],
   "source": [
    "hn"
   ]
  },
  {
   "cell_type": "markdown",
   "metadata": {},
   "source": [
    "## 復習２"
   ]
  },
  {
   "cell_type": "code",
   "execution_count": null,
   "metadata": {},
   "outputs": [],
   "source": [
    "rnn = nn.LSTM(input_size = input_size, hidden_size = hidden_size, num_layers = num_layers)"
   ]
  },
  {
   "cell_type": "code",
   "execution_count": null,
   "metadata": {},
   "outputs": [],
   "source": [
    "batch_X = ppd_X[0][: , 0:10 ]\n",
    "batch_y = ppd_y[0][:,  0:10]"
   ]
  },
  {
   "cell_type": "code",
   "execution_count": null,
   "metadata": {},
   "outputs": [],
   "source": [
    "sequence_num = batch_X.shape[1]"
   ]
  },
  {
   "cell_type": "code",
   "execution_count": null,
   "metadata": {},
   "outputs": [],
   "source": [
    "h0 = torch.randn(num_layers , sequence_num , hidden_size)\n",
    "c0 = torch.randn(num_layers , sequence_num, hidden_size)\n",
    "output, (hn, cn) = rnn(batch_X, (h0, c0))"
   ]
  },
  {
   "cell_type": "code",
   "execution_count": null,
   "metadata": {},
   "outputs": [],
   "source": [
    "output.shape"
   ]
  },
  {
   "cell_type": "markdown",
   "metadata": {},
   "source": [
    "## main"
   ]
  },
  {
   "cell_type": "markdown",
   "metadata": {},
   "source": [
    "### simple model"
   ]
  },
  {
   "cell_type": "markdown",
   "metadata": {},
   "source": [
    "input_size = len(ohe.get_feature_names())\n",
    "hidden_size = 50\n",
    "num_layers = 1"
   ]
  },
  {
   "cell_type": "code",
   "execution_count": null,
   "metadata": {},
   "outputs": [],
   "source": [
    "input_size = ppd_X[0].shape[2]\n",
    "hidden_size = ppd_X[0].shape[2]\n",
    "num_layers = 1"
   ]
  },
  {
   "cell_type": "code",
   "execution_count": null,
   "metadata": {},
   "outputs": [],
   "source": [
    "class my_model(nn.Module):\n",
    "\n",
    "    def __init__(self, input_size, hidden_size, num_layers):\n",
    "        super(my_model, self).__init__()\n",
    "        self.input_size = input_size\n",
    "        self.hidden_size = hidden_size\n",
    "        self.num_layers = num_layers\n",
    "\n",
    "\n",
    "        self.rnn = nn.LSTM(input_size = input_size, hidden_size = hidden_size, num_layers = num_layers)\n",
    "\n",
    "        #self.linear = nn.Linear(hidden_size, input_size) #output dimension has to be identical with the input dimension\n",
    "        #self.softmax = nn.functional.softmax()\n",
    "\n",
    "\n",
    "    def forward(self, input):\n",
    "        sequence_num = input.shape[1]\n",
    "        self.h0 = torch.randn(self.num_layers , sequence_num , self.hidden_size)\n",
    "        self.c0 = torch.randn(self.num_layers , sequence_num, self.hidden_size)\n",
    "        y, (hn, cn) = self.rnn(input, (self.h0, self.c0))\n",
    "        #y = self.linear(y)\n",
    "        y = nn.functional.softmax(y , dim = 2)\n",
    "        return y\n",
    "    "
   ]
  },
  {
   "cell_type": "code",
   "execution_count": null,
   "metadata": {},
   "outputs": [],
   "source": [
    "model = my_model(input_size , hidden_size , num_layers)"
   ]
  },
  {
   "cell_type": "markdown",
   "metadata": {},
   "source": [
    "### 参考文献に似せたモデル\n",
    "https://towardsdatascience.com/how-to-generate-music-using-a-lstm-neural-network-in-keras-68786834d4c5\n",
    "に似せたモデル\n",
    "現状ランダムの1.8倍程度の正答率にしかならない"
   ]
  },
  {
   "cell_type": "code",
   "execution_count": null,
   "metadata": {},
   "outputs": [],
   "source": [
    "input_size = ppd_X[0].shape[2]\n",
    "hidden_size = 256\n",
    "num_layers = 2\n",
    "dropout = 0.1"
   ]
  },
  {
   "cell_type": "code",
   "execution_count": null,
   "metadata": {},
   "outputs": [],
   "source": [
    "class my_model(nn.Module):\n",
    "\n",
    "    def __init__(self, input_size, hidden_size, num_layers , dropout):\n",
    "        #super(my_model, self).__init__()\n",
    "        \n",
    "        super().__init__()\n",
    "        #self.input_size = input_size\n",
    "        #self.hidden_size = hidden_size\n",
    "        #self.num_layers = num_layers\n",
    "        self.relu1 = nn.ReLU()\n",
    "\n",
    "\n",
    "        self.rnn = nn.LSTM(input_size = input_size, hidden_size = hidden_size, num_layers = num_layers , dropout=dropout)\n",
    "\n",
    "        self.linear = nn.Linear(hidden_size, input_size) #output dimension has to be identical with the input dimension\n",
    "      \n",
    "\n",
    "\n",
    "    def forward(self, input):\n",
    "        #self.h0 = torch.randn(self.num_layers , sequence_num , self.hidden_size)\n",
    "        #self.c0 = torch.randn(self.num_layers , sequence_num, self.hidden_size)\n",
    "        y, (hn, cn) = self.rnn(input)#, (self.h0, self.c0))\n",
    "        y = self.linear(y)\n",
    "        y = self.relu1(y)\n",
    "        y = nn.functional.softmax(y , dim = 2)\n",
    "        return y\n",
    "    "
   ]
  },
  {
   "cell_type": "code",
   "execution_count": null,
   "metadata": {},
   "outputs": [],
   "source": [
    "model = my_model(input_size , hidden_size , num_layers , dropout)"
   ]
  },
  {
   "cell_type": "markdown",
   "metadata": {},
   "source": [
    "## dimensionality check"
   ]
  },
  {
   "cell_type": "code",
   "execution_count": null,
   "metadata": {},
   "outputs": [],
   "source": [
    "y_tmp = model.forward(ppd_X[0][:, 0:10])"
   ]
  },
  {
   "cell_type": "code",
   "execution_count": null,
   "metadata": {},
   "outputs": [],
   "source": [
    "y_tmp.shape"
   ]
  },
  {
   "cell_type": "markdown",
   "metadata": {},
   "source": [
    "# criterion"
   ]
  },
  {
   "cell_type": "markdown",
   "metadata": {},
   "source": [
    "cross entropy for one-hot representation\n",
    "https://discuss.pytorch.org/t/cross-entropy-with-one-hot-targets/13580/4\n",
    "\n",
    "one-hotのままでなくて、Rでいうところのfactorに戻したほうがよさそう（？）\n"
   ]
  },
  {
   "cell_type": "code",
   "execution_count": null,
   "metadata": {},
   "outputs": [],
   "source": [
    "criterion = nn.CrossEntropyLoss(reduction='sum')"
   ]
  },
  {
   "cell_type": "markdown",
   "metadata": {},
   "source": [
    "\n",
    "input has to be a Tensor of size either (minibatch, C)(minibatch,C) or (minibatch, C, d_1, d_2, ..., d_K)"
   ]
  },
  {
   "cell_type": "markdown",
   "metadata": {},
   "source": [
    "## crossentropyの使い方"
   ]
  },
  {
   "cell_type": "markdown",
   "metadata": {},
   "source": [
    "### simplest example"
   ]
  },
  {
   "cell_type": "code",
   "execution_count": null,
   "metadata": {},
   "outputs": [],
   "source": [
    "input = torch.randn(3, 5, requires_grad=True)\n",
    "target = torch.empty(3, dtype=torch.long).random_(5)"
   ]
  },
  {
   "cell_type": "code",
   "execution_count": null,
   "metadata": {},
   "outputs": [],
   "source": [
    "input"
   ]
  },
  {
   "cell_type": "code",
   "execution_count": null,
   "metadata": {},
   "outputs": [],
   "source": [
    "target"
   ]
  },
  {
   "cell_type": "code",
   "execution_count": null,
   "metadata": {},
   "outputs": [],
   "source": [
    "output = criterion(input, target)"
   ]
  },
  {
   "cell_type": "markdown",
   "metadata": {},
   "source": [
    "### まとめて評価する場合（ただし、maskの適用方法がopen problem)"
   ]
  },
  {
   "cell_type": "code",
   "execution_count": null,
   "metadata": {},
   "outputs": [],
   "source": [
    "criterion(y_tmp.permute(1 , 2,0 ) , batch_y.transpose(0,1))"
   ]
  },
  {
   "cell_type": "code",
   "execution_count": null,
   "metadata": {},
   "outputs": [],
   "source": [
    "criterion(y_tmp.transpose(0 , 1).transpose(1,2) , batch_y.transpose(0,1))"
   ]
  },
  {
   "cell_type": "markdown",
   "metadata": {},
   "source": [
    "# GPU tool"
   ]
  },
  {
   "cell_type": "code",
   "execution_count": null,
   "metadata": {},
   "outputs": [],
   "source": [
    "#https://qiita.com/elm200/items/46633430c456dd90f1e3\n",
    "def try_gpu(e):\n",
    "    if torch.cuda.is_available():\n",
    "        return e.cuda()\n",
    "    return e"
   ]
  },
  {
   "cell_type": "code",
   "execution_count": null,
   "metadata": {},
   "outputs": [],
   "source": [
    "is_use_gpu = True"
   ]
  },
  {
   "cell_type": "code",
   "execution_count": null,
   "metadata": {},
   "outputs": [],
   "source": [
    "if is_use_gpu:\n",
    "    model = try_gpu(model)"
   ]
  },
  {
   "cell_type": "markdown",
   "metadata": {},
   "source": [
    "# optimizer"
   ]
  },
  {
   "cell_type": "code",
   "execution_count": null,
   "metadata": {},
   "outputs": [],
   "source": [
    "import torch.optim as optim# optimizer"
   ]
  },
  {
   "cell_type": "code",
   "execution_count": null,
   "metadata": {},
   "outputs": [],
   "source": [
    "optimizer = optim.SGD(model.parameters(), lr=0.001, momentum=0.9)"
   ]
  },
  {
   "cell_type": "code",
   "execution_count": null,
   "metadata": {},
   "outputs": [],
   "source": [
    "optimizer = optim.Adam(model.parameters())"
   ]
  },
  {
   "cell_type": "markdown",
   "metadata": {},
   "source": [
    "# optimization"
   ]
  },
  {
   "cell_type": "code",
   "execution_count": null,
   "metadata": {},
   "outputs": [],
   "source": [
    "from IPython.display import display"
   ]
  },
  {
   "cell_type": "code",
   "execution_count": null,
   "metadata": {},
   "outputs": [],
   "source": [
    "sample_size = ppd_X[0].shape[1]"
   ]
  },
  {
   "cell_type": "code",
   "execution_count": null,
   "metadata": {},
   "outputs": [],
   "source": [
    "batch_size = 20"
   ]
  },
  {
   "cell_type": "code",
   "execution_count": null,
   "metadata": {},
   "outputs": [],
   "source": [
    "batch_indices = range( 0 ,sample_size ,  batch_size)"
   ]
  },
  {
   "cell_type": "markdown",
   "metadata": {},
   "source": [
    "## n epochs"
   ]
  },
  {
   "cell_type": "code",
   "execution_count": null,
   "metadata": {},
   "outputs": [],
   "source": [
    "n_epochs = 1000"
   ]
  },
  {
   "cell_type": "code",
   "execution_count": null,
   "metadata": {},
   "outputs": [],
   "source": [
    "losses = []"
   ]
  },
  {
   "cell_type": "code",
   "execution_count": null,
   "metadata": {},
   "outputs": [],
   "source": [
    "prob_when_random = 1 / len(note_set)"
   ]
  },
  {
   "cell_type": "code",
   "execution_count": null,
   "metadata": {
    "scrolled": true
   },
   "outputs": [],
   "source": [
    "for k in range(n_epochs):\n",
    "    batch_loss = 0\n",
    "    shuffled_idx = torch.randperm(sample_size)\n",
    "    for i in batch_indices:\n",
    "        #display(\".\")\n",
    "        batch_samples = shuffled_idx[i:min(i + batch_size , sample_size) ]\n",
    "\n",
    "        batch_X = ppd_X[0][: , batch_samples]\n",
    "        batch_y = ppd_y[0][:,  batch_samples]        \n",
    "        batch_mask = mask[batch_samples]\n",
    "        \n",
    "        if is_use_gpu:\n",
    "            batch_X = try_gpu(batch_X)\n",
    "            batch_y = try_gpu(batch_y)\n",
    "\n",
    "            batch_mask = try_gpu(batch_mask)\n",
    "\n",
    "        model.zero_grad()\n",
    "\n",
    "        batch_y_model = model(batch_X)\n",
    "\n",
    "        loss = 0\n",
    "\n",
    "        for j in range(batch_y.shape[1]):\n",
    "            loss += criterion( batch_y_model[0:batch_mask[j] , j ] , batch_y[0:batch_mask[j] , j])\n",
    "        batch_loss += loss.item()\n",
    "        loss.backward()\n",
    "\n",
    "        optimizer.step()\n",
    "    batch_loss /= torch.sum(mask).item()\n",
    "    losses.append(batch_loss)\n",
    "    mean_correct_prob = np.exp(-batch_loss)\n",
    "    \n",
    "    \n",
    "    display(\"epoch : {}   loss : {}   correct prob : {} correct / random : {}\".format(k , batch_loss ,\n",
    "                                                                        mean_correct_prob ,\n",
    "                                                                        mean_correct_prob / prob_when_random))\n"
   ]
  },
  {
   "cell_type": "code",
   "execution_count": null,
   "metadata": {},
   "outputs": [],
   "source": [
    "import matplotlib.pyplot as plt\n",
    "%matplotlib inline"
   ]
  },
  {
   "cell_type": "code",
   "execution_count": null,
   "metadata": {},
   "outputs": [],
   "source": [
    "plt.plot(losses)"
   ]
  },
  {
   "cell_type": "markdown",
   "metadata": {},
   "source": [
    "### save model"
   ]
  },
  {
   "cell_type": "markdown",
   "metadata": {},
   "source": [
    "https://qiita.com/jyori112/items/aad5703c1537c0139edb"
   ]
  },
  {
   "cell_type": "code",
   "execution_count": null,
   "metadata": {},
   "outputs": [],
   "source": [
    "torch.save(model.state_dict() , 'saved/model20191022')"
   ]
  },
  {
   "cell_type": "markdown",
   "metadata": {},
   "source": [
    "## one epoch"
   ]
  },
  {
   "cell_type": "code",
   "execution_count": null,
   "metadata": {},
   "outputs": [],
   "source": [
    "batch_loss = 0\n",
    "for i in batch_indices:\n",
    "    #display(\".\")\n",
    "    batch_samples = shuffled_idx[i:min(i + batch_size , sample_size) ]\n",
    "\n",
    "    batch_X = ppd_X[0][: , batch_samples]\n",
    "    batch_y = ppd_y[0][:,  batch_samples]\n",
    "\n",
    "    batch_mask = mask[batch_samples]\n",
    "\n",
    "    model.zero_grad()\n",
    "\n",
    "    batch_y_model = model(batch_X)\n",
    "\n",
    "    loss = 0\n",
    "\n",
    "    for j in range(batch_y.shape[1]):\n",
    "        loss += criterion( batch_y_model[0:batch_mask[j] , j ] , batch_y[0:batch_mask[j] , j])\n",
    "    batch_loss += loss.item()\n",
    "    loss.backward()\n",
    "\n",
    "    optimizer.step()\n",
    "    display(batch_loss)\n",
    "    "
   ]
  },
  {
   "cell_type": "markdown",
   "metadata": {},
   "source": [
    "## one batch toy"
   ]
  },
  {
   "cell_type": "code",
   "execution_count": null,
   "metadata": {},
   "outputs": [],
   "source": [
    "i = batch_indices[0]"
   ]
  },
  {
   "cell_type": "code",
   "execution_count": null,
   "metadata": {},
   "outputs": [],
   "source": [
    "batch_samples = shuffled_idx[i:min(i + batch_size , sample_size) ]"
   ]
  },
  {
   "cell_type": "code",
   "execution_count": null,
   "metadata": {},
   "outputs": [],
   "source": [
    "batch_X = ppd_X[0][: , batch_samples]\n",
    "batch_y = ppd_y[0][:,  batch_samples]"
   ]
  },
  {
   "cell_type": "code",
   "execution_count": null,
   "metadata": {},
   "outputs": [],
   "source": [
    "batch_mask = mask[batch_samples]"
   ]
  },
  {
   "cell_type": "code",
   "execution_count": null,
   "metadata": {},
   "outputs": [],
   "source": [
    "model.zero_grad()"
   ]
  },
  {
   "cell_type": "code",
   "execution_count": null,
   "metadata": {},
   "outputs": [],
   "source": [
    "batch_y_model = model(batch_X)"
   ]
  },
  {
   "cell_type": "code",
   "execution_count": null,
   "metadata": {},
   "outputs": [],
   "source": [
    "loss = 0\n",
    "\n",
    "for j in range(batch_y.shape[1]):\n",
    "    loss += criterion( batch_y_model[0:batch_mask[j] , j ] , batch_y[0:batch_mask[j] , j])"
   ]
  },
  {
   "cell_type": "code",
   "execution_count": null,
   "metadata": {},
   "outputs": [],
   "source": [
    "loss.backward()"
   ]
  },
  {
   "cell_type": "code",
   "execution_count": null,
   "metadata": {},
   "outputs": [],
   "source": [
    "optimizer.step()"
   ]
  },
  {
   "cell_type": "markdown",
   "metadata": {},
   "source": [
    "## sandbox"
   ]
  },
  {
   "cell_type": "code",
   "execution_count": null,
   "metadata": {},
   "outputs": [],
   "source": [
    "j = 0"
   ]
  },
  {
   "cell_type": "code",
   "execution_count": null,
   "metadata": {},
   "outputs": [],
   "source": [
    "batch_y_model[0:batch_mask[j] , j ].shape"
   ]
  },
  {
   "cell_type": "code",
   "execution_count": null,
   "metadata": {},
   "outputs": [],
   "source": [
    "batch_y.shape"
   ]
  },
  {
   "cell_type": "code",
   "execution_count": null,
   "metadata": {},
   "outputs": [],
   "source": [
    "batch_y[0:batch_mask[j] , j]"
   ]
  },
  {
   "cell_type": "code",
   "execution_count": null,
   "metadata": {},
   "outputs": [],
   "source": [
    "ppd_X[0].shape"
   ]
  },
  {
   "cell_type": "code",
   "execution_count": null,
   "metadata": {},
   "outputs": [],
   "source": [
    "ppd_y[0].shape"
   ]
  },
  {
   "cell_type": "code",
   "execution_count": null,
   "metadata": {},
   "outputs": [],
   "source": [
    "loss = criterion(y_tmp.permute(1 , 2,0 )[j , :, 0 : batch_mask[j]] , batch_y.transpose(0,1)[ j , 0 : batch_mask[j]])"
   ]
  },
  {
   "cell_type": "markdown",
   "metadata": {},
   "source": [
    "## sandbox"
   ]
  },
  {
   "cell_type": "markdown",
   "metadata": {},
   "source": [
    "class LSTMTagger(nn.Module):\n",
    "\n",
    "    def __init__(self, embedding_dim, hidden_dim, vocab_size, tagset_size):\n",
    "        super(LSTMTagger, self).__init__()\n",
    "        self.hidden_dim = hidden_dim\n",
    "\n",
    "        self.word_embeddings = nn.Embedding(vocab_size, embedding_dim)\n",
    "\n",
    "        # The LSTM takes word embeddings as inputs, and outputs hidden states\n",
    "        # with dimensionality hidden_dim.\n",
    "        self.lstm = nn.LSTM(embedding_dim, hidden_dim)\n",
    "\n",
    "        # The linear layer that maps from hidden state space to tag space\n",
    "        self.hidden2tag = nn.Linear(hidden_dim, tagset_size)\n",
    "\n",
    "    def forward(self, sentence):\n",
    "        embeds = self.word_embeddings(sentence)\n",
    "        lstm_out, _ = self.lstm(embeds.view(len(sentence), 1, -1))\n",
    "        tag_space = self.hidden2tag(lstm_out.view(len(sentence), -1))\n",
    "        tag_scores = F.log_softmax(tag_space, dim=1)\n",
    "        return tag_scores\n",
    "    "
   ]
  },
  {
   "cell_type": "markdown",
   "metadata": {},
   "source": [
    "# my own try and error　（この節のプロセスは必要ない）"
   ]
  },
  {
   "cell_type": "code",
   "execution_count": null,
   "metadata": {},
   "outputs": [],
   "source": [
    "#http://d.hatena.ne.jp/naraba/20121201/p1\n",
    "#http://web.mit.edu/music21/doc/usersGuide/usersGuide_01_installing.html\n",
    "\n",
    "from music21 import *"
   ]
  },
  {
   "cell_type": "code",
   "execution_count": null,
   "metadata": {},
   "outputs": [],
   "source": [
    "environment.set('musicxmlPath' , r\"C:\\Program Files (x86)\\Finale NotePad 2012\\Finale NotePad.exe\")\n",
    "#configure.run()\n",
    "#environment.keys()\n",
    "#environment.get('musicxmlPath')"
   ]
  },
  {
   "cell_type": "code",
   "execution_count": null,
   "metadata": {},
   "outputs": [],
   "source": [
    "s = corpus.parse('bach/bwv65.2.xml')"
   ]
  },
  {
   "cell_type": "code",
   "execution_count": null,
   "metadata": {},
   "outputs": [],
   "source": [
    "s.analyze('key')"
   ]
  },
  {
   "cell_type": "code",
   "execution_count": null,
   "metadata": {},
   "outputs": [],
   "source": [
    "s.show('midi')"
   ]
  },
  {
   "cell_type": "code",
   "execution_count": null,
   "metadata": {
    "scrolled": true
   },
   "outputs": [],
   "source": [
    "[type(x) for x in s.getElementsByClass(stream.Stream)] #a lot of \"Part\"s\n",
    "[[print(type(y)) for y in x.getElementsByClass(stream.Stream)] for x in s.getElementsByClass(stream.Stream)]\n",
    "[print(x) for x  in s.flat.getElementsByClass(note.Note)]#example of how to flatten the score\n",
    "#unlike the deepjazz example, each Parts consists of \"Measure\"s\n",
    "type(s)#score\n",
    "\n",
    "#scoreとPartとMeasureがstreamの基本的なsubclass\n",
    "#scoreがpartを複数含み、partはmeasureを複数持つ"
   ]
  },
  {
   "cell_type": "code",
   "execution_count": null,
   "metadata": {},
   "outputs": [],
   "source": []
  },
  {
   "cell_type": "markdown",
   "metadata": {},
   "source": [
    "# Before starting the note...\n",
    "Useful tips for jupyter notebook:\n",
    "\n",
    "https://www.dataquest.io/blog/jupyter-notebook-tips-tricks-shortcuts/"
   ]
  },
  {
   "cell_type": "code",
   "execution_count": 5,
   "metadata": {},
   "outputs": [],
   "source": [
    "#http://d.hatena.ne.jp/naraba/20121201/p1\n",
    "#http://web.mit.edu/music21/doc/usersGuide/usersGuide_01_installing.html\n",
    "\n",
    "from music21 import *\n",
    "#environment.set('musicxmlPath' , r\"C:\\Program Files (x86)\\Finale NotePad 2012\\Finale NotePad.exe\")\n",
    "#configure.run()\n",
    "#environment.keys()\n",
    "#environment.get('musicxmlPath')"
   ]
  },
  {
   "cell_type": "markdown",
   "metadata": {},
   "source": [
    "楽譜を表示するためのおまじない\n",
    "\n",
    "参考URL:https://groups.google.com/forum/#!topic/music21list/FmU6HeNm7AM\n"
   ]
  },
  {
   "cell_type": "code",
   "execution_count": null,
   "metadata": {},
   "outputs": [],
   "source": [
    "us = environment.UserSettings() #不必要"
   ]
  },
  {
   "cell_type": "markdown",
   "metadata": {
    "jupyter": {
     "outputs_hidden": true
    }
   },
   "source": [
    "#us.create()\n",
    "us['musicxmlPath'] = r'C:\\Program Files (x86)\\MuseScore 2\\bin\\MuseScore.exe'\n",
    "us['musescoreDirectPNGPath'] = r'C:\\Program Files (x86)\\MuseScore 2\\bin\\MuseScore.exe'"
   ]
  },
  {
   "cell_type": "markdown",
   "metadata": {},
   "source": [
    "# install musescore in linux (apt-getでインストールするのがポイント）"
   ]
  },
  {
   "cell_type": "markdown",
   "metadata": {},
   "source": [
    "For all those who will struggle with displaying scores from music21 within Jupyter Notebook on Linux (e.g. Ubuntu), follow these steps:\n",
    "https://stackoverflow.com/questions/49939275/python-music21-library-create-png-from-stream/49945456#49945456"
   ]
  },
  {
   "cell_type": "markdown",
   "metadata": {},
   "source": [
    "MuseScoreのバージョンが2から3にあがっていたので、初期設定のままではうごきませんでした。\n",
    "https://qiita.com/nofrmm/items/c3662555b145f6b42d92"
   ]
  },
  {
   "cell_type": "markdown",
   "metadata": {},
   "source": [
    "#us.create()\n",
    "us['musicxmlPath'] = r'/snap/bin/musescore'\n",
    "us['musescoreDirectPNGPath'] = r'/snap/bin/musescore'"
   ]
  },
  {
   "cell_type": "code",
   "execution_count": null,
   "metadata": {},
   "outputs": [],
   "source": [
    "environment.set(\"musescoreDirectPNGPath\", \"/usr/bin/musescore\")\n",
    "#environment.set(\"musicxmlPath\", \"/snap/bin/musescore\")"
   ]
  },
  {
   "cell_type": "markdown",
   "metadata": {},
   "source": [
    "#us.create()\n",
    "us['musicxmlPath'] = r'/snap/bin/musescore.mscore'\n",
    "us['musescoreDirectPNGPath'] = r'/snap/bin/musescore.mscore'"
   ]
  },
  {
   "cell_type": "code",
   "execution_count": null,
   "metadata": {},
   "outputs": [],
   "source": [
    "%load_ext music21.ipython21　#不必要"
   ]
  },
  {
   "cell_type": "markdown",
   "metadata": {},
   "source": [
    "# sandbox"
   ]
  },
  {
   "cell_type": "markdown",
   "metadata": {},
   "source": [
    "# シンプルな例からスタート"
   ]
  },
  {
   "cell_type": "markdown",
   "metadata": {},
   "source": [
    "## note\n",
    "### noteの追加\n",
    "\n",
    "insert works as expected if it is \"Note to Stream\""
   ]
  },
  {
   "cell_type": "code",
   "execution_count": 10,
   "metadata": {},
   "outputs": [],
   "source": [
    "st1=stream.Stream()\n",
    "st1.insert(0,note.Note(\"B4\"))"
   ]
  },
  {
   "cell_type": "code",
   "execution_count": 11,
   "metadata": {},
   "outputs": [
    {
     "data": {
      "image/png": "[encoded data removed]",
      "text/plain": [
       "<IPython.core.display.Image object>"
      ]
     },
     "metadata": {
      "image/png": {
       "height": 49,
       "width": 150
      }
     },
     "output_type": "display_data"
    }
   ],
   "source": [
    "st1.show()"
   ]
  },
  {
   "cell_type": "markdown",
   "metadata": {},
   "source": [
    "位置を指定して挿入する場合はinsertを使う"
   ]
  },
  {
   "cell_type": "code",
   "execution_count": null,
   "metadata": {},
   "outputs": [],
   "source": [
    "st1=stream.Stream()\n",
    "st1.insert(0,note.Note(\"B-4\"))\n",
    "st1.insert(1,note.Note(\"B-4\"))\n",
    "st1.insert(2,note.Note(\"B#3\"))\n",
    "st1.insert(3,note.Note(\"B#3\"))\n",
    "st1.insert(4 , note.Note(\"B3\"))\n",
    "st1.insert(4 , note.Note(\"B2\"))\n",
    "st1.insert(5 , note.Note(\"C4\"))\n",
    "st1.insert(9 , note.Note(\"C4\"))\n",
    "st1.show()"
   ]
  },
  {
   "cell_type": "markdown",
   "metadata": {},
   "source": [
    "appendは最後に追加してくれるので位置の指定をしなくてよくて便利"
   ]
  },
  {
   "cell_type": "code",
   "execution_count": null,
   "metadata": {},
   "outputs": [],
   "source": [
    "st1.append(note.Note(\"C4\"))\n",
    "st1.show()"
   ]
  },
  {
   "cell_type": "markdown",
   "metadata": {},
   "source": [
    "### 音のシフト\n",
    "C4をMajor 3rd(長三度)だけシフトした音すなわちE4を追加"
   ]
  },
  {
   "cell_type": "code",
   "execution_count": null,
   "metadata": {},
   "outputs": [],
   "source": [
    "st1=stream.Stream()\n",
    "st1.insert(0 , note.Note(\"C4\"))\n",
    "st1.insert(6 , note.Note(\"C4\").transpose(\"M3\"))\n",
    "st1.show()"
   ]
  },
  {
   "cell_type": "markdown",
   "metadata": {},
   "source": [
    "E4をdouble diminished 6th（重減６度？）だけシフトした音を追加。\n",
    "ただし、double diminishedやdouble augumentedが実際に使われることはまれとのこと。\n",
    "（https://en.wikipedia.org/wiki/Interval_(music)#Main_intervals\n",
    "を参照。日本語版wikipediaはいまいちなので英語版を見ること）\n",
    "\n",
    "\n",
    "\n",
    "その他の参考URL：\n",
    "\n",
    "http://guitarchord-lab.com/theory/interval.html\n",
    "\n"
   ]
  },
  {
   "cell_type": "code",
   "execution_count": null,
   "metadata": {},
   "outputs": [],
   "source": [
    "st1 = stream.Stream()\n",
    "st1.append(note.Note(\"E4\"))\n",
    "st1.append(note.Note(\"E4\").transpose(\"M6\"))\n",
    "st1.append(note.Note(\"E4\").transpose(\"m6\"))\n",
    "st1.append(note.Note(\"E4\").transpose(\"d6\"))\n",
    "st1.append(note.Note(\"E4\").transpose(\"dd6\"))\n",
    "st1.show()"
   ]
  },
  {
   "cell_type": "markdown",
   "metadata": {},
   "source": [
    "なお、例えばC4の重減六度なるものは存在しないっぽい。したがって普通にラ（長６度・Major 6th）がappendされてしまう。"
   ]
  },
  {
   "cell_type": "code",
   "execution_count": null,
   "metadata": {},
   "outputs": [],
   "source": [
    "st1=stream.Stream()\n",
    "st1.append(note.Note(\"C4\"))\n",
    "st1.append(note.Note(\"C4\").transpose(\"M6\"))\n",
    "st1.append(note.Note(\"C4\").transpose(\"m6\"))\n",
    "st1.append(note.Note(\"C4\").transpose(\"d6\"))\n",
    "st1.append(note.Note(\"C4\").transpose(\"dd6\"))\n",
    "st1.show()"
   ]
  },
  {
   "cell_type": "markdown",
   "metadata": {},
   "source": [
    "そして６度には完全６度というものは存在しない"
   ]
  },
  {
   "cell_type": "code",
   "execution_count": null,
   "metadata": {},
   "outputs": [],
   "source": [
    "st1=stream.Stream()\n",
    "st1.append(note.Note(\"C4\").transpose(\"P6\")) #returns error"
   ]
  },
  {
   "cell_type": "markdown",
   "metadata": {},
   "source": [
    "完全５度がなぜ完全ともみなされてきたか？それはドとソの周波数比がほぼほぼ2:3になっているから。\n",
    "すなわち、$2^{7/12}\\approx 1.5$であるから："
   ]
  },
  {
   "cell_type": "code",
   "execution_count": null,
   "metadata": {},
   "outputs": [],
   "source": [
    "print(2**(7/12))"
   ]
  },
  {
   "cell_type": "markdown",
   "metadata": {},
   "source": [
    "同様に完全４度はほぼほぼ３：４になっている。すなわち、\n",
    "$2^{5/12}\\approx\\frac{4}{3}$："
   ]
  },
  {
   "cell_type": "code",
   "execution_count": null,
   "metadata": {},
   "outputs": [],
   "source": [
    "print(2**(5/12))"
   ]
  },
  {
   "cell_type": "markdown",
   "metadata": {},
   "source": [
    "（時間的な）offsetの範囲を調べるには以下のようにすればいいだろう（？）"
   ]
  },
  {
   "cell_type": "code",
   "execution_count": null,
   "metadata": {},
   "outputs": [],
   "source": [
    "st1 = stream.Stream()\n",
    "st1.append(note.Note(\"E4\"))\n",
    "st1.append(note.Note(\"E4\").transpose(\"M6\"))\n",
    "st1.append(note.Note(\"E4\").transpose(\"m6\"))\n",
    "st1.append(note.Note(\"E4\").transpose(\"d6\"))\n",
    "st1.append(note.Note(\"E4\").transpose(\"dd6\"))\n",
    "max_offset = max([x.offset for x in st1])\n",
    "print(max_offset)"
   ]
  },
  {
   "cell_type": "markdown",
   "metadata": {},
   "source": [
    "最後に付け加えるのをinsertでやるのであれば、以下のようにすればよいだろう"
   ]
  },
  {
   "cell_type": "code",
   "execution_count": null,
   "metadata": {},
   "outputs": [],
   "source": [
    "st1.insert(max_offset + 1 , note.Note(\"C3\"))\n",
    "st1.show()"
   ]
  },
  {
   "cell_type": "markdown",
   "metadata": {},
   "source": [
    "appendは以下のようにまとめて行うことができる（ただし、和音を付け加えるような動作ではない）"
   ]
  },
  {
   "cell_type": "code",
   "execution_count": null,
   "metadata": {},
   "outputs": [],
   "source": [
    "st1.append([note.Note(\"D4\") , note.Note(\"E4\")])\n",
    "st1.show()"
   ]
  },
  {
   "cell_type": "markdown",
   "metadata": {},
   "source": [
    "以下のように和音を追加することはできない・・"
   ]
  },
  {
   "cell_type": "code",
   "execution_count": null,
   "metadata": {},
   "outputs": [],
   "source": [
    "st1.insert(max_offset + 1 , [note.Note(\"D4\") , note.Note(\"E4\")]) #returns error"
   ]
  },
  {
   "cell_type": "markdown",
   "metadata": {},
   "source": [
    "あるoffsetの範囲を切り取るには・・・"
   ]
  },
  {
   "cell_type": "code",
   "execution_count": null,
   "metadata": {},
   "outputs": [],
   "source": [
    "st1.getElementsByOffset(0,4).show()"
   ]
  },
  {
   "cell_type": "markdown",
   "metadata": {},
   "source": [
    "ただし、ヒエラルヒーがある場合の切り取り方はまだ試行削除中・・"
   ]
  },
  {
   "cell_type": "markdown",
   "metadata": {},
   "source": [
    "### 音の高さの差"
   ]
  },
  {
   "cell_type": "markdown",
   "metadata": {},
   "source": [
    "#### 半音を100とするfloatで取出"
   ]
  },
  {
   "cell_type": "code",
   "execution_count": 116,
   "metadata": {},
   "outputs": [
    {
     "data": {
      "text/plain": [
       "-1100.0"
      ]
     },
     "execution_count": 116,
     "metadata": {},
     "output_type": "execute_result"
    }
   ],
   "source": [
    "interval.notesToChromatic(note.Note(\"D5\") , note.Note(\"D#4\")).cents"
   ]
  },
  {
   "cell_type": "code",
   "execution_count": 117,
   "metadata": {
    "scrolled": true
   },
   "outputs": [],
   "source": [
    "run_diff = interval.notesToChromatic(note.Note(\"D4\") , note.Note(\"D4#\"))"
   ]
  },
  {
   "cell_type": "code",
   "execution_count": 118,
   "metadata": {},
   "outputs": [
    {
     "data": {
      "text/plain": [
       "100.0"
      ]
     },
     "execution_count": 118,
     "metadata": {},
     "output_type": "execute_result"
    }
   ],
   "source": [
    "run_diff.cents"
   ]
  },
  {
   "cell_type": "markdown",
   "metadata": {},
   "source": [
    "#### 逆"
   ]
  },
  {
   "cell_type": "code",
   "execution_count": null,
   "metadata": {},
   "outputs": [],
   "source": [
    "note.Note(\"C0\").transpose(1).nameWithOctave"
   ]
  },
  {
   "cell_type": "markdown",
   "metadata": {},
   "source": [
    "### 音の大きさ（velocity)"
   ]
  },
  {
   "cell_type": "code",
   "execution_count": null,
   "metadata": {},
   "outputs": [],
   "source": [
    "n= note.Note(\"B-4\")\n",
    "n.volume.velocity = 200"
   ]
  },
  {
   "cell_type": "markdown",
   "metadata": {},
   "source": [
    "### テンポ"
   ]
  },
  {
   "cell_type": "code",
   "execution_count": null,
   "metadata": {},
   "outputs": [],
   "source": [
    "run_score = stream.Score()\n",
    "bpm = 180\n",
    "run_score.insert(0.0, tempo.MetronomeMark(number=bpm)) "
   ]
  },
  {
   "cell_type": "markdown",
   "metadata": {},
   "source": [
    "### 音のoffset"
   ]
  },
  {
   "cell_type": "markdown",
   "metadata": {},
   "source": [
    "floatで指定されている場合とfraction.fractionで指定されている場合があるので統計処理する場合はfloat()でcastしてやる必要がある"
   ]
  },
  {
   "cell_type": "markdown",
   "metadata": {},
   "source": [
    "## 楽器の指定、key signature（調記号・調号）の追加など"
   ]
  },
  {
   "cell_type": "code",
   "execution_count": null,
   "metadata": {},
   "outputs": [],
   "source": [
    "st3=stream.Stream()\n",
    "st3.append(note.Note(\"C4\"))\n",
    "st3.append(instrument.ElectricGuitar())\n",
    "st3.append(note.Note(\"C4\"))\n",
    "st3.append(instrument.Piano())\n",
    "st3.append(note.Note(\"C4\"))\n",
    "st3.append(key.KeySignature(1))\n",
    "st3.append(note.Note(\"C4\"))\n",
    "st3.append(key.KeySignature(2))"
   ]
  },
  {
   "cell_type": "markdown",
   "metadata": {},
   "source": [
    "上記でいいのか？\n",
    "(慣習的にどうかはともかく入力として許容されるのか？)\n",
    "\n",
    "↑たぶんダメ。楽器はinsertで指定すべき！"
   ]
  },
  {
   "cell_type": "code",
   "execution_count": null,
   "metadata": {},
   "outputs": [],
   "source": [
    "st3.getInstrument()"
   ]
  },
  {
   "cell_type": "code",
   "execution_count": null,
   "metadata": {},
   "outputs": [],
   "source": [
    "[x for x in st3.getInstruments()]"
   ]
  },
  {
   "cell_type": "markdown",
   "metadata": {},
   "source": [
    "### 楽器名の文字列での取り出し方"
   ]
  },
  {
   "cell_type": "code",
   "execution_count": null,
   "metadata": {},
   "outputs": [],
   "source": [
    "st3.getInstrument().instrumentName"
   ]
  },
  {
   "cell_type": "markdown",
   "metadata": {},
   "source": [
    "## score, part, measureについて"
   ]
  },
  {
   "cell_type": "markdown",
   "metadata": {},
   "source": [
    "scoreとPartとMeasureがstreamの基本的なsubclass\n",
    "\n",
    "scoreがpartを複数含み、partはmeasureを複数持つ、というのが基本的なScoreの構成（deep jazzの例のようにそうでないヒエラルヒーを持つ場合もある）。\n",
    "この「基本的な構成」を持つ例としてバッハの楽譜xmlファイルを読み込む"
   ]
  },
  {
   "cell_type": "code",
   "execution_count": null,
   "metadata": {},
   "outputs": [],
   "source": [
    "s_bach = corpus.parse('bach/bwv65.2.xml')"
   ]
  },
  {
   "cell_type": "markdown",
   "metadata": {},
   "source": [
    "このscoreは４つのPartから構成される。\n",
    "\n",
    "各Partは各楽器に対応していて、それぞれひとつずつPartがある。"
   ]
  },
  {
   "cell_type": "code",
   "execution_count": null,
   "metadata": {},
   "outputs": [],
   "source": [
    "[type(x) for x in s_bach.getElementsByClass(stream.Stream)] #a lot of \"Part\"s"
   ]
  },
  {
   "cell_type": "markdown",
   "metadata": {},
   "source": [
    "このBachの例ではPartはmeasure(小節)から成る。"
   ]
  },
  {
   "cell_type": "code",
   "execution_count": null,
   "metadata": {},
   "outputs": [],
   "source": [
    "[\" \".join([str(type(y)) for y in x.getElementsByClass(stream.Stream)]) for x in s_bach.getElementsByClass(stream.Stream)]"
   ]
  },
  {
   "cell_type": "markdown",
   "metadata": {},
   "source": [
    "ただし、\n",
    "\n",
    "http://web.mit.edu/music21/doc/usersGuide/usersGuide_06_stream2.html\n",
    "\n",
    "に注意があるように、PartはtimeSignatureやkeySignatureなども格納できるので、getElementByClassでアクセスするほうが安全:"
   ]
  },
  {
   "cell_type": "code",
   "execution_count": null,
   "metadata": {},
   "outputs": [],
   "source": [
    "print(len([x for x in s_bach]))\n",
    "print(len([type(x) for x in s_bach.getElementsByClass(stream.Stream)] ))"
   ]
  },
  {
   "cell_type": "markdown",
   "metadata": {},
   "source": [
    "### appendの動作\n",
    "noteを追加すると後ろに音を追加\n",
    "streamのsubclassを追加した場合はヒエラルヒーを構成する、けれど時間的順序はnoteを追加した場合と同じ？？？"
   ]
  },
  {
   "cell_type": "code",
   "execution_count": null,
   "metadata": {},
   "outputs": [],
   "source": [
    "st0 = stream.Stream()\n",
    "st0.append(note.Note(\"D4\"))\n",
    "st1 = stream.Stream()\n",
    "st1.append(note.Note(\"C4\"))\n",
    "st0.append(st1)\n",
    "st0.show()"
   ]
  },
  {
   "cell_type": "code",
   "execution_count": null,
   "metadata": {},
   "outputs": [],
   "source": [
    "st0 = stream.Stream()\n",
    "st0.append(note.Note(\"D4\"))\n",
    "st1 = stream.Stream()\n",
    "st1.append(note.Note(\"C4\"))\n",
    "st2 = stream.Stream()\n",
    "st2.append(st0)\n",
    "st2.append(st1)\n",
    "st2.show()"
   ]
  },
  {
   "cell_type": "code",
   "execution_count": null,
   "metadata": {},
   "outputs": [],
   "source": [
    "[type(i) for i in st2]"
   ]
  },
  {
   "cell_type": "code",
   "execution_count": null,
   "metadata": {},
   "outputs": [],
   "source": [
    "st0 = stream.Stream()\n",
    "st0.insert(0, note.Note(\"D4\"))\n",
    "st1 = stream.Stream()\n",
    "st1.insert(0,note.Note(\"C4\"))\n",
    "st2 = stream.Stream()\n",
    "st2.append(st0)\n",
    "st2.append(st1)\n",
    "st2.show()"
   ]
  },
  {
   "cell_type": "code",
   "execution_count": null,
   "metadata": {},
   "outputs": [],
   "source": [
    "[type(i) for i in st2]"
   ]
  },
  {
   "cell_type": "code",
   "execution_count": null,
   "metadata": {},
   "outputs": [],
   "source": [
    "st0 = stream.Stream()\n",
    "st0.insert(0, note.Note(\"D4\"))\n",
    "st1 = stream.Stream()\n",
    "st1.insert(0,note.Note(\"C4\"))\n",
    "st2 = stream.Stream()\n",
    "st2.insert(0 , st0)\n",
    "st2.insert(0, st1)\n",
    "st2.show()"
   ]
  },
  {
   "cell_type": "code",
   "execution_count": null,
   "metadata": {},
   "outputs": [],
   "source": [
    "[type(i) for i in st2]"
   ]
  },
  {
   "cell_type": "markdown",
   "metadata": {},
   "source": [
    "### 上記のヒエラルヒーと異なる構造を持つ例\n",
    "\n",
    "deepjazzの例では\n",
    "\n",
    "Score (midi_data) > Part (melody_stream) > Voice (melody1,2 , melody_voice) ＞ Note\n",
    "\n",
    "という階層に従ってデータを切り出しているように見える。\n",
    "すなわちPartはMeasureを持たず、その代わり（？）にVoice(声)を持っている："
   ]
  },
  {
   "cell_type": "code",
   "execution_count": null,
   "metadata": {},
   "outputs": [],
   "source": [
    "s_jazz = converter.parse('C:/Users/t/PycharmProjects/deepjazz_in_a_file/midi/original_metheny.mid')"
   ]
  },
  {
   "cell_type": "code",
   "execution_count": null,
   "metadata": {},
   "outputs": [],
   "source": [
    "s_jazz_parts = [x for x in s_jazz.getElementsByClass(stream.Part)]\n",
    "len(s_jazz_parts)"
   ]
  },
  {
   "cell_type": "markdown",
   "metadata": {},
   "source": [
    "partは楽器が指定してあったりなかったり。"
   ]
  },
  {
   "cell_type": "code",
   "execution_count": null,
   "metadata": {},
   "outputs": [],
   "source": [
    "[x.getInstrument() for x in s_jazz.getElementsByClass(stream.Part)]"
   ]
  },
  {
   "cell_type": "code",
   "execution_count": null,
   "metadata": {},
   "outputs": [],
   "source": [
    "s_jazz_part0_voices = [x for x in s_jazz_parts[0].getElementsByClass(stream.Voice)]\n",
    "len(s_jazz_part0_voices)"
   ]
  },
  {
   "cell_type": "markdown",
   "metadata": {},
   "source": [
    "partの構成要素であるvoiceにも同様にinstrumentが指定してあったりしなかったり。おそらく、partレベルで指定しておき、それが構成要素であるvoiceに遺伝している形か"
   ]
  },
  {
   "cell_type": "code",
   "execution_count": null,
   "metadata": {},
   "outputs": [],
   "source": [
    "[x.getInstrument() for x in s_jazz_parts[a].getElementsByClass(stream.Voice)]"
   ]
  },
  {
   "cell_type": "code",
   "execution_count": null,
   "metadata": {},
   "outputs": [],
   "source": [
    "s_jazz_part0_voices.show()"
   ]
  },
  {
   "cell_type": "code",
   "execution_count": null,
   "metadata": {},
   "outputs": [],
   "source": [
    "s_jazz_part0_voices[0].show()"
   ]
  },
  {
   "cell_type": "markdown",
   "metadata": {},
   "source": [
    "VoiceのなかにMeasureがあるかと思いきやそんなものはない："
   ]
  },
  {
   "cell_type": "code",
   "execution_count": null,
   "metadata": {},
   "outputs": [],
   "source": [
    "len(s_jazz_part0_voices[0].getElementsByClass(stream.Measure))"
   ]
  },
  {
   "cell_type": "markdown",
   "metadata": {},
   "source": [
    "ではなにが入っているかといえば、（ScoreのなかのPartのなかの）各PartのVoice[0]はおおむねChordから構成されている（他はnote.Rest, note.Noteが少々）："
   ]
  },
  {
   "cell_type": "code",
   "execution_count": null,
   "metadata": {},
   "outputs": [],
   "source": [
    "\"   \".join([str(type(x)) for x in s_jazz_part0_voices[0]])"
   ]
  },
  {
   "cell_type": "markdown",
   "metadata": {},
   "source": [
    "おそらく各パートのvoice[1]以降はおおむねnoteから構成されている（？）"
   ]
  },
  {
   "cell_type": "markdown",
   "metadata": {},
   "source": [
    "であるが、deepjazzでchordパートを切り出す際にはそのように決め打つことなく、solo_stream[0]からremoveByClassでnoteを除外しつつすべてのchordを抽出している。\n",
    "また、melodyパートはsolo_stream[-1]から特に除外操作をすることなくすべてのnoteを抽出できている（？）"
   ]
  },
  {
   "cell_type": "code",
   "execution_count": null,
   "metadata": {},
   "outputs": [],
   "source": [
    "\"   \".join([str(type(x)) for x in s_jazz_part0_voices[1]])"
   ]
  },
  {
   "cell_type": "markdown",
   "metadata": {},
   "source": [
    "http://www.mathgram.xyz/entry/plotly の下のほうを参考に（上の方は冗長）"
   ]
  },
  {
   "cell_type": "code",
   "execution_count": null,
   "metadata": {},
   "outputs": [],
   "source": [
    "\n",
    "# Get melody part, compress into single voice.\n",
    "melody_stream = s_jazz[5]     # For Metheny piece, Melody is Part #5.\n",
    "melody1, melody2 = melody_stream.getElementsByClass(stream.Voice)"
   ]
  },
  {
   "cell_type": "code",
   "execution_count": null,
   "metadata": {},
   "outputs": [],
   "source": [
    "# import plotly as offline mode\n",
    "import plotly.offline as offline\n",
    "import plotly.graph_objs as go\n",
    "offline.init_notebook_mode(connected=False)\n",
    "\n",
    "from sklearn.datasets import load_iris\n",
    "import pandas as pd\n",
    "import numpy as np\n",
    "\n",
    "iris = load_iris()\n",
    "columns = iris.feature_names\n",
    "\n",
    "# make dataframe\n",
    "df = pd.DataFrame(iris.data, columns=columns)\n",
    "\n",
    "# make trace\n",
    "trace = go.Scatter(\n",
    "    x = np.array([float(j.offset) for j in melody1][0:1000]),\n",
    "    y = np.array([float(j.offset) for j in melody2][0:1000]),\n",
    "    mode = \"markers\")\n",
    "\n",
    "# define layout\n",
    "layout = go.Layout(\n",
    "    showlegend=False)\n",
    "\n",
    "data = [trace]\n",
    "fig = dict(data=data, layout=layout)\n",
    "offline.iplot(fig)"
   ]
  },
  {
   "cell_type": "markdown",
   "metadata": {},
   "source": [
    "### voice（声）とは？"
   ]
  },
  {
   "cell_type": "markdown",
   "metadata": {},
   "source": [
    "https://detail.chiebukuro.yahoo.co.jp/qa/question_detail/q125207687\n",
    "参照。\n",
    "- 例えば合唱であれば、３声というのは三人で歌っているイメージ。\n",
    "- ピアノの場合、おなじことをひとりでできてしまうので単一のピアノパートのなかに複数のvoiceがありえる（ということか？）\n",
    "\n",
    "さらに推理すれば、\n",
    "\n",
    "- midiのなかのpartの分け方に恣意性はないが、そのなかのvoiceへの切り方には恣意性がある（切り分け方を変えても出てくる音は変わらない）ために、partのなかのvoiceはそもそもmergeすべき存在であると言えるか\n",
    "- メセニーの例でもパート５に存在するふたつのvoiceを「すべて」マージしてしまっている\n",
    "\n",
    "\n",
    "\n"
   ]
  },
  {
   "cell_type": "markdown",
   "metadata": {},
   "source": [
    "### accompaniment  (伴奏) part"
   ]
  },
  {
   "cell_type": "markdown",
   "metadata": {},
   "source": [
    "メセニーの例ではパート0,1,6,7が伴奏パートとのこと。\n",
    "- ではそれ以外は？？？\n",
    "- その他の多くのパートには楽器が登録されていない。\n",
    "- ただし、パート１１はパートゼロと同じくピアノがアサインされている。"
   ]
  },
  {
   "cell_type": "markdown",
   "metadata": {},
   "source": [
    "パート２はなにか意味があるような内容に見えるが・・・"
   ]
  },
  {
   "cell_type": "code",
   "execution_count": null,
   "metadata": {},
   "outputs": [],
   "source": [
    "s_jazz[2].show()"
   ]
  },
  {
   "cell_type": "markdown",
   "metadata": {},
   "source": [
    "他方、パート１１はずっとソ＃をたたいているだけ"
   ]
  },
  {
   "cell_type": "code",
   "execution_count": null,
   "metadata": {},
   "outputs": [],
   "source": [
    "s_jazz[11].show()"
   ]
  },
  {
   "cell_type": "markdown",
   "metadata": {},
   "source": [
    "### フラット化\n",
    "\n",
    "フラット化してもクラスは変わらない。すなわち、\n",
    "+ stream.Streamをフラットにするとフラットなstream.Streamが\n",
    "+ stream.Scoreをフラットにするとフラットなstream.Scoreが\n",
    "\n",
    "できることになる。\n",
    "\n",
    "そして、それぞれダイレクトにnoteが収納されている。"
   ]
  },
  {
   "cell_type": "code",
   "execution_count": null,
   "metadata": {},
   "outputs": [],
   "source": [
    "st1.flat"
   ]
  },
  {
   "cell_type": "code",
   "execution_count": null,
   "metadata": {},
   "outputs": [],
   "source": [
    "\" \".join([str(type(x)) for x  in s_bach.flat.getElementsByClass(note.Note)])#example of how to flatten the score"
   ]
  },
  {
   "cell_type": "code",
   "execution_count": null,
   "metadata": {},
   "outputs": [],
   "source": [
    "\" \".join([str(type(x)) for x  in s_jazz.flat.getElementsByClass(note.Note)])#example of how to flatten the score"
   ]
  },
  {
   "cell_type": "code",
   "execution_count": null,
   "metadata": {},
   "outputs": [],
   "source": [
    "print(type(s_bach.flat))#score\n",
    "print(type(s_jazz.flat))#score"
   ]
  },
  {
   "cell_type": "markdown",
   "metadata": {},
   "source": [
    "### flat化およびvoice, partの使い分けについて"
   ]
  },
  {
   "cell_type": "markdown",
   "metadata": {},
   "source": [
    "- flat化してひとつのvoiceに収納することが例えばdeep learningに突っ込むための合理的な前処理 \n",
    "- ただし、複数の楽器をまとめたオブジェクトの構成部品はpartでなくてはならない"
   ]
  },
  {
   "cell_type": "markdown",
   "metadata": {},
   "source": [
    "## chord（和音）について\n",
    "\n",
    "ChordもNoteもGeneralNoteの派生クラス\n",
    "\n",
    "参考URL：\n",
    "http://web.mit.edu/music21/doc/moduleReference/moduleNote.html#music21.note.GeneralNote\n",
    "\n",
    "deep jazzの解明のためにはChord、すなわち「和音」の理解が重要そうなので少し深堀してみる\n",
    "\n",
    "参考URL:\n",
    "http://web.mit.edu/music21/doc/usersGuide/usersGuide_07_chords.html"
   ]
  },
  {
   "cell_type": "markdown",
   "metadata": {},
   "source": [
    "chord（和音）の作り方："
   ]
  },
  {
   "cell_type": "code",
   "execution_count": null,
   "metadata": {},
   "outputs": [],
   "source": [
    "cMinor = chord.Chord([\"C4\", \"G4\",\"E-5\"])"
   ]
  },
  {
   "cell_type": "code",
   "execution_count": null,
   "metadata": {},
   "outputs": [],
   "source": [
    "cMinor.show()"
   ]
  },
  {
   "cell_type": "code",
   "execution_count": null,
   "metadata": {},
   "outputs": [],
   "source": [
    "len(cMinor)"
   ]
  },
  {
   "cell_type": "markdown",
   "metadata": {},
   "source": [
    "### pitch(音高)\n",
    "noteにはpitch（音高）があるが、"
   ]
  },
  {
   "cell_type": "code",
   "execution_count": null,
   "metadata": {},
   "outputs": [],
   "source": [
    "note.Note(\"C4\").pitch"
   ]
  },
  {
   "cell_type": "markdown",
   "metadata": {},
   "source": [
    "Chord（和音）にはpitchはない："
   ]
  },
  {
   "cell_type": "code",
   "execution_count": null,
   "metadata": {},
   "outputs": [],
   "source": [
    "cMinor.pitch # returns errof"
   ]
  },
  {
   "cell_type": "markdown",
   "metadata": {},
   "source": [
    "そのかわりpitchesがある："
   ]
  },
  {
   "cell_type": "code",
   "execution_count": null,
   "metadata": {},
   "outputs": [],
   "source": [
    "cMinor.pitches"
   ]
  },
  {
   "cell_type": "markdown",
   "metadata": {},
   "source": [
    "### MajorかMinorか\n",
    "MajorかMinorかを判別してくれるメソッドはこれ："
   ]
  },
  {
   "cell_type": "code",
   "execution_count": null,
   "metadata": {},
   "outputs": [],
   "source": [
    "cMinor.isMajorTriad()"
   ]
  },
  {
   "cell_type": "markdown",
   "metadata": {},
   "source": [
    "英和対応：\n",
    "+ triad : 三和音\n",
    "+ major triad : 長三和音\n",
    "+ minor triad : 短三和音"
   ]
  },
  {
   "cell_type": "markdown",
   "metadata": {},
   "source": [
    "日本語wikipedia\n",
    "https://ja.wikipedia.org/wiki/%E7%9F%AD%E4%B8%89%E5%92%8C%E9%9F%B3\n",
    "によれば、短三和音は\n",
    "+ base\n",
    "+ base + m3\n",
    "+ base + P5\n",
    "によって構成される三和音とのことだが・・・"
   ]
  },
  {
   "cell_type": "code",
   "execution_count": null,
   "metadata": {},
   "outputs": [],
   "source": [
    "cMinor.isMinorTriad()"
   ]
  },
  {
   "cell_type": "markdown",
   "metadata": {},
   "source": [
    "はTrueになるのでisMinorTriadの判定基準は日本語wikipediaの定義と異なる？\n",
    "\n",
    "というより、オクターブの違いは無視している(すわわちmod 12)ということか?\n",
    "\n",
    "より近接した音で構成される和音に変えるには以下のようにする："
   ]
  },
  {
   "cell_type": "code",
   "execution_count": null,
   "metadata": {},
   "outputs": [],
   "source": [
    "cMinor.closedPosition().show()"
   ]
  },
  {
   "cell_type": "markdown",
   "metadata": {},
   "source": [
    "コードの「名前」を知りたければ以下のようにする："
   ]
  },
  {
   "cell_type": "code",
   "execution_count": null,
   "metadata": {},
   "outputs": [],
   "source": [
    "print(cMinor.commonName)"
   ]
  },
  {
   "cell_type": "markdown",
   "metadata": {},
   "source": [
    "メソッドisMajorTriadが何をやっているかは以下で解明できるはず：（だがスキップして先に進もう）"
   ]
  },
  {
   "cell_type": "code",
   "execution_count": null,
   "metadata": {},
   "outputs": [],
   "source": [
    "cMinor.isMajorTriad??"
   ]
  },
  {
   "cell_type": "markdown",
   "metadata": {},
   "source": [
    "ドミソをミソドにしたようなのを展開形という。展開形かどうかのチェックは以下のようにする："
   ]
  },
  {
   "cell_type": "code",
   "execution_count": null,
   "metadata": {},
   "outputs": [],
   "source": [
    "cMinor.inversion()"
   ]
  },
  {
   "cell_type": "markdown",
   "metadata": {},
   "source": [
    "## scale(音階)について"
   ]
  },
  {
   "cell_type": "code",
   "execution_count": null,
   "metadata": {},
   "outputs": [],
   "source": [
    "scaleType = scale.MajorScale()"
   ]
  },
  {
   "cell_type": "markdown",
   "metadata": {},
   "source": [
    "http://web.mit.edu/music21/doc/moduleReference/moduleScale.html\n",
    "\n",
    "によれば\n",
    "\n",
    "ConcreteScale.derive(other, comparisonAttribute='pitchClass')\n",
    "\n",
    "Return the closest-matching ConcreteScale based on the pitch collection provided as a Stream, a ConcreteScale, or a list of Pitch objects.\n",
    "\n",
    "要は音階がドミソ（すべて白鍵）ならドレミファソラシド（すべて白鍵）が含まれているC Major音階と推定するような感じか。\n",
    "推定アルゴリズムは変化の可能性ありと公式ウェブにも書いてある"
   ]
  },
  {
   "cell_type": "code",
   "execution_count": null,
   "metadata": {},
   "outputs": [],
   "source": [
    "scaleType.derive(cMinor)"
   ]
  },
  {
   "cell_type": "code",
   "execution_count": null,
   "metadata": {},
   "outputs": [],
   "source": [
    "scales = scale.MinorScale().derive(cMinor)\n",
    "scales"
   ]
  },
  {
   "cell_type": "markdown",
   "metadata": {},
   "source": [
    "推定されたscaleに含まれる音を確認"
   ]
  },
  {
   "cell_type": "code",
   "execution_count": null,
   "metadata": {},
   "outputs": [],
   "source": [
    "set([pitch for pitch in scales.getPitches()])"
   ]
  },
  {
   "cell_type": "markdown",
   "metadata": {},
   "source": [
    "ドリアンスケールの場合の例"
   ]
  },
  {
   "cell_type": "code",
   "execution_count": null,
   "metadata": {},
   "outputs": [],
   "source": [
    "scaleType = scale.DorianScale()\n",
    "scales = scaleType.derive(cMinor)"
   ]
  },
  {
   "cell_type": "markdown",
   "metadata": {},
   "source": [
    "## 微分音（microtonal)\n",
    "\n",
    "参考URL:\n",
    "\n",
    "https://en.wikipedia.org/wiki/Microtonal_music\n",
    "\n",
    "https://groups.google.com/forum/#!topic/music21list/-8PTr2gU8Hs\n",
    "\n",
    "http://web.mit.edu/music21/doc/moduleReference/modulePitch.html#music21.pitch.Pitch.convertMicrotonesToQuarterTones\n"
   ]
  },
  {
   "cell_type": "markdown",
   "metadata": {},
   "source": [
    "## その他の基本的なscoreに対する操作(あまり必要ないかも)"
   ]
  },
  {
   "cell_type": "code",
   "execution_count": null,
   "metadata": {},
   "outputs": [],
   "source": [
    "s.analyze('key')"
   ]
  },
  {
   "cell_type": "markdown",
   "metadata": {},
   "source": [
    "s.show('midi')"
   ]
  },
  {
   "cell_type": "markdown",
   "metadata": {},
   "source": [
    "s.show()"
   ]
  },
  {
   "cell_type": "markdown",
   "metadata": {},
   "source": [
    "## tinynotationについて"
   ]
  },
  {
   "cell_type": "code",
   "execution_count": null,
   "metadata": {},
   "outputs": [],
   "source": [
    "p = converter.parse(\"tinynotation: 3/4 c4 d8 f g16 a g f#\")"
   ]
  },
  {
   "cell_type": "code",
   "execution_count": null,
   "metadata": {},
   "outputs": [],
   "source": [
    "s2 = stream.Stream()\n",
    "s2.insert(0  , p)#adding part, first argument should be offset??"
   ]
  },
  {
   "cell_type": "code",
   "execution_count": null,
   "metadata": {},
   "outputs": [],
   "source": [
    "s2.show()"
   ]
  },
  {
   "cell_type": "code",
   "execution_count": null,
   "metadata": {},
   "outputs": [],
   "source": [
    "q=converter.parse(\"tinynotation: c4 d8 f g16 a g f#\")\n",
    "s2.insert(100,q)"
   ]
  },
  {
   "cell_type": "code",
   "execution_count": null,
   "metadata": {},
   "outputs": [],
   "source": [
    "s2.show()"
   ]
  },
  {
   "cell_type": "code",
   "execution_count": null,
   "metadata": {},
   "outputs": [],
   "source": [
    "r=converter.parse(\"tinynotation: c4 d8 f g16 a g f#\")\n",
    "s2.insert(10,r)\n",
    "s2.show()"
   ]
  },
  {
   "cell_type": "code",
   "execution_count": null,
   "metadata": {},
   "outputs": [],
   "source": [
    "s2.insert?"
   ]
  },
  {
   "cell_type": "code",
   "execution_count": null,
   "metadata": {},
   "outputs": [],
   "source": [
    "?s2.insert"
   ]
  }
 ],
 "metadata": {
  "kernelspec": {
   "display_name": "test",
   "language": "python",
   "name": "test"
  },
  "language_info": {
   "codemirror_mode": {
    "name": "ipython",
    "version": 3
   },
   "file_extension": ".py",
   "mimetype": "text/x-python",
   "name": "python",
   "nbconvert_exporter": "python",
   "pygments_lexer": "ipython3",
   "version": "3.7.3"
  },
  "toc-autonumbering": true
 },
 "nbformat": 4,
 "nbformat_minor": 4
}
