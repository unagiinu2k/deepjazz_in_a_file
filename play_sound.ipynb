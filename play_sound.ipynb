{
 "cells": [
  {
   "cell_type": "code",
   "execution_count": 1,
   "metadata": {},
   "outputs": [],
   "source": [
    "from IPython.display import Audio"
   ]
  },
  {
   "cell_type": "markdown",
   "metadata": {},
   "source": [
    "Audio(filename = 'tmp/tmp.midi')"
   ]
  },
  {
   "cell_type": "code",
   "execution_count": 2,
   "metadata": {},
   "outputs": [],
   "source": [
    "from music21 import *"
   ]
  },
  {
   "cell_type": "code",
   "execution_count": 6,
   "metadata": {},
   "outputs": [],
   "source": [
    "file = 'tmp/tmp.midi'"
   ]
  },
  {
   "cell_type": "code",
   "execution_count": 7,
   "metadata": {},
   "outputs": [],
   "source": [
    " midi = converter.parse(file)"
   ]
  },
  {
   "cell_type": "code",
   "execution_count": 8,
   "metadata": {},
   "outputs": [
    {
     "data": {
      "text/html": [
       "\n",
       "                <div id='midiPlayerDiv2055'></div>\n",
       "                <link rel=\"stylesheet\" href=\"//cuthbertLab.github.io/music21j/css/m21.css\"\n",
       "                    type=\"text/css\" />\n",
       "                <script>\n",
       "                require.config({\n",
       "                    paths: {'music21': '//cuthbertLab.github.io/music21j/src/music21'}\n",
       "                });\n",
       "                require(['music21'], function() {\n",
       "                               mp = new music21.miditools.MidiPlayer();\n",
       "                               mp.addPlayer('#midiPlayerDiv2055');\n",
       "                               mp.base64Load('data:audio/midi;base64,TVRoZAAAAAYAAQABBABNVHJrAAADfQD/AwAA4ABAAJBQWoQAkFJahACAUAAAgFIAhACQXlqEAIBeAIQAkE1ahACQXFqEAIBNAACQUFqEAIBcAACQTlqEAIBQAACQRlqEAIBOAACQXFqEAIBGAACQUVqEAIBcAACQWFqEAIBRAACQI1qEAIBYAACQdlqEAIAjAACQQlqEAIB2AACQV1qEAIBCAACQPFqEAIBXAACQUlqEAIA8AACQOlqEAIBSAACQT1qEAIA6AACQPVqEAIBPAACQYlqEAIA9AACQVlqEAIBiAACAVgCEAJA/WoQAkHdahACAPwAAkCpahACAdwAAkFtahACAKgAAkDxahACAWwAAkFtahACAPAAAkDlahACAWwAAkFFahACAOQAAkFBahACAUQAAkHBahACAUAAAkDlahACAcAAAkGFahACAOQAAkFNahACAYQAAkG1ahACAUwAAkExahACAbQAAkHNahACATAAAkFZahACAcwAAkGBahACAVgAAkGpahACAYAAAkGRahACAagAAkGNahACAZAAAkG1ahACAYwAAkHNahACAbQAAkHdahACAcwAAkG9ahACAdwAAkF5ahACAbwAAkG9ahACAXgAAkGlahACAbwAAkHxahACAaQAAkGRahACAfAAAkHdahACAZAAAkHVahACAdwAAkHZahACAdQAAkHBahACAdgAAkHFahACAcAAAkHlahACAcQAAkHVahACAeQAAkHpahACAdQAAkHRahACAegAAkHVahACAdAAAkH1ahACAdQAAkHpahACAfQAAkH1ahACAegAAkHpahACAfQAAkGFahACAegAAkH1ahACAYQAAkG5ahACAfQAAkHlahACAbgAAkFFahACAeQAAkHlahACAUQAAkFhahACAeQAAkHxahACAWAAAkG1ahACAfAAAkHhahACAbQAAkHRahACAeAAAkHpahACAdAAAkHtahACAegAAkHZahACAewAAkHhahACAdgAAkHVahACAeAAAkH1ahACAdQAAkHxahACAfQAAkHpahACAfAAAgHoAhACQflqEAJB7WoQAgH4AAJB8WoQAgHsAAJB4WoQAgHwAAJB5WoQAgHgAAIB5AIQAkHhahACQdVqEAIB4AACQelqEAIB1AACQfVqEAIB6AACQdFqEAIB9AACAdACEAJB5WoQAkHdahACAeQCEAIB3AIgA/y8A');\n",
       "                        });\n",
       "                </script>"
      ],
      "text/plain": [
       "<IPython.core.display.HTML object>"
      ]
     },
     "metadata": {},
     "output_type": "display_data"
    }
   ],
   "source": [
    "midi.show('midi')"
   ]
  },
  {
   "cell_type": "code",
   "execution_count": 9,
   "metadata": {},
   "outputs": [],
   "source": [
    "file = 'tmp/rnn_generated.midi' "
   ]
  },
  {
   "cell_type": "code",
   "execution_count": 10,
   "metadata": {},
   "outputs": [],
   "source": [
    " midi = converter.parse(file)"
   ]
  },
  {
   "cell_type": "code",
   "execution_count": 11,
   "metadata": {},
   "outputs": [
    {
     "data": {
      "text/html": [
       "\n",
       "                <div id='midiPlayerDiv3070'></div>\n",
       "                <link rel=\"stylesheet\" href=\"//cuthbertLab.github.io/music21j/css/m21.css\"\n",
       "                    type=\"text/css\" />\n",
       "                <script>\n",
       "                require.config({\n",
       "                    paths: {'music21': '//cuthbertLab.github.io/music21j/src/music21'}\n",
       "                });\n",
       "                require(['music21'], function() {\n",
       "                               mp = new music21.miditools.MidiPlayer();\n",
       "                               mp.addPlayer('#midiPlayerDiv3070');\n",
       "                               mp.base64Load('data:audio/midi;base64,TVRoZAAAAAYAAQABBABNVHJrAAADmwD/AwAA4ABAAJBHWoQAkEVahACARwAAkElahACARQAAkE1ahACASQAAkEtahACATQAAkElahACASwAAkEZahACASQAAkENahACARgAAkEdahACAQwAAkEBahACARwAAkDlahACAQAAAkDJahACAOQAAkCtahACAMgAAkC9ahACAKwAAkChahACALwAAkCFahACAKAAAkBpahACAIQAAkB5ahACAGgAAkCFahACAHgAAkBpahACAIQAAkBNahACAGgAAkAxahACAEwAAkA9ahACADAAAkAhahACADwAAkAFahACACAAAkAZahACAAQAAkApahACABgAAkAJahACACgAAkAVahACAAgAAkAlahACABQAAkAFahACACQAAkARahACAAQAAkAlahACABAAAkAFahACACQAAkAVahACAAQAAkAlahACABQAAkAFahACACQAAkAVahACAAQAAkAlahACABQAAkAFahACACQAAkAVahACAAQAAkAlahACABQAAkAdahACACQAAkAtahACABwAAkANahACACwAAkAFahACAAwAAkAVahACAAQAAkANahACABQAAkAdahACAAwAAkAtahACABwAAkA9ahACACwAAkBNahACADwAAkBdahACAEwAAkBtahACAFwAAkB9ahACAGwAAkCNahACAHwAAkCdahACAIwAAkCtahACAJwAAkC9ahACAKwAAkC1ahACALwAAkDFahACALQAAkDVahACAMQAAkDlahACANQAAkD1ahACAOQAAkEFahACAPQAAkD9ahACAQQAAkEBahACAPwAAkDlahACAQAAAkDpahACAOQAAkDtahACAOgAAkDxahACAOwAAkD1ahACAPAAAkD5ahACAPQAAkD9ahACAPgAAkEBahACAPwAAkEFahACAQAAAkEJahACAQQAAkENahACAQgAAkEdahACAQwAAkEBahACARwAAkERahACAQAAAkEhahACARAAAkExahACASAAAkFBahACATAAAkElahACAUAAAkEJahACASQAAkDtahACAQgAAkDRahACAOwAAkDhahACANAAAkDFahACAOAAAkDVahACAMQAAkC5ahACANQAAkDJahACALgAAkDZahACAMgAAkDpahACANgAAkD5ahACAOgAAkEJahACAPgAAkEZahACAQgAAkEpahACARgAAkE5ahACASgAAkEdahACATgCEAIBHAIgA/y8A');\n",
       "                        });\n",
       "                </script>"
      ],
      "text/plain": [
       "<IPython.core.display.HTML object>"
      ]
     },
     "metadata": {},
     "output_type": "display_data"
    }
   ],
   "source": [
    "midi.show('midi')"
   ]
  },
  {
   "cell_type": "code",
   "execution_count": null,
   "metadata": {},
   "outputs": [],
   "source": []
  }
 ],
 "metadata": {
  "kernelspec": {
   "display_name": "test",
   "language": "python",
   "name": "test"
  },
  "language_info": {
   "codemirror_mode": {
    "name": "ipython",
    "version": 3
   },
   "file_extension": ".py",
   "mimetype": "text/x-python",
   "name": "python",
   "nbconvert_exporter": "python",
   "pygments_lexer": "ipython3",
   "version": "3.7.3"
  }
 },
 "nbformat": 4,
 "nbformat_minor": 2
}
