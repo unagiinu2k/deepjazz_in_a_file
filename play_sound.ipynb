{
 "cells": [
  {
   "cell_type": "code",
   "execution_count": 1,
   "metadata": {},
   "outputs": [],
   "source": [
    "from IPython.display import Audio"
   ]
  },
  {
   "cell_type": "markdown",
   "metadata": {},
   "source": [
    "Audio(filename = 'tmp/tmp.midi')"
   ]
  },
  {
   "cell_type": "code",
   "execution_count": 4,
   "metadata": {},
   "outputs": [],
   "source": [
    "from music21 import *"
   ]
  },
  {
   "cell_type": "code",
   "execution_count": null,
   "metadata": {},
   "outputs": [],
   "source": [
    "file = 'tmp/tmp.midi'"
   ]
  },
  {
   "cell_type": "code",
   "execution_count": null,
   "metadata": {},
   "outputs": [],
   "source": [
    " midi = converter.parse(file)"
   ]
  },
  {
   "cell_type": "code",
   "execution_count": null,
   "metadata": {},
   "outputs": [],
   "source": [
    "midi.show()"
   ]
  },
  {
   "cell_type": "code",
   "execution_count": null,
   "metadata": {},
   "outputs": [],
   "source": [
    "midi.show('midi')"
   ]
  },
  {
   "cell_type": "code",
   "execution_count": 2,
   "metadata": {},
   "outputs": [],
   "source": [
    "file = 'tmp/rnn_generated_1207.midi' "
   ]
  },
  {
   "cell_type": "code",
   "execution_count": 5,
   "metadata": {},
   "outputs": [],
   "source": [
    " midi = converter.parse(file)"
   ]
  },
  {
   "cell_type": "code",
   "execution_count": 6,
   "metadata": {},
   "outputs": [
    {
     "data": {
      "text/html": [
       "\n",
       "                <div id='midiPlayerDiv482'></div>\n",
       "                <link rel=\"stylesheet\" href=\"//cuthbertLab.github.io/music21j/css/m21.css\"\n",
       "                    type=\"text/css\" />\n",
       "                <script>\n",
       "                require.config({\n",
       "                    paths: {'music21': '//cuthbertLab.github.io/music21j/src/music21'}\n",
       "                });\n",
       "                require(['music21'], function() {\n",
       "                               mp = new music21.miditools.MidiPlayer();\n",
       "                               mp.addPlayer('#midiPlayerDiv482');\n",
       "                               mp.base64Load('data:audio/midi;base64,TVRoZAAAAAYAAQABBABNVHJrAAAC2wD/AwAA4ABAhACQR1oAkFBahACQNFqEAIBHAACAUAAAkDJahACANAAAkDBaAJA3WgCQPloAkD9aAJBAWoQAgDIAAJAxWoQAgDAAAIA3AACAPgAAgD8AAIBAAACQMlqEAIAxAACQM1qEAIAyAACQNFqEAIAzAACQNVqEAIA0AACQNlqEAIA1AACQN1qEAIA2AACQOFqEAIA3AACQOVoAkDpahACAOAAAkEBaAJBHWoQAgDkAAIA6AACQQVqEAIBAAACARwAAkEJahACAQQAAkENahACAQgAAkERahACAQwAAkEVahACARAAAkEZahACARQAAkEhahACARgAAkEpahACASAAAkFFahACASgAAkFhahACAUQAAkF9aAJBhWgCQY1oAkGVaAJBpWgCQa1oAkG1aAJBvWgCQcVoAkHVaAJB0WgCQd1oAkHpaAJB7WgCQdloAkGdaAJBzWgCQdVoAkHxaAJB+WgCQdFoAkHZaAJB4WgCQeloAkHhaAJB5WgCQdFoAkHxaAJB3WgCQfloAkHZaAJB5WgCQe1oAkH1aAJB4WgCQc1qEAIBYAACAZwAAkGZahACAXwAAgGEAAIBjAACAZQAAgGkAAIBrAACAbQAAgG8AAIBxAACAdQAAgHQAAIB3AACAegAAgHsAAIB2AACAcwAAgHUAAIB8AACAfgAAgHQAAIB2AACAeAAAgHoAAIB4AACAeQAAgHQAAIB8AACAdwAAgH4AAIB2AACAeQAAgHsAAIB9AACAeAAAgHMAAJBtWoQAgGYAAJBuWgCQb1oAkHBaAJBxWgCQcloAkHNaAJB0WgCQdVoAkHZaAJB3WgCQeFoAkHlaAJB6WgCQe1oAkHxaAJB9WgCQflqEAIBtAIQAgG4AAIBvAACAcAAAgHEAAIByAACAcwAAgHQAAIB1AACAdgAAgHcAAIB4AACAeQAAgHoAAIB7AACAfAAAgH0AAIB+AIgA/y8A');\n",
       "                        });\n",
       "                </script>"
      ],
      "text/plain": [
       "<IPython.core.display.HTML object>"
      ]
     },
     "metadata": {},
     "output_type": "display_data"
    }
   ],
   "source": [
    "midi.show('midi')"
   ]
  },
  {
   "cell_type": "code",
   "execution_count": null,
   "metadata": {},
   "outputs": [],
   "source": [
    "midi.show()"
   ]
  },
  {
   "cell_type": "markdown",
   "metadata": {},
   "source": [
    "# check "
   ]
  },
  {
   "cell_type": "code",
   "execution_count": 26,
   "metadata": {},
   "outputs": [],
   "source": [
    "part0 = parts[0]"
   ]
  },
  {
   "cell_type": "code",
   "execution_count": 34,
   "metadata": {},
   "outputs": [
    {
     "data": {
      "text/plain": [
       "True"
      ]
     },
     "execution_count": 34,
     "metadata": {},
     "output_type": "execute_result"
    }
   ],
   "source": [
    "'Piano' in part0.getInstrument().names['en']"
   ]
  },
  {
   "cell_type": "code",
   "execution_count": 37,
   "metadata": {},
   "outputs": [
    {
     "data": {
      "text/plain": [
       "'Piano'"
      ]
     },
     "execution_count": 37,
     "metadata": {},
     "output_type": "execute_result"
    }
   ],
   "source": [
    "part0.getInstrument().instrumentName"
   ]
  },
  {
   "cell_type": "code",
   "execution_count": 48,
   "metadata": {},
   "outputs": [],
   "source": [
    " partitioned = instrument.partitionByInstrument(midi)"
   ]
  }
 ],
 "metadata": {
  "kernelspec": {
   "display_name": "test",
   "language": "python",
   "name": "test"
  },
  "language_info": {
   "codemirror_mode": {
    "name": "ipython",
    "version": 3
   },
   "file_extension": ".py",
   "mimetype": "text/x-python",
   "name": "python",
   "nbconvert_exporter": "python",
   "pygments_lexer": "ipython3",
   "version": "3.7.3"
  }
 },
 "nbformat": 4,
 "nbformat_minor": 2
}
