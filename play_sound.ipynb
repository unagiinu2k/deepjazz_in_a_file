{
 "cells": [
  {
   "cell_type": "code",
   "execution_count": null,
   "metadata": {},
   "outputs": [],
   "source": [
    "from IPython.display import Audio"
   ]
  },
  {
   "cell_type": "markdown",
   "metadata": {},
   "source": [
    "Audio(filename = 'tmp/tmp.midi')"
   ]
  },
  {
   "cell_type": "code",
   "execution_count": 2,
   "metadata": {},
   "outputs": [],
   "source": [
    "from music21 import *"
   ]
  },
  {
   "cell_type": "code",
   "execution_count": 6,
   "metadata": {},
   "outputs": [],
   "source": [
    "file = 'tmp/rnn_generated_1229.midi' "
   ]
  },
  {
   "cell_type": "code",
   "execution_count": 7,
   "metadata": {},
   "outputs": [],
   "source": [
    " midi = converter.parse(file)"
   ]
  },
  {
   "cell_type": "code",
   "execution_count": null,
   "metadata": {},
   "outputs": [],
   "source": [
    "midi.show()"
   ]
  },
  {
   "cell_type": "code",
   "execution_count": 8,
   "metadata": {},
   "outputs": [
    {
     "data": {
      "text/html": [
       "\n",
       "                <div id='midiPlayerDiv5049'></div>\n",
       "                <link rel=\"stylesheet\" href=\"//cuthbertLab.github.io/music21j/css/m21.css\"\n",
       "                    type=\"text/css\" />\n",
       "                <script>\n",
       "                require.config({\n",
       "                    paths: {'music21': '//cuthbertLab.github.io/music21j/src/music21'}\n",
       "                });\n",
       "                require(['music21'], function() {\n",
       "                               mp = new music21.miditools.MidiPlayer();\n",
       "                               mp.addPlayer('#midiPlayerDiv5049');\n",
       "                               mp.base64Load('data:audio/midi;base64,TVRoZAAAAAYAAQABBABNVHJrAAAMrQD/AwAA4ABAhACQR1oAkEhaAJBgWgCQY1qCAJBCWgCQWFoAkF5aAJBhWoIAgEcAAJBTWgCQVloAkFpaAJBiWgCQX1qCAIBhAACQZFqCAIBIAACAYAAAgGMAAJBJWgCQWVoAkGpaAJBcWgCQZVqCAIBCAACAWAAAgF4AAJBrWoIAgFMAAIBWAACAWgAAgGIAAIBfAACQbVqCAIBkAACAawAAkFBaAJBTWgCQX1oAkGNaAJBoWgCQa1qCAIBJAACAWQAAgGoAAIBcAACAZQAAgG0AAJBSWoIAgGMAAIBoAACAawAAkFRaAJB0WgCQb1qCAJBVWgCQYVoAkGxaAJB1WgCQZVoAkHFaAJB4WoIAgFAAAIBTAACAXwAAgGUAAIBxAACQWVoAkG5aAJBcWgCQcloAkH5aggCAUgAAgG8AAIB4AACQV1oAkGdaAJBbWgCQdloAkF5aggCAVAAAgHQAAIBZAACAbgAAgF4AAJBSWgCQZVoAkF5aAJBqWoIAgFUAAIBhAACAbAAAgHUAAJBsWgCQdFoAkG9aAJBxWoIAgFwAAIByAACAfgAAgFcAAIBnAACAagAAgG8AAIBxAACQY1oAkG9aAJBzWoIAgFsAAIB2AACAXgAAgG8AAJBZWgCQZVoAkG5aAJBoWoIAgFIAAIBlAACAWQAAgGUAAIBuAACQWloAkHJaAJBeWgCQZloAkGpaAJBtWoIAgGwAAIB0AACAYwAAgGgAAJBcWgCQdFoAkGtaAJBvWoIAgHMAAIBeAACAZgAAgGoAAIBtAACAbwAAkGFaAJBtWgCQc1qCAJBoWgCQa1qCAIBaAACAcgAAgG0AAIBoAACQZVoAkHVaAJBsWoIAgFwAAIB0AACAawAAgGsAAJBrWgCQbVqCAIBhAACAcwAAgG0AAJBuWgCQcVqCAIBrAACQc1oAkHdaggCAZQAAgHUAAIBsAACQYloAkGZaAJBpWgCQbVoAkHVaAJByWoIAgG0AAIB1AACQbFoAkHlaAJBvWoIAgG4AAIBxAACAYgAAgGwAAJB1WgCQeFqCAIBzAACAdwAAgHUAAJBlWgCQbloAkH5aAJBsWgCQcloAkHVaggCAZgAAgGkAAIByAACAbAAAgHIAAIB1AACQcFoAkHVaggCAeQAAgG8AAIBwAACAdQAAkGBaAJB5WgCQbFoAkHNaggCAeAAAgGwAAJB0WoIAgGUAAIBuAACAfgAAkHhaggCAeAAAkFtaAJBuWgCQXloAkGpaAJBzWgCQdVqCAIBgAACAeQAAgHMAAIBzAACQdlqCAIB0AACQeFqCAIBbAACAbgAAgHgAAJBnWgCQc1oAkHhaggCAXgAAgGoAAIB1AACAcwAAgHgAAJB9WoIAgHYAAJBSWgCQVFoAkGBaAJBkWgCQaVoAkGtaAJBrWoIAkG5aggCAZwAAgFIAAIBuAACQUloAkFlaAJBeWgCQZVoAkGVaAJBuWgCQblqCAIB9AACQW1oAkHNaAJBqWoIAgFQAAIBgAACAZAAAgGkAAIBrAACAawAAgFIAAJBsWgCQWloAkF1aAJBhWgCQaVqCAIBuAACQdlqCAIBZAACAXgAAgGUAAIBlAACAbgAAgGkAAJBZWgCQdVoAkGVaAJB1WgCQfVqCAIBbAACAcwAAgGoAAIBZAACAdQAAkHFaAJB1WgCQeFqCAIBsAACAWgAAgF0AAIBhAACQYVoAkGxaAJBvWgCQe1oAkH1aggCAdgAAkGNaAJBqWgCQcloAkHxaggCAZQAAgHUAAIB9AACAfQAAkGNaAJBtWoIAgHEAAIB1AACAeAAAgHsAAIBjAACQZ1oAkHZaAJB4WgCQb1qCAIBhAACAbAAAgG8AAIBvAACQbloAkHVaAJBlWgCQfloAkGxaggCAYwAAgGoAAIByAACAfAAAgG4AAIB1AACQcVoAkHpaAJB1WgCQe1qCAIBtAACAbAAAgHUAAJB3WgCQaVoAkH9aAJB9WoIAgGcAAIB2AACAeAAAgHsAAJB5WgCQfFoAkHZaAJB8WgCQdVqCAIBlAACAfgAAgHUAAJB+WoIAgHEAAIB6AACAfgAAkHRaAJB6WgCQdVqCAIB3AACAaQAAgH8AAIB9AACAeQAAgHwAAIB2AACAdQCCAIB8AACQd1oAkHtaAJB+WgCQdVqCAIB+AACQfFqCAIB0AACAegAAgHUAAIB8AACQeVoAkHlaAJB1WoIAkHxaAJBzWoIAgHcAAIB7AACQeloAkH5aAJB3WgCQelqCAIB8AACAcwAAkHdaggCAeQAAgHkAAIB1AACQeVoAkHVaAJB8WoIAgHoAAJB+WgCQdVqCAIB6AACAfgAAgHcAAIB3AACAfgAAkHhaAJB2WgCQd1oAkH1aggCAdwAAkHlaAJB9WgCQdFqCAIB5AACAdQAAgHwAAIB1AACQfFoAkHlaggCQd1oAkH5aAJB7WgCQflqCAIB4AACAdgAAgH0AAIB0AACQd1qCAIB5AACAfQAAgHkAAIB7AACAfgAAgHcAAJB1WgCQflqCAIB8AACQeloAkH5aggCAdwAAgH4AAIB+AACQeVoAkHNaAJB8WgCQd1qCAIB6AACAdwAAkH5aggCAdQAAgH4AAIB8AACAfgAAkHRaAJB3WgCQfVqCAJB+WgCQdVoAkHpaggCAeQAAgHMAAJB+WgCQd1qCAIB6AACAfgAAgHcAAJB8WgCQd1oAkHxaAJB0WoIAgHQAAIB3AACAfQAAgHwAAIB0AACQfFoAkHpaAJB0WoIAgH4AAIB1AACAfAAAgHoAAJB1WgCQeVoAkHxaAJB1WoIAkHdaAJB+WgCQd1oAkHpaAJB+WoIAgHwAAIB3AACAdAAAgHUAAJB5WgCQfFoAkHVaAJB8WoIAgHoAAIB+AACAdQAAgHwAAJB6WgCQeloAkHVaggCAdQAAgHkAAIB8AACAeQAAgHUAAJB8WgCQc1oAkHhaAJBzWoIAgHcAAIB+AACAdwAAgHoAAJB+WgCQdVoAkHpaAJB6WoIAgHwAAJB0WgCQd1oAkHxaggCAegAAgHoAAIB0AACQeloAkH1aAJB2WgCQdFqCAIB8AACAcwAAgHgAAIBzAACAfAAAkHtaAJBzWoIAgH4AAIB1AACAegAAgHYAAJB+WgCQe1oAkH5aAJB2WoIAgHcAAIB0AACAdgAAkHRaggCAegAAgH0AAIB+AACAdAAAkHVaAJB6WgCQflqCAIB7AACAcwAAgHoAAJBzWgCQd1oAkHVaggCAfgAAgHsAAIB+AACQfFoAkH1aAJB4WgCQc1oAkHpaAJB8WoIAgHwAAJB8WoIAgHUAAIB1AACAegAAkHlaggCAcwAAgHcAAIBzAACQd1qCAIB8AACAfQAAgHgAAIB8AACAdwAAkHtaAJB6WgCQfloAkHdaggCQfFoAkH5aAJB1WoIAgHkAAIB3AACAfAAAkHxaAJB0WgCQd1qCAIB+AACQd1qCAIB7AACAegAAgH4AAIB3AACQdFqCAIB1AACAfAAAkHdaAJB+WgCQd1oAkHtaAJB3WoIAgHQAAIB3AACAdAAAgHcAAJB8WgCQdFqCAJB6WgCQeloAkH5aAJB3WoIAgHQAAJB+WgCQdVoAkHpaggCAdwAAgH4AAIB3AACAewAAgH4AAIB1AACAegAAkH1aAJB6WoIAgHwAAIB9AACQdVqCAIB6AACAegAAgH4AAIB3AACAegAAkHZaAJB2WgCQeVqCAIB1AACQeloAkH1aggCAdgAAgHoAAIB9AACQe1oAkHNaAJB2WgCQe1qCAIB2AACQeloAkH1aggCAdgAAgHkAAIBzAACAegAAkHZaAJBzWgCQd1oAkHpaggCAfQAAgHoAAJB4WgCQdVoAkHhaAJB9WoIAgHsAAIB7AACAdgAAgHMAAJB6WgCQc1oAkHZaggCAfQAAgHoAAIBzAACAdgAAkHxaAJB7WgCQdFoAkHNaAJB4WoIAgHcAAIBzAACQfVoAkHVaAJB6WgCQeFoAkHpaggCAeAAAgHUAAIB4AACAeAAAkHVaAJB4WoIAgHoAAJBzWgCQd1qCAIB8AACAewAAgHQAAIB4AACAeAAAgHMAAIB3AACQc1oAkHpaAJBzWoIAgH0AAIB1AACAegAAgHUAAJB1WgCQeFoAkHhaAJB2WgCQfFqCAIBzAACAeAAAgHYAAJBzWoIAgHwAAJB3WgCQfFqCAIBzAACAegAAkHdaAJB+WgCQd1oAkHpaggCAdQAAgHgAAIB8AACAdwAAkHdaAJB+WgCQdVoAkHxaggCAcwCCAIB3AACAfACCAIB3AACAfgAAgHoAggCAdwAAgH4AAIB1AIgA/y8A');\n",
       "                        });\n",
       "                </script>"
      ],
      "text/plain": [
       "<IPython.core.display.HTML object>"
      ]
     },
     "metadata": {},
     "output_type": "display_data"
    }
   ],
   "source": [
    "midi.show('midi')"
   ]
  },
  {
   "cell_type": "code",
   "execution_count": null,
   "metadata": {},
   "outputs": [],
   "source": [
    "file = 'tmp/tmp.midi'"
   ]
  },
  {
   "cell_type": "code",
   "execution_count": null,
   "metadata": {},
   "outputs": [],
   "source": [
    " midi = converter.parse(file)"
   ]
  },
  {
   "cell_type": "code",
   "execution_count": null,
   "metadata": {},
   "outputs": [],
   "source": [
    "midi.show('midi')"
   ]
  },
  {
   "cell_type": "code",
   "execution_count": null,
   "metadata": {},
   "outputs": [],
   "source": [
    "midi.show()"
   ]
  },
  {
   "cell_type": "markdown",
   "metadata": {},
   "source": [
    "# check "
   ]
  },
  {
   "cell_type": "code",
   "execution_count": null,
   "metadata": {},
   "outputs": [],
   "source": [
    "part0 = parts[0]"
   ]
  },
  {
   "cell_type": "code",
   "execution_count": null,
   "metadata": {},
   "outputs": [],
   "source": [
    "'Piano' in part0.getInstrument().names['en']"
   ]
  },
  {
   "cell_type": "code",
   "execution_count": null,
   "metadata": {},
   "outputs": [],
   "source": [
    "part0.getInstrument().instrumentName"
   ]
  },
  {
   "cell_type": "code",
   "execution_count": null,
   "metadata": {},
   "outputs": [],
   "source": [
    " partitioned = instrument.partitionByInstrument(midi)"
   ]
  }
 ],
 "metadata": {
  "kernelspec": {
   "display_name": "test",
   "language": "python",
   "name": "test"
  },
  "language_info": {
   "codemirror_mode": {
    "name": "ipython",
    "version": 3
   },
   "file_extension": ".py",
   "mimetype": "text/x-python",
   "name": "python",
   "nbconvert_exporter": "python",
   "pygments_lexer": "ipython3",
   "version": "3.7.3"
  }
 },
 "nbformat": 4,
 "nbformat_minor": 2
}
