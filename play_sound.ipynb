{
 "cells": [
  {
   "cell_type": "code",
   "execution_count": 1,
   "metadata": {},
   "outputs": [],
   "source": [
    "from IPython.display import Audio"
   ]
  },
  {
   "cell_type": "code",
   "execution_count": 2,
   "metadata": {},
   "outputs": [
    {
     "data": {
      "text/html": [
       "\n",
       "                <audio  controls=\"controls\" >\n",
       "                    <source src=\"data:audio/midi;base64,TVRoZAAAAAYAAQABBABNVHJrAAAAWAD/AwAA4ABAAP9YBAQCGAgAkEBahACAQAAAkEBahACAQACEAJBAWoQAgEAAhACQPFqEAIA8AACQQFqEAIBAAIQAkENaiACAQwCIAJA3WogAgDcAiAD/LwA=\" type=\"audio/midi\" />\n",
       "                    Your browser does not support the audio element.\n",
       "                </audio>\n",
       "              "
      ],
      "text/plain": [
       "<IPython.lib.display.Audio object>"
      ]
     },
     "execution_count": 2,
     "metadata": {},
     "output_type": "execute_result"
    }
   ],
   "source": [
    "Audio(filename = 'tmp/tmp.midi')"
   ]
  },
  {
   "cell_type": "code",
   "execution_count": 3,
   "metadata": {},
   "outputs": [],
   "source": [
    "from music21 import *"
   ]
  },
  {
   "cell_type": "code",
   "execution_count": null,
   "metadata": {},
   "outputs": [],
   "source": [
    "file = 'tmp/tmp.midi'"
   ]
  },
  {
   "cell_type": "code",
   "execution_count": 12,
   "metadata": {},
   "outputs": [],
   "source": [
    " midi = converter.parse(file)"
   ]
  },
  {
   "cell_type": "code",
   "execution_count": 13,
   "metadata": {},
   "outputs": [
    {
     "data": {
      "text/html": [
       "\n",
       "                <div id='midiPlayerDiv4131'></div>\n",
       "                <link rel=\"stylesheet\" href=\"//cuthbertLab.github.io/music21j/css/m21.css\"\n",
       "                    type=\"text/css\" />\n",
       "                <script>\n",
       "                require.config({\n",
       "                    paths: {'music21': '//cuthbertLab.github.io/music21j/src/music21'}\n",
       "                });\n",
       "                require(['music21'], function() {\n",
       "                               mp = new music21.miditools.MidiPlayer();\n",
       "                               mp.addPlayer('#midiPlayerDiv4131');\n",
       "                               mp.base64Load('data:audio/midi;base64,TVRoZAAAAAYAAQABBABNVHJrAAADkwD/AwAA4ABAAJBIWoQAkEVahACASAAAkEhahACARQAAgEgAhACQRVqEAJBBWoQAgEUAAJA+WoQAgEEAAJA7WoQAgD4AAJA3WoQAgDsAAJA0WoQAgDcAAJAwWoQAgDQAAJAtWoQAgDAAAJApWoQAgC0AAJAmWoQAgCkAAJAjWoQAgCYAAJAfWoQAgCMAAJAcWoQAgB8AAJAYWoQAgBwAAJAfWoQAgBgAAJAcWoQAgB8AAJAYWoQAgBwAAJAVWoQAgBgAAJARWoQAgBUAAJAOWoQAgBEAAJAXWoQAgA4AAJATWoQAgBcAAJAOWoQAgBMAAJALWoQAgA4AAJAHWoQAgAsAAJAEWoQAgAcAAJAAWoQAgAQAAJAJWoQAgAAAAJAFWoQAgAkAAJACWoQAgAUAAJALWoQAgAIAAJAHWoQAgAsAAJAEWoQAgAcAAJAAWoQAgAQAAJAJWoQAgAAAAJAFWoQAgAkAAJACWoQAgAUAAJALWoQAgAIAAJAHWoQAgAsAAJAEWoQAgAcAAJAAWoQAgAQAAJAJWoQAgAAAAJAFWoQAgAkAAJACWoQAgAUAAJALWoQAgAIAAJAHWoQAgAsAAJAEWoQAgAcAAJAAWoQAgAQAAJAJWoQAgAAAAJAFWoQAgAkAAJACWoQAgAUAAJALWoQAgAIAAJAHWoQAgAsAAJAEWoQAgAcAAJAAWoQAgAQAAJAJWoQAgAAAAJAFWoQAgAkAAJAHWoQAgAUAAJAEWoQAgAcAAJAAWoQAgAQAAJAHWoQAgAAAAJAEWoQAgAcAAJAAWoQAgAQAAJAHWoQAgAAAAJACWoQAgAcAAJALWoQAgAIAAJAHWoQAgAsAAJAEWoQAgAcAAJAAWoQAgAQAAJAJWoQAgAAAAJAFWoQAgAkAAJACWoQAgAUAAJAEWoQAgAIAAJAAWoQAgAQAAJAJWoQAgAAAAJAFWoQAgAkAAJACWoQAgAUAAJALWoQAgAIAAJAHWoQAgAsAAJAEWoQAgAcAAJAAWoQAgAQAAJAJWoQAgAAAAJAEWoQAgAkAAJALWoQAgAQAAJAFWoQAgAsAAJACWoQAgAUAAJALWoQAgAIAAJAHWoQAgAsAAJAEWoQAgAcAAJAAWoQAgAQAAJACWoQAgAAAAJALWoQAgAIAAJAHWoQAgAsAAJAEWoQAgAcAAJAAWoQAgAQAAJAHWoQAgAAAAJAJWoQAgAcAhACACQCIAP8vAA==');\n",
       "                        });\n",
       "                </script>"
      ],
      "text/plain": [
       "<IPython.core.display.HTML object>"
      ]
     },
     "metadata": {},
     "output_type": "display_data"
    }
   ],
   "source": [
    "midi.show('midi')"
   ]
  },
  {
   "cell_type": "code",
   "execution_count": null,
   "metadata": {},
   "outputs": [],
   "source": []
  }
 ],
 "metadata": {
  "kernelspec": {
   "display_name": "test",
   "language": "python",
   "name": "test"
  },
  "language_info": {
   "codemirror_mode": {
    "name": "ipython",
    "version": 3
   },
   "file_extension": ".py",
   "mimetype": "text/x-python",
   "name": "python",
   "nbconvert_exporter": "python",
   "pygments_lexer": "ipython3",
   "version": "3.7.3"
  }
 },
 "nbformat": 4,
 "nbformat_minor": 2
}
