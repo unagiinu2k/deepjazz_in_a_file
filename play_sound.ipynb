{
 "cells": [
  {
   "cell_type": "code",
   "execution_count": 1,
   "metadata": {},
   "outputs": [],
   "source": [
    "from IPython.display import Audio"
   ]
  },
  {
   "cell_type": "markdown",
   "metadata": {},
   "source": [
    "Audio(filename = 'tmp/tmp.midi')"
   ]
  },
  {
   "cell_type": "code",
   "execution_count": 2,
   "metadata": {},
   "outputs": [],
   "source": [
    "from music21 import *"
   ]
  },
  {
   "cell_type": "code",
   "execution_count": 3,
   "metadata": {},
   "outputs": [],
   "source": [
    "file = 'tmp/rnn_generated_1229.midi' "
   ]
  },
  {
   "cell_type": "code",
   "execution_count": 4,
   "metadata": {},
   "outputs": [],
   "source": [
    " midi = converter.parse(file)"
   ]
  },
  {
   "cell_type": "code",
   "execution_count": 5,
   "metadata": {},
   "outputs": [
    {
     "ename": "SubConverterFileIOException",
     "evalue": "png file of xml not found. Or file >999 pages?",
     "output_type": "error",
     "traceback": [
      "\u001b[0;31m---------------------------------------------------------------------------\u001b[0m",
      "\u001b[0;31mSubConverterFileIOException\u001b[0m               Traceback (most recent call last)",
      "\u001b[0;32m<ipython-input-5-fec6236fa970>\u001b[0m in \u001b[0;36m<module>\u001b[0;34m\u001b[0m\n\u001b[0;32m----> 1\u001b[0;31m \u001b[0mmidi\u001b[0m\u001b[0;34m.\u001b[0m\u001b[0mshow\u001b[0m\u001b[0;34m(\u001b[0m\u001b[0;34m)\u001b[0m\u001b[0;34m\u001b[0m\u001b[0;34m\u001b[0m\u001b[0m\n\u001b[0m",
      "\u001b[0;32m~/anaconda3/envs/test/lib/python3.7/site-packages/music21/stream/__init__.py\u001b[0m in \u001b[0;36mshow\u001b[0;34m(self, *args, **kwargs)\u001b[0m\n\u001b[1;32m    257\u001b[0m         \u001b[0;32mif\u001b[0m \u001b[0mself\u001b[0m\u001b[0;34m.\u001b[0m\u001b[0misSorted\u001b[0m \u001b[0;32mis\u001b[0m \u001b[0;32mFalse\u001b[0m \u001b[0;32mand\u001b[0m \u001b[0mself\u001b[0m\u001b[0;34m.\u001b[0m\u001b[0mautoSort\u001b[0m\u001b[0;34m:\u001b[0m\u001b[0;34m\u001b[0m\u001b[0;34m\u001b[0m\u001b[0m\n\u001b[1;32m    258\u001b[0m             \u001b[0mself\u001b[0m\u001b[0;34m.\u001b[0m\u001b[0msort\u001b[0m\u001b[0;34m(\u001b[0m\u001b[0;34m)\u001b[0m\u001b[0;34m\u001b[0m\u001b[0;34m\u001b[0m\u001b[0m\n\u001b[0;32m--> 259\u001b[0;31m         \u001b[0;32mreturn\u001b[0m \u001b[0msuper\u001b[0m\u001b[0;34m(\u001b[0m\u001b[0;34m)\u001b[0m\u001b[0;34m.\u001b[0m\u001b[0mshow\u001b[0m\u001b[0;34m(\u001b[0m\u001b[0;34m*\u001b[0m\u001b[0margs\u001b[0m\u001b[0;34m,\u001b[0m \u001b[0;34m**\u001b[0m\u001b[0mkwargs\u001b[0m\u001b[0;34m)\u001b[0m\u001b[0;34m\u001b[0m\u001b[0;34m\u001b[0m\u001b[0m\n\u001b[0m\u001b[1;32m    260\u001b[0m \u001b[0;34m\u001b[0m\u001b[0m\n\u001b[1;32m    261\u001b[0m     \u001b[0;31m# --------------------------------------------------------------------------\u001b[0m\u001b[0;34m\u001b[0m\u001b[0;34m\u001b[0m\u001b[0;34m\u001b[0m\u001b[0m\n",
      "\u001b[0;32m~/anaconda3/envs/test/lib/python3.7/site-packages/music21/base.py\u001b[0m in \u001b[0;36mshow\u001b[0;34m(self, fmt, app, **keywords)\u001b[0m\n\u001b[1;32m   2628\u001b[0m                                  \u001b[0mapp\u001b[0m\u001b[0;34m=\u001b[0m\u001b[0mapp\u001b[0m\u001b[0;34m,\u001b[0m\u001b[0;34m\u001b[0m\u001b[0;34m\u001b[0m\u001b[0m\n\u001b[1;32m   2629\u001b[0m                                  \u001b[0msubformats\u001b[0m\u001b[0;34m=\u001b[0m\u001b[0msubformats\u001b[0m\u001b[0;34m,\u001b[0m\u001b[0;34m\u001b[0m\u001b[0;34m\u001b[0m\u001b[0m\n\u001b[0;32m-> 2630\u001b[0;31m                                  **keywords)\n\u001b[0m\u001b[1;32m   2631\u001b[0m \u001b[0;34m\u001b[0m\u001b[0m\n\u001b[1;32m   2632\u001b[0m     \u001b[0;31m# -------------------------------------------------------------------------\u001b[0m\u001b[0;34m\u001b[0m\u001b[0;34m\u001b[0m\u001b[0;34m\u001b[0m\u001b[0m\n",
      "\u001b[0;32m~/anaconda3/envs/test/lib/python3.7/site-packages/music21/converter/subConverters.py\u001b[0m in \u001b[0;36mshow\u001b[0;34m(self, obj, fmt, app, subformats, **keywords)\u001b[0m\n\u001b[1;32m    358\u001b[0m             \u001b[0;32mfor\u001b[0m \u001b[0ms\u001b[0m \u001b[0;32min\u001b[0m \u001b[0mscores\u001b[0m\u001b[0;34m:\u001b[0m\u001b[0;34m\u001b[0m\u001b[0;34m\u001b[0m\u001b[0m\n\u001b[1;32m    359\u001b[0m                 fp = helperSubConverter.write(s, helperFormat,\n\u001b[0;32m--> 360\u001b[0;31m                                               subformats=helperSubformats, **keywords)\n\u001b[0m\u001b[1;32m    361\u001b[0m \u001b[0;34m\u001b[0m\u001b[0m\n\u001b[1;32m    362\u001b[0m                 \u001b[0;32mif\u001b[0m \u001b[0mhelperSubformats\u001b[0m\u001b[0;34m[\u001b[0m\u001b[0;36m0\u001b[0m\u001b[0;34m]\u001b[0m \u001b[0;34m==\u001b[0m \u001b[0;34m'png'\u001b[0m\u001b[0;34m:\u001b[0m\u001b[0;34m\u001b[0m\u001b[0;34m\u001b[0m\u001b[0m\n",
      "\u001b[0;32m~/anaconda3/envs/test/lib/python3.7/site-packages/music21/converter/subConverters.py\u001b[0m in \u001b[0;36mwrite\u001b[0;34m(self, obj, fmt, fp, subformats, **keywords)\u001b[0m\n\u001b[1;32m    936\u001b[0m                 \u001b[0;32mand\u001b[0m \u001b[0;34m(\u001b[0m\u001b[0;34m'png'\u001b[0m \u001b[0;32min\u001b[0m \u001b[0msubformats\u001b[0m \u001b[0;32mor\u001b[0m \u001b[0;34m'pdf'\u001b[0m \u001b[0;32min\u001b[0m \u001b[0msubformats\u001b[0m\u001b[0;34m)\u001b[0m\u001b[0;34m\u001b[0m\u001b[0;34m\u001b[0m\u001b[0m\n\u001b[1;32m    937\u001b[0m                 and not str(environLocal['musescoreDirectPNGPath']).startswith('/skip')):\n\u001b[0;32m--> 938\u001b[0;31m             \u001b[0mfp\u001b[0m \u001b[0;34m=\u001b[0m \u001b[0mself\u001b[0m\u001b[0;34m.\u001b[0m\u001b[0mrunThroughMusescore\u001b[0m\u001b[0;34m(\u001b[0m\u001b[0mfp\u001b[0m\u001b[0;34m,\u001b[0m \u001b[0msubformats\u001b[0m\u001b[0;34m,\u001b[0m \u001b[0;34m**\u001b[0m\u001b[0mkeywords\u001b[0m\u001b[0;34m)\u001b[0m\u001b[0;34m\u001b[0m\u001b[0;34m\u001b[0m\u001b[0m\n\u001b[0m\u001b[1;32m    939\u001b[0m \u001b[0;34m\u001b[0m\u001b[0m\n\u001b[1;32m    940\u001b[0m         \u001b[0;32mreturn\u001b[0m \u001b[0mfp\u001b[0m\u001b[0;34m\u001b[0m\u001b[0;34m\u001b[0m\u001b[0m\n",
      "\u001b[0;32m~/anaconda3/envs/test/lib/python3.7/site-packages/music21/converter/subConverters.py\u001b[0m in \u001b[0;36mrunThroughMusescore\u001b[0;34m(self, fp, subformats, **keywords)\u001b[0m\n\u001b[1;32m    893\u001b[0m \u001b[0;34m\u001b[0m\u001b[0m\n\u001b[1;32m    894\u001b[0m         \u001b[0;32mif\u001b[0m \u001b[0msubformatExtension\u001b[0m \u001b[0;34m==\u001b[0m \u001b[0;34m'png'\u001b[0m\u001b[0;34m:\u001b[0m\u001b[0;34m\u001b[0m\u001b[0;34m\u001b[0m\u001b[0m\n\u001b[0;32m--> 895\u001b[0;31m             \u001b[0;32mreturn\u001b[0m \u001b[0mself\u001b[0m\u001b[0;34m.\u001b[0m\u001b[0mfindPNGfpFromXMLfp\u001b[0m\u001b[0;34m(\u001b[0m\u001b[0mfpOut\u001b[0m\u001b[0;34m)\u001b[0m\u001b[0;34m\u001b[0m\u001b[0;34m\u001b[0m\u001b[0m\n\u001b[0m\u001b[1;32m    896\u001b[0m         \u001b[0;32melse\u001b[0m\u001b[0;34m:\u001b[0m\u001b[0;34m\u001b[0m\u001b[0;34m\u001b[0m\u001b[0m\n\u001b[1;32m    897\u001b[0m             \u001b[0;32mreturn\u001b[0m \u001b[0mfpOut\u001b[0m\u001b[0;34m\u001b[0m\u001b[0;34m\u001b[0m\u001b[0m\n",
      "\u001b[0;32m~/anaconda3/envs/test/lib/python3.7/site-packages/music21/converter/subConverters.py\u001b[0m in \u001b[0;36mfindPNGfpFromXMLfp\u001b[0;34m(self, xmlFilePath)\u001b[0m\n\u001b[1;32m    805\u001b[0m         \u001b[0;32melse\u001b[0m\u001b[0;34m:\u001b[0m\u001b[0;34m\u001b[0m\u001b[0;34m\u001b[0m\u001b[0m\n\u001b[1;32m    806\u001b[0m             raise SubConverterFileIOException(\n\u001b[0;32m--> 807\u001b[0;31m                 'png file of xml not found. Or file >999 pages?')\n\u001b[0m\u001b[1;32m    808\u001b[0m         \u001b[0;32mreturn\u001b[0m \u001b[0mpngfp\u001b[0m\u001b[0;34m\u001b[0m\u001b[0;34m\u001b[0m\u001b[0m\n\u001b[1;32m    809\u001b[0m \u001b[0;34m\u001b[0m\u001b[0m\n",
      "\u001b[0;31mSubConverterFileIOException\u001b[0m: png file of xml not found. Or file >999 pages?"
     ]
    }
   ],
   "source": [
    "midi.show()"
   ]
  },
  {
   "cell_type": "code",
   "execution_count": 6,
   "metadata": {},
   "outputs": [
    {
     "data": {
      "text/html": [
       "\n",
       "                <div id='midiPlayerDiv10706'></div>\n",
       "                <link rel=\"stylesheet\" href=\"//cuthbertLab.github.io/music21j/css/m21.css\"\n",
       "                    type=\"text/css\" />\n",
       "                <script>\n",
       "                require.config({\n",
       "                    paths: {'music21': '//cuthbertLab.github.io/music21j/src/music21'}\n",
       "                });\n",
       "                require(['music21'], function() {\n",
       "                               mp = new music21.miditools.MidiPlayer();\n",
       "                               mp.addPlayer('#midiPlayerDiv10706');\n",
       "                               mp.base64Load('data:audio/midi;base64,TVRoZAAAAAYAAQABBABNVHJrAAANowD/AwAA4ABAhACQR1oAkEVaggCQVloAkFlaggCQN1oAkENaAJBTWgCQT1qCAIBZAACQUVqCAIBHAACARQAAgE8AAJA0WgCQQFoAkFhaggCAVgAAkE1aAJBWWoIAgDcAAIBDAACAUwAAkC1aAJA5WgCQTFoAkFRaggCAUQAAkFFaAJBZWoIAgDQAAIBAAACAWAAAgE0AAIBWAACQMloAkD5aggCQTVqCAIAtAACAOQAAgEwAAIBUAACQK1oAkDdaAJBGWgCQS1oAkHJaggCAUQAAgFkAAJBWWoIAgDIAAIA+AACATQAAgFYAAJBUWoIAkFJaggCAKwAAgDcAAIBGAACASwAAgHIAAJBZWoIAkHtaggCAVAAAkF5aAJBqWgCQeloAkH1aggCAUgAAkHZaggCAWQAAkHRaggCAewAAkHNaggCAXgAAgGoAAIB6AACAfQAAgHQAAJBoWgCQeFoAkHRaggCAdgAAkHtaggCAdAAAkH1aggCAcwAAkHNaggCAaAAAgHgAAJBgWgCQbFoAkHRaggCAewAAkHtaggCAfQAAkHlaggCAcwAAkHhaggCAYAAAgGwAAIB0AACQYVoAkG1aAJB/WoIAgHsAAIB5AIIAkHRaAJB3WoIAgHgAAIB0AACAdwCCAIBhAACAbQAAgH8AAJB+WgCQd1qCAIB+AACQe1qCAIB3AACQeVqCAIB7AACQaFoAkHhaAJB9WgCQdFqCAIB0AIIAkHNaggCAeQAAkHRaggCAaAAAgHgAAIB9AACAdAAAkG5aAJB4WgCQelqCAJB9WoIAgHMAAJB7WoIAgHoAggCAbgAAgHgAAIB7AACQb1oAkHhaggCAfQAAkHtaggCAewAAkHNaggCQdlqCAIBvAACAeAAAkHFaAJB9WgCQdVqCAIB9AACAdQCCAIBzAACAdgAAkHNaggCQdVoAkHhaggCAcQAAgHUAAJB6WgCQdlqCAIBzAIIAgHYAAJBqWgCQdloAkH1aggCAeAAAkHNaggCAegAAgHYAAJBsWgCQeFoAkHRaggCAfQAAgHMAggCAagAAkG5aAJB6WgCQe1qCAJB9WoIAgGwAAIB4AACAdAAAgHsAAJBvWgCQc1qCAIB9AACQf1oAkHZaggCAbgAAgHoAAJB1WgCQeFqCAIB2AACQelqCAIBvAACAcwAAgHgAAJB7WoIAgH8AAIB7AACQeFqCAIB1AACAegAAgHgAAJB6WoIAgHoAAJB4WgCQe1qCAIB4AACAewAAkHVaAJB9WoIAgH0AAJB4WoIAkHNaAJB2WoIAgHUAAIB4AACQeFqCAIB2AACQbloAkHpaggCAeAAAkHVaAJB4WoIAgHMAAJBzWgCQe1qCAIB1AACAeAAAkH1aAJB6WoIAgG4AAIB6AACAewAAgHoAAJB4WoIAgHgAAJB6WgCQdlqCAIBzAACQeFoAkHVaggCAfQAAgHoAAIB2AACQdlqCAIB4AACAdQAAkGxaAJB4WoIAgHYAAJB/WgCQelqCAJB9WgCQe1qCAIB7AACQdVqCAIBsAACAeAAAgHoAAIB1AACQaloAkHZaggCAfwAAkHNaggCAfQAAgHMAAJBvWgCQe1oAkH1aggCAewAAkHtaggCAagAAgHYAAIB9AACQcVoAkHpaAJB1WgCQfVqCAJB4WoIAgG8AAIB7AACAfQAAkHZaggCAeACCAIBxAACAegAAgHUAAJBlWgCQcVoAkHtaAJB4WoIAgHgAAJB1WoIAgHYAAJB2WoIAgHYAAJBqWgCQeloAkHZaggCAZQAAgHEAAIB7AACQfVqCAIB1AACQc1qCAJB0WoIAgGoAAIB6AACAdgAAkHZaAJB6WoIAgH0AAJB4WoIAgHMAAJB1WgCQfVqCAIB0AACAeACCAIB2AACAegAAkHZaAJBzWoIAgHYAAJByWgCQfloAkHtaggCAdQAAgH0AAJB5WoIAgHsAAJBvWgCQfVoAkHRaggCAcwAAkHNaggCAcgAAgH4AAIB0AACQdFoAkHhaAJB6WoIAgHkAAIB0AIIAgG8AAIB9AACQfVqCAIBzAACQbVoAkHlaAJB7WoIAgHgAAIB6AACAeQCCAIB7AIIAgH0AAJB+WoIAgG0AAJB4WoIAkHtaggCAewAAkHVaggCAfgAAgHgAggCQdloAkHpaggCQfVqCAIB1AACQdVqCAJB+WoIAgHYAAIB6AACQc1oAkH9aAJB6WoIAgH0AAIB1AIIAgHMAAJB8WoIAgH4AAJBzWoIAgH8AAIB6AACAcwAAkG5aAJB3WgCQeloAkHVaggCAfAAAgHUAggCAegAAkH5aggCQeFqCAIBuAACAdwAAkHdaAJB8WoIAgHwAAJB6WoIAgH4AAIB4AACAegAAkHxaggCAdwCCAIB8AACQWloAkGZaAJB5WgCQdVqCAJB/WoIAkFZaAJBiWgCQfloAkHpaggCQfFqCAIBaAACAZgAAgHkAAIB1AACAfgAAkHdaggCAfwAAgHoAAJB2WoIAgFYAAIBiAACAdwAAkHdaggCAfAAAkHpaggCAdwAAkGJaAJBuWgCQeVqCAIB2AACAegAAkHdaggCAdwAAkGFaAJBtWgCQfFqCAJB6WoIAgGIAAIBuAACAeQAAgHwAAJB5WoIAgHoAggCAYQAAgG0AAJB1WgCQfFqCAJB3WoIAgHkAAIB8AACQZloAkHJaAJB5WoIAgHUAggCQX1oAkGtaAJB6WoIAgHcAAIB5AIIAgGYAAIByAACAegCCAJB3WoIAgF8AAIBrAACQdFqCAJB+WoIAkGRaAJBwWgCQfFqCAIB3AACQdVoAkHpaggCAdAAAgHUAAJBdWgCQaVoAkHlaggCAfgAAkHdaggCAZAAAgHAAAIB8AACQYVoAkG1aAJB1WoIAgHoAAIB1AACQdFqCAIBdAACAaQAAgHkAAJBiWgCQbloAkH5aggCAdwAAkHVaggCAYQAAgG0AAIB0AACAdQAAkGRaAJBwWoIAkHdaggCAYgAAgG4AAIB+AACQZloAkHJaAJB1WoIAgHUAAJB/WoIAgGQAAIBwAACAfwAAkHNaggCAdwAAkHVaggCAZgAAgHIAAIBzAACAdQAAkGJaAJBuWoIAkH5aggCAYgAAgG4AAJB4WoIAkHxaggCAfgCCAJBfWgCQa1oAkH9aggCAeAAAgHwAAJBgWgCQbFqCAIB/AIIAkHVaggCAXwAAgGsAAJB8WoIAgGAAAIBsAACAfAAAkFZaAJBiWgCQd1qCAIB1AIIAgHcAggCQclqCAIBWAACAYgAAkExaAJBYWgCQdFqCAJBwWoIAkG5aggCAcgAAkG1aggCATAAAgFgAAIB0AACAcAAAkEdaAJBTWoIAgG4AggCAbQCCAJBrWoIAgEcAAIBTAACQT1oAkFtaAJBwWoIAgGsAggCQbVqCAJBOWgCQWloAkG5aggCATwAAgFsAAIBwAACQcFqCAJByWoIAgG0AAIBwAIIAgE4AAIBaAACAbgAAkEpaAJBWWgCQc1qCAIByAIIAkHBaggCAcAAAkG5aggCASgAAgFYAAIBzAACQUVoAkF1aAJByWoIAgHIAAJBwWoIAgHAAAJByWoIAgG4AAJBYWgCQZFoAkHBaggCAUQAAgF0AAIByAACQZ1oAkGZaggCAcAAAkGVaggCQaVqCAIBYAACAZAAAkHVaggCAZwAAgGYAAJB4WoIAgGUAAJB3WoIAgGkAAJBdWgCQaVoAkHlaggCAdQAAkHxaggCAeAAAgF0AAIBpAACQdVqCAIB3AACQf1qCAIB5AACQd1qCAIB8AACQelqCAIB1AACQZVoAkHFaAJB0WoIAgH8AAJB4WoIAgHcAAJB7WoIAgHoAAIB4AIIAgGUAAIBxAACAdAAAkF5aAJBqWgCQdlqCAJB0WoIAgHsAAJB/WoIAkH1aggCAXgAAgGoAAIB2AACAfwAAkFdaAJBjWoIAgHQAAJB2WoIAkHtaggCAfQAAkHJaggCAVwAAgGMAAJBgWgCQaVqCAIB2AACQZlqCAIB7AACQYVoAkGVaggCAcgAAkF9aggCAYAAAgGkAAIBhAACQXlqCAIBmAACQXFqCAIBlAACAXgAAkGFaggCAXwAAgFwAggCAYQAAkF5aggCQYVqCAIBeAACAYQAAkFpaAJBjWoIAkGJaggCQXFoAkGFaggCAYQAAkGRaggCAWgAAgGMAAJBjWgCQZ1qCAIBiAACQYVqCAIBcAACAYwAAgGEAAJBgWoIAgGQAAJBhWoIAgGcAAJBjWoIAgGEAAJBmWoIAgGAAAIBjAACQU1qCAJBfWoIAkGFaggCAZgAAkGlaggCAUwAAgGEAAJBkWoIAgF8AAJBfWgCQbVqCAIBtAACQXVqCAIBpAACAZAAAkFxaggCAXAAAkGhaggCAXwAAgGgAAJBqWoIAgF0AAJBoWgCQcVqCAJBmWgCQb1qCAIBoAACQZVoAkG1aggCAagAAkGNaAJBsWoIAgHEAAJBhWgCQalqCAIBmAACAbwAAgGwAAJBQWgCQXFqCAIBlAACAbQAAkFhaAJBaWgCQZFqCAIBjAACAWgAAkGNaggCAYQAAgGoAAIBkAACQW1qCAIBQAACAXAAAkF1aggCAWAAAkF9aAJBiWoIAgGMAggCAWwCCAIBdAIIAgF8AAIBiAIgA/y8A');\n",
       "                        });\n",
       "                </script>"
      ],
      "text/plain": [
       "<IPython.core.display.HTML object>"
      ]
     },
     "metadata": {},
     "output_type": "display_data"
    }
   ],
   "source": [
    "midi.show('midi')"
   ]
  },
  {
   "cell_type": "code",
   "execution_count": null,
   "metadata": {},
   "outputs": [],
   "source": [
    "file = 'tmp/tmp.midi'"
   ]
  },
  {
   "cell_type": "code",
   "execution_count": null,
   "metadata": {},
   "outputs": [],
   "source": [
    " midi = converter.parse(file)"
   ]
  },
  {
   "cell_type": "code",
   "execution_count": null,
   "metadata": {},
   "outputs": [],
   "source": [
    "midi.show('midi')"
   ]
  },
  {
   "cell_type": "code",
   "execution_count": null,
   "metadata": {},
   "outputs": [],
   "source": [
    "midi.show()"
   ]
  },
  {
   "cell_type": "markdown",
   "metadata": {},
   "source": [
    "# check "
   ]
  },
  {
   "cell_type": "code",
   "execution_count": null,
   "metadata": {},
   "outputs": [],
   "source": [
    "part0 = parts[0]"
   ]
  },
  {
   "cell_type": "code",
   "execution_count": null,
   "metadata": {},
   "outputs": [],
   "source": [
    "'Piano' in part0.getInstrument().names['en']"
   ]
  },
  {
   "cell_type": "code",
   "execution_count": null,
   "metadata": {},
   "outputs": [],
   "source": [
    "part0.getInstrument().instrumentName"
   ]
  },
  {
   "cell_type": "code",
   "execution_count": null,
   "metadata": {},
   "outputs": [],
   "source": [
    " partitioned = instrument.partitionByInstrument(midi)"
   ]
  }
 ],
 "metadata": {
  "kernelspec": {
   "display_name": "test",
   "language": "python",
   "name": "test"
  },
  "language_info": {
   "codemirror_mode": {
    "name": "ipython",
    "version": 3
   },
   "file_extension": ".py",
   "mimetype": "text/x-python",
   "name": "python",
   "nbconvert_exporter": "python",
   "pygments_lexer": "ipython3",
   "version": "3.7.3"
  }
 },
 "nbformat": 4,
 "nbformat_minor": 2
}
