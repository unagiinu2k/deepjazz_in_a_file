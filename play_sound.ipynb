{
 "cells": [
  {
   "cell_type": "code",
   "execution_count": 2,
   "metadata": {},
   "outputs": [],
   "source": [
    "from IPython.display import Audio"
   ]
  },
  {
   "cell_type": "markdown",
   "metadata": {},
   "source": [
    "Audio(filename = 'tmp/tmp.midi')"
   ]
  },
  {
   "cell_type": "code",
   "execution_count": 3,
   "metadata": {},
   "outputs": [],
   "source": [
    "from music21 import *"
   ]
  },
  {
   "cell_type": "code",
   "execution_count": 12,
   "metadata": {},
   "outputs": [],
   "source": [
    "file = 'tmp/tmp.midi'"
   ]
  },
  {
   "cell_type": "code",
   "execution_count": 13,
   "metadata": {},
   "outputs": [],
   "source": [
    " midi = converter.parse(file)"
   ]
  },
  {
   "cell_type": "code",
   "execution_count": 14,
   "metadata": {},
   "outputs": [
    {
     "data": {
      "text/html": [
       "\n",
       "                <div id='midiPlayerDiv4020'></div>\n",
       "                <link rel=\"stylesheet\" href=\"//cuthbertLab.github.io/music21j/css/m21.css\"\n",
       "                    type=\"text/css\" />\n",
       "                <script>\n",
       "                require.config({\n",
       "                    paths: {'music21': '//cuthbertLab.github.io/music21j/src/music21'}\n",
       "                });\n",
       "                require(['music21'], function() {\n",
       "                               mp = new music21.miditools.MidiPlayer();\n",
       "                               mp.addPlayer('#midiPlayerDiv4020');\n",
       "                               mp.base64Load('data:audio/midi;base64,TVRoZAAAAAYAAQABBABNVHJrAAACgQD/AwAA4ABAAJBQWoQAkFJahACAUAAAgFIAhACQUVqEAIBRAIQAkFJahACAUgCEAJBOWoQAkFJahACATgAAkE9ahACAUgAAkFFahACATwAAgFEAhACQUVqEAIBRAACQUFqEAIBQAIQAkE9ahACQUFqEAIBPAACAUACEAJBPWoQAgE8AhACQUVqEAJBQWoQAgFEAAJBRWoQAgFAAAJBSWoQAgFEAAJBQWoQAgFIAAIBQAIQAkE9ahACQUlqEAIBPAACAUgCEAJBQWoQAkFFahACAUAAAkFJahACAUQAAgFIAhACQTlqEAJBPWoQAgE4AAIBPAIQAkFFahACQTVqEAIBRAACQUlqEAIBNAACQUFqEAIBSAACAUACEAJBOWoQAkE9ahACATgAAgE8AhACQT1qEAIBPAACQTlqEAJBPWoQAgE4AAJBOWoQAgE8AAIBOAIQAkE5ahACATgAAkE5ahACATgAAkE1ahACATQCEAJBMWoQAgEwAhACQSlqEAJBOWoQAgEoAAJBJWoQAgE4AAJBNWoQAgEkAAIBNAIQAkExahACATACEAJBMWoQAgEwAAJBMWoQAgEwAAJBNWoQAkExahACATQAAgEwAhACQTFqEAIBMAACQTVqEAIBNAIQAkExahACATACEAJBNWoQAkExahACATQAAgEwAhACQTlqEAJBMWoQAgE4AAIBMAIQAkE1ahACATQCEAJBNWoQAgE0AAJBNWoQAgE0AAJBNWoQAgE0AAJBJWoQAkE1ahACASQAAkExahACATQAAkEtahACATAAAgEsAhACQTFqEAJBIWoQAgEwAAJBMWoQAgEgAAJBLWoQAgEwAAIBLAIgA/y8A');\n",
       "                        });\n",
       "                </script>"
      ],
      "text/plain": [
       "<IPython.core.display.HTML object>"
      ]
     },
     "metadata": {},
     "output_type": "display_data"
    }
   ],
   "source": [
    "midi.show('midi')"
   ]
  },
  {
   "cell_type": "code",
   "execution_count": 12,
   "metadata": {},
   "outputs": [],
   "source": [
    "file = 'tmp/rnn_generated.midi' "
   ]
  },
  {
   "cell_type": "code",
   "execution_count": 13,
   "metadata": {},
   "outputs": [],
   "source": [
    " midi = converter.parse(file)"
   ]
  },
  {
   "cell_type": "code",
   "execution_count": 14,
   "metadata": {},
   "outputs": [
    {
     "data": {
      "text/html": [
       "\n",
       "                <div id='midiPlayerDiv4720'></div>\n",
       "                <link rel=\"stylesheet\" href=\"//cuthbertLab.github.io/music21j/css/m21.css\"\n",
       "                    type=\"text/css\" />\n",
       "                <script>\n",
       "                require.config({\n",
       "                    paths: {'music21': '//cuthbertLab.github.io/music21j/src/music21'}\n",
       "                });\n",
       "                require(['music21'], function() {\n",
       "                               mp = new music21.miditools.MidiPlayer();\n",
       "                               mp.addPlayer('#midiPlayerDiv4720');\n",
       "                               mp.base64Load('data:audio/midi;base64,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');\n",
       "                        });\n",
       "                </script>"
      ],
      "text/plain": [
       "<IPython.core.display.HTML object>"
      ]
     },
     "metadata": {},
     "output_type": "display_data"
    }
   ],
   "source": [
    "midi.show('midi')"
   ]
  },
  {
   "cell_type": "code",
   "execution_count": null,
   "metadata": {},
   "outputs": [],
   "source": []
  }
 ],
 "metadata": {
  "kernelspec": {
   "display_name": "test",
   "language": "python",
   "name": "test"
  },
  "language_info": {
   "codemirror_mode": {
    "name": "ipython",
    "version": 3
   },
   "file_extension": ".py",
   "mimetype": "text/x-python",
   "name": "python",
   "nbconvert_exporter": "python",
   "pygments_lexer": "ipython3",
   "version": "3.7.3"
  }
 },
 "nbformat": 4,
 "nbformat_minor": 2
}
